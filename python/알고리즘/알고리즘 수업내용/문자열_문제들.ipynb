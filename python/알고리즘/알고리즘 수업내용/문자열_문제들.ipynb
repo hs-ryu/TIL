{
  "nbformat": 4,
  "nbformat_minor": 0,
  "metadata": {
    "colab": {
      "name": "문자열_문제들.ipynb",
      "provenance": [],
      "collapsed_sections": [],
      "toc_visible": true
    },
    "kernelspec": {
      "name": "python3",
      "display_name": "Python 3"
    }
  },
  "cells": [
    {
      "cell_type": "markdown",
      "metadata": {
        "id": "igUlJuhoXzCi"
      },
      "source": [
        "## 4864 문자열 비교"
      ]
    },
    {
      "cell_type": "code",
      "metadata": {
        "id": "rPTzy24gn3_5"
      },
      "source": [
        "# 11550 문자열 비교\r\n",
        " \r\n",
        "T = int(input())\r\n",
        " \r\n",
        "for test_case in range(1, T+1):\r\n",
        "    str1 = input()\r\n",
        "    str2 = input()\r\n",
        "    isitequal = 0 \r\n",
        "    for i in range(len(str2) - len(str1) + 1):\r\n",
        "        if str2[i] == str1[0]:\r\n",
        "            num = 0\r\n",
        "            for k in range(len(str1)):\r\n",
        "                if str2[i+k] == str1[k]:\r\n",
        "                    num += 1\r\n",
        "            if num == len(str1):\r\n",
        "                isitequal = 1\r\n",
        "                break\r\n",
        "     \r\n",
        "    print('#%d %d' % (test_case, isitequal))"
      ],
      "execution_count": null,
      "outputs": []
    },
    {
      "cell_type": "code",
      "metadata": {
        "id": "sIXTdmC0ohg5"
      },
      "source": [
        "# 11550 문자열 비교\r\n",
        " \r\n",
        "T = int(input())\r\n",
        " \r\n",
        "for test_case in range(1, T+1):\r\n",
        "    str1 = input()\r\n",
        "    str2 = input()\r\n",
        "    \r\n",
        "    isitequal = 0 \r\n",
        "    for i in range(len(str2) - len(str1) + 1):\r\n",
        "        if str2[i] == str1[0]:\r\n",
        "            for k in range(len(str1)):\r\n",
        "                if str2[i+k] != str1[k]:\r\n",
        "                    break\r\n",
        "            else:\r\n",
        "                isitequal = 1\r\n",
        "                break\r\n",
        "     \r\n",
        "    print('#%d %d' % (test_case, isitequal))"
      ],
      "execution_count": null,
      "outputs": []
    },
    {
      "cell_type": "code",
      "metadata": {
        "id": "FQ_oFewNoTD3"
      },
      "source": [
        "def str_cmp(str1, str2):\r\n",
        "    # 두 문자열의 길이\r\n",
        "    N = len(str1)\r\n",
        "    M = len(str2)\r\n",
        "    for i in range(M-N+1):\r\n",
        "        for j in range(N):\r\n",
        "            if str2[i+j] != str1[j]:\r\n",
        "                break\r\n",
        "        else:\r\n",
        "            return 1\r\n",
        "\r\n",
        "    return 0\r\n",
        " \r\n",
        "T = int(input())\r\n",
        " \r\n",
        "for t in range(1, T+1):\r\n",
        "    # 두 문자열\r\n",
        "    str1 = input()\r\n",
        "    str2 = input()\r\n",
        " \r\n",
        "    print('#%d %d' % (t, str_cmp(str1, str2)))"
      ],
      "execution_count": null,
      "outputs": []
    },
    {
      "cell_type": "code",
      "metadata": {
        "id": "K2EfMo5KoBQu"
      },
      "source": [
        "def string_compare(a, b):\r\n",
        "    n = len(a)\r\n",
        "    m = len(b)\r\n",
        "    for i in range(m-n+1):\r\n",
        "        if a == b[i:i+n]:\r\n",
        "            return 1\r\n",
        "    return 0\r\n",
        " \r\n",
        "T = int(input())\r\n",
        "for t in range(1, T+1):\r\n",
        "    str1 = input()\r\n",
        "    str2 = input()\r\n",
        "    ans = string_compare(str1, str2)\r\n",
        "    print('#%d %d' % (t, ans))"
      ],
      "execution_count": null,
      "outputs": []
    },
    {
      "cell_type": "code",
      "metadata": {
        "colab": {
          "base_uri": "https://localhost:8080/"
        },
        "id": "vNff7Q6UmUYR",
        "outputId": "01287c11-f92c-46ba-9ce8-160f753dce5b"
      },
      "source": [
        "a = 'ZZZZZABCZZABC'\r\n",
        "b = 'ABC'\r\n",
        "a.count(b)  # 몇 개나 있니??"
      ],
      "execution_count": null,
      "outputs": [
        {
          "output_type": "execute_result",
          "data": {
            "text/plain": [
              "2"
            ]
          },
          "metadata": {
            "tags": []
          },
          "execution_count": 2
        }
      ]
    },
    {
      "cell_type": "markdown",
      "metadata": {
        "id": "_9hMiFt2nK3P"
      },
      "source": [
        "## 4861 회문"
      ]
    },
    {
      "cell_type": "code",
      "metadata": {
        "id": "LH0cUniqnKrn"
      },
      "source": [
        "TC = int(input())\r\n",
        " \r\n",
        "for tc in range(1, TC+1):\r\n",
        "    N, M = map(int, input().split())\r\n",
        "    result = []\r\n",
        " \r\n",
        "    #가로줄 확인\r\n",
        "    Garo_lst = []\r\n",
        "    for i in range(N):\r\n",
        "        Data = input()\r\n",
        "        Garo_lst.append(Data)\r\n",
        "        for i in range(len(Data)-M+1):\r\n",
        "            if Data[i:M+i] == Data[i:M+i][::-1]:\r\n",
        "                result.append(Data[i:M+i])\r\n",
        " \r\n",
        "    #세로줄 확인\r\n",
        "    Sero_lst = []\r\n",
        "    Sero_sub_lst = ''\r\n",
        "    for x in range(N):\r\n",
        "        for y in Garo_lst:\r\n",
        "            Sero_sub_lst += y[x]\r\n",
        "        Sero_lst.append(Sero_sub_lst)\r\n",
        "        Sero_sub_lst =''\r\n",
        " \r\n",
        "    for sero_data in Sero_lst:\r\n",
        "        for j in range(len(sero_data)-M+1):\r\n",
        "            if sero_data[j:M+j] == sero_data[j:M+j][::-1]:\r\n",
        "                result.append(sero_data[j:M+j])\r\n",
        " \r\n",
        "    # print(result)\r\n",
        "    print(\"#%d %s\"%(tc, result[0]))"
      ],
      "execution_count": null,
      "outputs": []
    },
    {
      "cell_type": "code",
      "metadata": {
        "id": "Ke3n-k11nKow"
      },
      "source": [
        "TC = int(input())\r\n",
        " \r\n",
        "for tc in range(1, TC+1):\r\n",
        "    N, M = map(int, input().split())\r\n",
        "    result = []\r\n",
        " \r\n",
        "    #가로줄 확인\r\n",
        "    Garo_lst = []\r\n",
        "    # 입력을 받으면서 처리하는 경우의 위험성은??\r\n",
        "    # 만일 입력도중 회문을 찾은 경우, break/return 등으로 입력을 중단하게 되면\r\n",
        "    # 남은 입력 데이터가 다음 testcase에서 사용되어 정상적 동작이 되지 않음\r\n",
        "    # 입력, 처리, 출력 => 분리해서 작업하는 것이 좋다\r\n",
        "    for i in range(N):\r\n",
        "        Data = input()\r\n",
        "        Garo_lst.append(Data)\r\n",
        "        for i in range(len(Data)-M+1):\r\n",
        "            if Data[i:M+i] == Data[i:M+i][::-1]:\r\n",
        "                result.append(Data[i:M+i])\r\n",
        "\r\n",
        "    if not result:\r\n",
        "        #세로줄 확인\r\n",
        "        Sero_lst = []\r\n",
        "        Sero_sub_lst = ''\r\n",
        "        for x in range(N):\r\n",
        "            for y in Garo_lst:\r\n",
        "                Sero_sub_lst += y[x]\r\n",
        "            Sero_lst.append(Sero_sub_lst)\r\n",
        "            Sero_sub_lst =''\r\n",
        "    \r\n",
        "        for sero_data in Sero_lst:\r\n",
        "            for j in range(len(sero_data)-M+1):\r\n",
        "                if sero_data[j:M+j] == sero_data[j:M+j][::-1]:\r\n",
        "                    result.append(sero_data[j:M+j])\r\n",
        " \r\n",
        "    # print(result)\r\n",
        "    print(\"#%d %s\"%(tc, result[0]))"
      ],
      "execution_count": null,
      "outputs": []
    },
    {
      "cell_type": "code",
      "metadata": {
        "id": "-45Tc6U_OACo"
      },
      "source": [
        "def is_pallindrome(word):\r\n",
        "    for i in range(len(word) // 2):\r\n",
        "        if word[i] != word[-1 - i]:\r\n",
        "            return False\r\n",
        "    return True\r\n",
        " \r\n",
        " \r\n",
        "def find_pallindrome(words, text):\r\n",
        "    idx = 0\r\n",
        "    for word in words:\r\n",
        "        for i in range(len(word) - text + 1):\r\n",
        "            if is_pallindrome(word[i: i + text]):\r\n",
        "                return ''.join(word[i: i + text])\r\n",
        "    return None\r\n",
        "\r\n",
        "T = int(input()) \r\n",
        "for tc in range(1, 1 + T):\r\n",
        "    n, m = map(int, input().split())\r\n",
        "    data = [list(input()) for _ in range(n)]\r\n",
        "    sol = find_pallindrome(data, m)\r\n",
        "    if sol == None:\r\n",
        "        data2 = list(zip(*data))\r\n",
        "        sol = find_pallindrome(data2, m)\r\n",
        "    print('#%d %s' % (tc, sol))"
      ],
      "execution_count": null,
      "outputs": []
    },
    {
      "cell_type": "code",
      "metadata": {
        "id": "jcsNc6GAsete"
      },
      "source": [
        "\r\n",
        "def reverse_word(words, N, M):\r\n",
        "    # 가로체크\r\n",
        "    for i in range(N):\r\n",
        "        # 체크하는 단어의 시작점 인덱스\r\n",
        "        for j in range(0, N-M+1):\r\n",
        "            start, end = j, j+M-1\r\n",
        "            # 단어가 동일한지 체크: 단어의 가운데까지만 체크하면됨\r\n",
        "            for k in range(M//2+1):\r\n",
        "                if words[i][start] != words[i][end]:\r\n",
        "                    break\r\n",
        "                start += 1\r\n",
        "                end -= 1\r\n",
        "            else:\r\n",
        "                # result = \"\"\r\n",
        "                # for j in range(j, j+M):\r\n",
        "                #     result += words[i][j]\r\n",
        "                return ''.join(words[i][j:j+M])\r\n",
        "     \r\n",
        "    # 세로체크\r\n",
        "    for j in range(N):\r\n",
        "        # 체크하는 단어의 시작점 인덱스\r\n",
        "        for i in range(0, N-M+1):\r\n",
        "            start, end = i, i+M-1\r\n",
        "            # 단어가 동일한지 체크: 단어의 가운데까지만 체크하면됨\r\n",
        "            for k in range(M//2+1):\r\n",
        "                if words[start][j] != words[end][j]:\r\n",
        "                    break\r\n",
        "                start += 1\r\n",
        "                end -= 1\r\n",
        "            else:\r\n",
        "                result = \"\"\r\n",
        "                for i in range(i, i+M):\r\n",
        "                    result += words[i][j]\r\n",
        "                return(result)\r\n",
        "\r\n",
        "T = int(input())             \r\n",
        "for tc in range(1, T+1):\r\n",
        "    # input 받기\r\n",
        "    N, M = map(int, input().split())\r\n",
        "    words = []\r\n",
        "    for _ in range(N):\r\n",
        "        lst = []\r\n",
        "        lst.extend(input())  # 문자를 하나씩 들어가도록\r\n",
        "        words.append(lst)\r\n",
        "    result = reverse_word(words, N, M)\r\n",
        "    print(\"#%d %s\" % (tc, result))"
      ],
      "execution_count": null,
      "outputs": []
    },
    {
      "cell_type": "markdown",
      "metadata": {
        "id": "vt9aWeBjxflp"
      },
      "source": [
        "### 코드 성능 비교 - %timeit 사용"
      ]
    },
    {
      "cell_type": "code",
      "metadata": {
        "id": "iJGs0xBmw6Ts"
      },
      "source": [
        "def func1(msg):\r\n",
        "    lst = []\r\n",
        "    lst.extend(msg)"
      ],
      "execution_count": null,
      "outputs": []
    },
    {
      "cell_type": "code",
      "metadata": {
        "colab": {
          "base_uri": "https://localhost:8080/"
        },
        "id": "s3Q-a9pCwfAN",
        "outputId": "e6a69fad-a15d-4e0e-fc5d-efd55893bfa5"
      },
      "source": [
        "%timeit func1('abcdefghijklmnopqrstuvwxyzabcdefghijklmnopqrstuvwxyzabcdefghijklmnopqrstuvwxyzabcdefghijklmnopqrstuvwxyz')"
      ],
      "execution_count": null,
      "outputs": [
        {
          "output_type": "stream",
          "text": [
            "The slowest run took 5.35 times longer than the fastest. This could mean that an intermediate result is being cached.\n",
            "1000000 loops, best of 3: 868 ns per loop\n"
          ],
          "name": "stdout"
        }
      ]
    },
    {
      "cell_type": "code",
      "metadata": {
        "id": "XaAkoijgxAjK"
      },
      "source": [
        "def func2(msg):\r\n",
        "    lst = list(msg)"
      ],
      "execution_count": null,
      "outputs": []
    },
    {
      "cell_type": "code",
      "metadata": {
        "colab": {
          "base_uri": "https://localhost:8080/"
        },
        "id": "iImoBhsLxGNw",
        "outputId": "c21fab06-8435-4941-cf06-1ef489b3767b"
      },
      "source": [
        "%timeit func2('abcdefghijklmnopqrstuvwxyzabcdefghijklmnopqrstuvwxyzabcdefghijklmnopqrstuvwxyzabcdefghijklmnopqrstuvwxyz')"
      ],
      "execution_count": null,
      "outputs": [
        {
          "output_type": "stream",
          "text": [
            "The slowest run took 8.60 times longer than the fastest. This could mean that an intermediate result is being cached.\n",
            "1000000 loops, best of 3: 928 ns per loop\n"
          ],
          "name": "stdout"
        }
      ]
    },
    {
      "cell_type": "markdown",
      "metadata": {
        "id": "4rr1xvdf3QuP"
      },
      "source": [
        "## 4865_글자수"
      ]
    },
    {
      "cell_type": "code",
      "metadata": {
        "id": "1-UtZWZ36Uk4"
      },
      "source": [
        "좌표를 입력 A 3\r\n",
        "'A' -> 0\r\n",
        "'B' -> 1"
      ],
      "execution_count": null,
      "outputs": []
    },
    {
      "cell_type": "code",
      "metadata": {
        "colab": {
          "base_uri": "https://localhost:8080/"
        },
        "id": "4JsJj0UD7JrN",
        "outputId": "ff2020f9-7988-4afe-ad27-a9fbcf8c8e8d"
      },
      "source": [
        "def get_cnt(arr):\r\n",
        "    cnt = [0] * 26\r\n",
        "    for a in arr:\r\n",
        "        cnt[ord(a) - ord('A')] += 1\r\n",
        "    return cnt\r\n",
        "\r\n",
        "A = 'ABCABCDE'\r\n",
        "get_cnt(A)"
      ],
      "execution_count": null,
      "outputs": [
        {
          "output_type": "execute_result",
          "data": {
            "text/plain": [
              "[2, 2, 2, 1, 1, 0, 0, 0, 0, 0, 0, 0, 0, 0, 0, 0, 0, 0, 0, 0, 0, 0, 0, 0, 0, 0]"
            ]
          },
          "metadata": {
            "tags": []
          },
          "execution_count": 9
        }
      ]
    },
    {
      "cell_type": "code",
      "metadata": {
        "id": "11ju8_s55EvH"
      },
      "source": [
        "def get_cnt(arr):\r\n",
        "    cnt = [0] * 26\r\n",
        "    for a in arr:\r\n",
        "        cnt[ord(a) - ord('A')] += 1\r\n",
        "    return cnt\r\n",
        "\r\n",
        "def get_max_cnt(arr, brr):\r\n",
        "    max_cnt = 0\r\n",
        "    for i in range(26):\r\n",
        "        if arr[i] > 0 and brr[i] > 0:\r\n",
        "            if brr[i] > max_cnt:\r\n",
        "                max_cnt = brr[i]\r\n",
        "    return max_cnt\r\n",
        "\r\n",
        "T = int(input())\r\n",
        "for t in range(1, T+1):\r\n",
        "    A = input()\r\n",
        "    B = input()\r\n",
        "    a_cnt = get_cnt(set(A))\r\n",
        "    b_cnt = get_cnt(B)\r\n",
        "    ans = get_max_cnt(a_cnt, b_cnt)\r\n",
        "    print('#%d %d' % (t, ans))"
      ],
      "execution_count": null,
      "outputs": []
    },
    {
      "cell_type": "code",
      "metadata": {
        "id": "3HqqRPp-3k7s"
      },
      "source": [
        "# 코드 짧음 - 시간 더 걸림 이유는?\r\n",
        "# set(str1)을 사용하면 성능이 좋아지는지 확인요청드립니다 = > 좋아짐\r\n",
        "for t in range(1, int(input())+1):\r\n",
        "    str1, str2 = input(), input()\r\n",
        "    counts = [str2.count(x) for x in set(str1)]\r\n",
        "    print('#%s %s' % (t, max(counts)))"
      ],
      "execution_count": null,
      "outputs": []
    },
    {
      "cell_type": "code",
      "metadata": {
        "id": "lJSaJJcB4bLH"
      },
      "source": [
        "# \r\n",
        "T = int(input())\r\n",
        "for test_case in range(1, T+1):\r\n",
        "    str1 = list(set(input()))\r\n",
        "    str2 = input()\r\n",
        "    N = len(str1)\r\n",
        "    M = len(str2)\r\n",
        " \r\n",
        "    lst = []\r\n",
        "    for i in range(N):\r\n",
        "        cnt = 0\r\n",
        "        for j in range(M):\r\n",
        "            if str1[i] == str2[j]:\r\n",
        "                cnt += 1\r\n",
        "        lst.append(cnt)\r\n",
        " \r\n",
        "    max_v = lst[0]\r\n",
        "    for i in lst:\r\n",
        "        if i > max_v:\r\n",
        "            max_v = i\r\n",
        "    print('#%d %d' % (test_case, max_v))"
      ],
      "execution_count": null,
      "outputs": []
    },
    {
      "cell_type": "code",
      "metadata": {
        "colab": {
          "base_uri": "https://localhost:8080/"
        },
        "id": "kzgeubQH4BrK",
        "outputId": "b9f86f88-8d99-44b4-d16f-ae17f745adb0"
      },
      "source": [
        "T = 1 #int(input())\r\n",
        "for t in range(1, T+1):\r\n",
        "    str1 = 'AAAAAAAABBBBBBBBBBCCCCCCDDDDDDDAAAAAAAAABBBBBBCCCCCCCDDDDDDAAAAAAAABBBBBBBBBBCCCCCCDDDDDDDAAAAA'#input()\r\n",
        "    str2 = 'ABCDEFGHIJKLMNOPQRSTUVWXYZABCDEFGHIJKLMNOPQRSTUVWXYZABCDEFGHIJKLMNOPQRSTUVWXYZABCDEFGHIJKLMNOPQRSTUVWXYZABCDEFGHIJKLMNOPQRSTUVWXYZABCDEFGHIJKLMNOPQRSTUVWXYZABCDEFGHIJKLMNOPQRS' #input()\r\n",
        " \r\n",
        "    str_dict = dict.fromkeys(str1, 0)\r\n",
        "    print(str_dict)\r\n",
        "\r\n",
        "    for key in str2:\r\n",
        "        if key in str_dict.keys():\r\n",
        "            str_dict[key] += 1\r\n",
        " \r\n",
        "    ans = max(str_dict.values())\r\n",
        "    print('#%d %d' % (t, ans))"
      ],
      "execution_count": null,
      "outputs": [
        {
          "output_type": "stream",
          "text": [
            "{'A': 0, 'B': 0, 'C': 0, 'D': 0}\n",
            "#1 7\n"
          ],
          "name": "stdout"
        }
      ]
    },
    {
      "cell_type": "code",
      "metadata": {
        "colab": {
          "base_uri": "https://localhost:8080/"
        },
        "id": "FEmme_rM3XRy",
        "outputId": "08dd0a47-61ae-4fa2-fbd4-6a3e6208c0be"
      },
      "source": [
        "T = 1 #int(input()) # 1<= T <= 50\r\n",
        " \r\n",
        "for t in range(1, T+1):\r\n",
        "    #char = set(input())   #  dict.fromkeys()에서 중복제거가 되므로 안해도 됨\r\n",
        "    #in_text = input()\r\n",
        "    char = 'AAAAAAAABBBBBBBBBBCCCCCCDDDDDDDAAAAAAAAABBBBBBCCCCCCCDDDDDDAAAAAAAABBBBBBBBBBCCCCCCDDDDDDDAAAAA'#input()\r\n",
        "    in_text = 'ABCDEFGHIJKLMNOPQRSTUVWXYZABCDEFGHIJKLMNOPQRSTUVWXYZABCDEFGHIJKLMNOPQRSTUVWXYZABCDEFGHIJKLMNOPQRSTUVWXYZABCDEFGHIJKLMNOPQRSTUVWXYZABCDEFGHIJKLMNOPQRSTUVWXYZABCDEFGHIJKLMNOPQRS' #input()\r\n",
        "    \r\n",
        "    counts = dict.fromkeys(char, 0)\r\n",
        " \r\n",
        "    for i in in_text:\r\n",
        "        try:\r\n",
        "            counts[i] += 1\r\n",
        "        except:\r\n",
        "            #print(i, end= ' ')\r\n",
        "            continue\r\n",
        "     \r\n",
        "    ans = max(counts.values())\r\n",
        "    print('#%d %d' % (t, ans))"
      ],
      "execution_count": null,
      "outputs": [
        {
          "output_type": "stream",
          "text": [
            "E F G H I J K L M N O P Q R S T U V W X Y Z E F G H I J K L M N O P Q R S T U V W X Y Z E F G H I J K L M N O P Q R S T U V W X Y Z E F G H I J K L M N O P Q R S T U V W X Y Z E F G H I J K L M N O P Q R S T U V W X Y Z E F G H I J K L M N O P Q R S T U V W X Y Z E F G H I J K L M N O P Q R S #1 7\n"
          ],
          "name": "stdout"
        }
      ]
    },
    {
      "cell_type": "code",
      "metadata": {
        "id": "tmXSJ-yS34Z2"
      },
      "source": [
        "def check(a,b):\r\n",
        "  #d = dict()\r\n",
        "  #for i in a:\r\n",
        "  #  if i not in d:\r\n",
        "  #    d[i]=0\r\n",
        "  d = dict.fromkeys(a, 0)\r\n",
        "\r\n",
        "  for temp in d.keys():\r\n",
        "    d[temp] = b.count(temp)\r\n",
        "\r\n",
        "  #maxx=0   \r\n",
        "  #for val in d.values():\r\n",
        "  #  maxx= max(val,maxx)\r\n",
        "  return max(counts.values())\r\n",
        "\r\n",
        "t = int(input())\r\n",
        "for testcase in range(t):\r\n",
        "  a= input()\r\n",
        "  b= input()\r\n",
        "  print(\"#\",end=\"\")\r\n",
        "  print(testcase+1,end=\" \")\r\n",
        "  print(check(a,b),end=\"\\n\")"
      ],
      "execution_count": null,
      "outputs": []
    },
    {
      "cell_type": "code",
      "metadata": {
        "id": "eBQV7NgXLvm6"
      },
      "source": [
        "try - except 하고 if문하고 무엇이 더 효율적인가요?"
      ],
      "execution_count": null,
      "outputs": []
    },
    {
      "cell_type": "markdown",
      "metadata": {
        "id": "0hVWWNeDLbLQ"
      },
      "source": [
        "## 3143 가장 빠른 문자열 타이핑"
      ]
    },
    {
      "cell_type": "code",
      "metadata": {
        "id": "kYiHjudYLdVO"
      },
      "source": [
        "T = int(input())\r\n",
        "for t in range(1, T+1):\r\n",
        "    A, B = input().split()\r\n",
        "    result = len(A) - A.count(B)*(len(B)-1)\r\n",
        "    print('#%d %d' %(t,result))"
      ],
      "execution_count": null,
      "outputs": []
    },
    {
      "cell_type": "code",
      "metadata": {
        "id": "MNXzz3WkNJ0V"
      },
      "source": [
        "T = int(input())\r\n",
        " \r\n",
        "for tc in range(1, 1 + T):\r\n",
        "    A, B = input().split() \r\n",
        "    C = A.replace(B, '0')\r\n",
        "    print('#{} {}' .format(tc, len(C)))"
      ],
      "execution_count": null,
      "outputs": []
    },
    {
      "cell_type": "code",
      "metadata": {
        "id": "rgf8uxujMWLw"
      },
      "source": [
        "# 3143 가장 빠른 문자열 타이핑 \r\n",
        "# A \r\n",
        "T = 1 #int(input()) \r\n",
        "for test_case in range(1, T+1):\r\n",
        "    A, B = 'asabkusaba', 'sab' # input().split()\r\n",
        "    print(A, B)\r\n",
        "    repeat = 0    #  A.count(B)*(len(B)-1) \r\n",
        "    i = 0\r\n",
        "    while i < len(A) - len(B) + 1:\r\n",
        "        for j in range(len(B)):\r\n",
        "            if A[i+j] != B[j]:\r\n",
        "                break\r\n",
        "        else:\r\n",
        "            # else문에 걸렸을 때 i += len(B)를 더한 것처럼 계산하기 위한 식입니다. \r\n",
        "            # i += len(B) 대신 i += 1을 사용하면, A=aaaa, B=aa같은 경우를 탐지하지 못하더라구요.\r\n",
        "            repeat += (len(B) - 1)\r\n",
        "            i += (len(B) - 1)            \r\n",
        "        i += 1\r\n",
        "        print(repeat, i)\r\n",
        "\r\n",
        "        result = len(A) - repeat\r\n",
        "    print('#%d %d' % (test_case, result))"
      ],
      "execution_count": null,
      "outputs": []
    },
    {
      "cell_type": "code",
      "metadata": {
        "colab": {
          "base_uri": "https://localhost:8080/"
        },
        "id": "dpp3ti6XM282",
        "outputId": "c2927caa-cabe-4088-f0f6-49feb2cce2e9"
      },
      "source": [
        "# B\r\n",
        "\r\n",
        "for t in range(1, 2):\r\n",
        "    # A, B = input().split()\r\n",
        "    A, B = 'asabkusabaa', 'sab'\r\n",
        "    print(A, B)\r\n",
        "    a = len(A)\r\n",
        "    b = len(B)\r\n",
        "    idx = 0\r\n",
        "    cnt = 0\r\n",
        "    while idx < a-b+1:\r\n",
        "        #if A[idx:idx+b] == B:\r\n",
        "        #    idx += b\r\n",
        "        #else:\r\n",
        "        #    idx += 1\r\n",
        "        idx += b if A[idx:idx+b] == B else 1\r\n",
        "        cnt += 1\r\n",
        "        print(cnt, idx)\r\n",
        "\r\n",
        "    #마지막에 해당하는 단어가 있을경우엔 패스하고 아닌경우에는 추가로 적어야하는 cnt를 증가시켰습니다    \r\n",
        "    if A[-b:] == B and idx == b:\r\n",
        "        pass\r\n",
        "    else:\r\n",
        "        cnt += a-idx  # A의 길이 - idx  10 - 9\r\n",
        " \r\n",
        "    print(\"#%d %d\" %(t, cnt))"
      ],
      "execution_count": null,
      "outputs": [
        {
          "output_type": "stream",
          "text": [
            "asabkusabaa sab\n",
            "1 1\n",
            "2 4\n",
            "3 5\n",
            "4 6\n",
            "5 9\n",
            "#1 7\n"
          ],
          "name": "stdout"
        }
      ]
    },
    {
      "cell_type": "code",
      "metadata": {
        "id": "Bf5n37QcSQjr"
      },
      "source": [
        "def get_solution(a, b):\r\n",
        "    len_a = len(a)\r\n",
        "    len_b = len(b)\r\n",
        "    i, cnt = 0, 0\r\n",
        "    while i < len_a:\r\n",
        "        i += len_b if a[i:i+len_b] == b else 1\r\n",
        "        cnt += 1\r\n",
        "    return cnt\r\n",
        "\r\n",
        "T = int(input())\r\n",
        "for t in range(1, T+1):\r\n",
        "    a, b = input().split()\r\n",
        "    cnt = get_solution(a, b)\r\n",
        "    print('#%d %d' % (t, cnt))\r\n"
      ],
      "execution_count": null,
      "outputs": []
    },
    {
      "cell_type": "code",
      "metadata": {
        "colab": {
          "base_uri": "https://localhost:8080/",
          "height": 35
        },
        "id": "ktgy4byETGyY",
        "outputId": "f30e8c56-f53e-4a52-f063-1b2ce9f958cd"
      },
      "source": [
        "a = 'ABCDEF'\r\n",
        "a[4:4+5]  # slicing  (IndexError 없음)"
      ],
      "execution_count": null,
      "outputs": [
        {
          "output_type": "execute_result",
          "data": {
            "application/vnd.google.colaboratory.intrinsic+json": {
              "type": "string"
            },
            "text/plain": [
              "'EF'"
            ]
          },
          "metadata": {
            "tags": []
          },
          "execution_count": 21
        }
      ]
    },
    {
      "cell_type": "code",
      "metadata": {
        "colab": {
          "base_uri": "https://localhost:8080/"
        },
        "id": "qis05eN0TkFH",
        "outputId": "0e9b3fd4-3f26-44b8-a6b5-fdde9bbe1bf5"
      },
      "source": [
        "a = ['A']\r\n",
        "a.insert(10000, 'B')  # (IndexError 없음)\r\n",
        "a"
      ],
      "execution_count": null,
      "outputs": [
        {
          "output_type": "execute_result",
          "data": {
            "text/plain": [
              "['A', 'B']"
            ]
          },
          "metadata": {
            "tags": []
          },
          "execution_count": 26
        }
      ]
    },
    {
      "cell_type": "code",
      "metadata": {
        "id": "8WATG82cTU_A"
      },
      "source": [
        "a = 'ABCDEF'\r\n",
        "a[9]   # subscription - IndexError"
      ],
      "execution_count": null,
      "outputs": []
    },
    {
      "cell_type": "markdown",
      "metadata": {
        "id": "mS1bQcNFUbMa"
      },
      "source": [
        "## 2001 파리퇴치"
      ]
    },
    {
      "cell_type": "code",
      "metadata": {
        "id": "EXSpRqzUUa6c"
      },
      "source": [
        "# banbok을 쓰면 되고, n-m+1을 쓰면 안되는 현상!\r\n",
        "#이 코드에서 초기 두개의 for문(j,k)에 있는 두 range(banbok)를 range(n-m+1)로 바꾸면 코드가 돌아가지 않습니다... 왜 그럴까요\r\n",
        "\r\n",
        "def kill_fly(fly, n, m):\r\n",
        "    maxy = -float('inf')\r\n",
        "    banbok = n-m+1  # 5 - 2 + 1\r\n",
        "    for j in range(banbok):\r\n",
        "        for k in range(banbok):\r\n",
        "            total = 0\r\n",
        "            for l in range(m):\r\n",
        "                for n in range(m):   #  여기에서 n을 사용하시면 아니되옵니다.\r\n",
        "                    total += fly[j+l][k+n]\r\n",
        "            if total > maxy:\r\n",
        "                maxy = total\r\n",
        "    return maxy\r\n",
        "\r\n",
        "#fly N*N     N = 5  M = 2  \r\n",
        "\r\n"
      ],
      "execution_count": null,
      "outputs": []
    }
  ]
}