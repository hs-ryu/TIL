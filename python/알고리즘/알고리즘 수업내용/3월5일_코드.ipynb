{
  "nbformat": 4,
  "nbformat_minor": 0,
  "metadata": {
    "colab": {
      "name": "3월5일_코드.ipynb",
      "provenance": [],
      "collapsed_sections": []
    },
    "kernelspec": {
      "name": "python3",
      "display_name": "Python 3"
    }
  },
  "cells": [
    {
      "cell_type": "markdown",
      "metadata": {
        "id": "w1FP-e6wg6_e"
      },
      "source": [
        "## 행렬찾기"
      ]
    },
    {
      "cell_type": "code",
      "metadata": {
        "id": "uTy5CJIGs3GF"
      },
      "source": [
        "# 사각형 모양으로 그룹을 찾는 것이 때문에 BFS 또는 반복문으로도 해결이 가능\r\n",
        "# 사각형 모양이 아닌 경우는 BFS로 푸는 것이 가능\r\n",
        "# 사각형 모양 - r, c\r\n",
        "# 사각형 모양이 아닌 경우 - r, c\r\n",
        "# 정렬 - sorted, sort : key를 사용/사용하지 않는 방법\r\n",
        "# 정렬 알고리즘 직접 구현 (2차 정렬)"
      ],
      "execution_count": null,
      "outputs": []
    },
    {
      "cell_type": "code",
      "metadata": {
        "id": "bFhmSbSN9Bib"
      },
      "source": [
        "# 가장 빠른 성능의 코드\r\n",
        "for t in range(1, int(input())+1):\r\n",
        "    N = int(input())\r\n",
        "    danger = [0]*(N+1)\r\n",
        "    danger_size = []\r\n",
        "    for r in range(N):\r\n",
        "        row = ''.join(list(input().split())).split('0')\r\n",
        "        for bottle in row:\r\n",
        "            if bottle:\r\n",
        "                danger[len(bottle)] += 1\r\n",
        "    for i in range(N+1):\r\n",
        "        if danger[i]:\r\n",
        "            danger_size.append([i, danger[i], i*danger[i]])\r\n",
        "    danger_size = sorted(sorted(danger_size, key=lambda x: x[1]), key=lambda x: x[2])\r\n",
        "    print(\"#%d %d %s\" %(t, len(danger_size), ' '.join(' '.join(map(str, dan[1::-1])) for dan in danger_size)))\r\n",
        "\r\n",
        "    #danger_size.sort(key=lambda x:(x[2], x[1]))\r\n",
        "    #g = ('%d %d' % (r, c) for c, r, s in danger_size)  # g => generator(=iterator)\r\n",
        "    print(\"#%d %d %s\" % (t, len(danger_size), ' '.join('%d %d' % (r, c) for c, r, s in danger_size))"
      ],
      "execution_count": null,
      "outputs": []
    },
    {
      "cell_type": "code",
      "metadata": {
        "id": "Xx0LbB-z-mVN"
      },
      "source": [
        "def mysort(my_list):\r\n",
        "    my_list = [(r*c, r, c) for r, c in my_list]\r\n",
        "    #print(my_list)\r\n",
        "    for i in range(len(my_list) -1):\r\n",
        "        for j in range(i+1, len(my_list)):\r\n",
        "            if my_list[i][0] > my_list[j][0] or \\\r\n",
        "                    (my_list[i][0] == my_list[j][0] and my_list[i][1] > my_list[j][1]):\r\n",
        "                my_list[i], my_list[j] = my_list[j], my_list[i]\r\n",
        "    return [(r, c) for s, r, c in my_list]\r\n",
        "\r\n",
        "\r\n",
        "def sub_matrix(sr, sc):\r\n",
        "    nr, nc = sr + 1, sc + 1\r\n",
        "    while nr < N and arr[nr][sc] != 0:\r\n",
        "        nr += 1\r\n",
        "    while nc < N and arr[sr][nc] != 0:\r\n",
        "        nc += 1\r\n",
        "    for i in range(sr, nr):\r\n",
        "        for j in range(sc, nc):\r\n",
        "            arr[i][j] = 0\r\n",
        "\r\n",
        "    return nr - sr, nc - sc\r\n",
        "\r\n",
        "\r\n",
        "T = int(input())\r\n",
        "for t in range(1, T + 1):\r\n",
        "    N = int(input())\r\n",
        "    arr = [list(map(int, input().split())) for _ in range(N)]\r\n",
        "\r\n",
        "    sub_list = []\r\n",
        "    for i in range(N):\r\n",
        "        for j in range(N):\r\n",
        "            if arr[i][j] != 0:\r\n",
        "                sub_list.append(sub_matrix(i, j))\r\n",
        "\r\n",
        "    #sub_list.sort(key=lambda x: (x[0]*x[1], x[0]))\r\n",
        "    sub_list = mysort(sub_list)\r\n",
        "    print('#%d %d %s' % (t, len(sub_list), ' '.join(' '.join(map(str, sub)) for sub in sub_list)))"
      ],
      "execution_count": null,
      "outputs": []
    },
    {
      "cell_type": "code",
      "metadata": {
        "id": "WgEw_sHTg2-4"
      },
      "source": [
        "dx = [-1, 1, 0, 0]\r\n",
        "dy = [0, 0, -1, 1]\r\n",
        "  \r\n",
        "def bfs(s, e):\r\n",
        "    queue = [(s, e)]\r\n",
        "    warehouse[s][e] = 0   # 입력 == visited\r\n",
        "    while queue:\r\n",
        "        x, y = queue.pop(0)\r\n",
        "        for i in range(4):\r\n",
        "            nx, ny = x+dx[i], y+dy[i]\r\n",
        "            if 0 <= nx < n and 0 <= ny < n and warehouse[nx][ny]:\r\n",
        "                queue.append((nx, ny))\r\n",
        "                warehouse[nx][ny] = 0\r\n",
        "                \r\n",
        "    return x-s+1, y-e+1\r\n",
        "  \r\n",
        "for t in range(1, int(input())+1):\r\n",
        "    n = int(input())\r\n",
        "    warehouse = [list(map(int, input().split())) for _ in range(n)]\r\n",
        "    matrix = []\r\n",
        "    for i in range(n):\r\n",
        "        for j in range(n):\r\n",
        "            if warehouse[i][j]:\r\n",
        "                matrix.append(bfs(i, j))\r\n",
        "  \r\n",
        "    matrix.sort(key=lambda x: (x[0]*x[1], x[0]))\r\n",
        "    result = [t, len(matrix)]\r\n",
        "    for unit in matrix:\r\n",
        "        result.append(unit[0])\r\n",
        "        result.append(unit[1])\r\n",
        "    print('#%s' % ' '.join(map(str, result)))"
      ],
      "execution_count": null,
      "outputs": []
    },
    {
      "cell_type": "code",
      "metadata": {
        "colab": {
          "base_uri": "https://localhost:8080/"
        },
        "id": "onZkiY2bYNCM",
        "outputId": "562c22de-f60c-4000-f071-7ff776cf2811"
      },
      "source": [
        "def func(x):\r\n",
        "    return x[1], x[0]\r\n",
        "\r\n",
        "func([1, 2, 3])    "
      ],
      "execution_count": null,
      "outputs": [
        {
          "output_type": "execute_result",
          "data": {
            "text/plain": [
              "(2, 1)"
            ]
          },
          "metadata": {
            "tags": []
          },
          "execution_count": 8
        }
      ]
    },
    {
      "cell_type": "code",
      "metadata": {
        "id": "ah5kosedia1q"
      },
      "source": [
        "a = [(3, 4, 5), (2, 4, 6), (1, 4, 5), (5, 3, 2), (3, 3, 1)]\r\n",
        "# x는 하나의 tuple이 되며, 2차 정렬을 함 (1차 = x[1]기준, 2차 = 1차가 같을 때 x[0]기준)\r\n",
        "b = sorted(a, key=lambda x : (x[1], x[0]))\r\n",
        "a.sort(key=lambda x: (x[1], x[2]))\r\n",
        "print(b, a, sep = '\\n')"
      ],
      "execution_count": null,
      "outputs": []
    },
    {
      "cell_type": "code",
      "metadata": {
        "colab": {
          "base_uri": "https://localhost:8080/"
        },
        "id": "jlqAVVs7jqMp",
        "outputId": "cab48720-3911-45b5-88f3-24cb26e060a3"
      },
      "source": [
        "# 수동으로 2차 정렬\r\n",
        "def mysort(my_list):\r\n",
        "    my_list = [(r*c, r, c) for r, c in my_list]\r\n",
        "    #print(my_list)\r\n",
        "    for i in range(len(my_list) -1):\r\n",
        "        for j in range(i+1, len(my_list)):\r\n",
        "            if my_list[i][0] > my_list[j][0] or \\\r\n",
        "                    (my_list[i][0] == my_list[j][0] and my_list[i][1] > my_list[j][1]):\r\n",
        "                my_list[i], my_list[j] = my_list[j], my_list[i]\r\n",
        "    return [(r, c) for s, r, c in my_list]\r\n",
        "\r\n",
        "my_list = [(3, 4), (1, 2), (2, 4), (4, 2), (2, 5)]\r\n",
        "sol = mysort(my_list)    \r\n",
        "print(sol)\r\n",
        "print('%d ' % (len(sol)) + ' '.join('%d %d' % (r, c) for r, c in sol))"
      ],
      "execution_count": null,
      "outputs": [
        {
          "output_type": "stream",
          "text": [
            "[(1, 2), (2, 4), (4, 2), (2, 5), (3, 4)]\n",
            "5 1 2 2 4 4 2 2 5 3 4\n"
          ],
          "name": "stdout"
        }
      ]
    },
    {
      "cell_type": "markdown",
      "metadata": {
        "id": "Jj5ungRGg9dL"
      },
      "source": [
        "## 햄버거 다이어트"
      ]
    },
    {
      "cell_type": "code",
      "metadata": {
        "id": "0tC_TcBBsUdD"
      },
      "source": [
        "햄버거 문제에서\r\n",
        "가지치기 1개 하면 약 636ms\r\n",
        "가지치기 2개 하면 약 185ms 나옵니다."
      ],
      "execution_count": null,
      "outputs": []
    },
    {
      "cell_type": "code",
      "metadata": {
        "id": "egvYrHekS39c"
      },
      "source": [
        "입력 방법, 보조데이터 만드는 방법, parameter(매개변수)의 개수 등도 중요한 요소"
      ],
      "execution_count": null,
      "outputs": []
    },
    {
      "cell_type": "code",
      "metadata": {
        "id": "zaChrNerdSIe"
      },
      "source": [
        "4개 재료 [0, 1, 2, 3]\r\n",
        "0-3 1-3 2-3 3\r\n",
        "{0, 1, 2, 3}\r\n",
        "{0, 1, 3, X}\r\n",
        "{0, 2, 3}"
      ],
      "execution_count": null,
      "outputs": []
    },
    {
      "cell_type": "code",
      "metadata": {
        "id": "2wLex6QLcM0o"
      },
      "source": [
        "# 원본\r\n",
        "# level : 선택 개수\r\n",
        "# start : 재료 목록에서 선택해야하는 출발점\r\n",
        "# score : 햄버거 맛 점수\r\n",
        "# cal : 햄버거 칼로리\r\n",
        "# \r\n",
        "def hamburger(level, start, score, cal):\r\n",
        "    # 종료조건\r\n",
        "    global mx\r\n",
        "    if cal > L: return\r\n",
        "    if score > mx: mx = score\r\n",
        "    if level >= N:        \r\n",
        "        return\r\n",
        "        \r\n",
        "    for i in range(start, N):\r\n",
        "        hamburger(level+1, i+1, score+ingredient[i][0], cal+ingredient[i][1])\r\n",
        " \r\n",
        "T = int(input())\r\n",
        "for t in range(1, T+1):\r\n",
        "    N, L = map(int, input().split())\r\n",
        "    ingredient = [list(map(int, input().split())) for _ in range(N)]\r\n",
        "    mx = 0\r\n",
        "    hamburger(0, 0, 0, 0)\r\n",
        "    print(\"#%d %d\" % (t, mx))"
      ],
      "execution_count": null,
      "outputs": []
    },
    {
      "cell_type": "code",
      "metadata": {
        "id": "C4LOmF7lR39j"
      },
      "source": [
        "# 조금 더 빠름\r\n",
        "def hamburger(start, score, cal):\r\n",
        "    # 종료조건\r\n",
        "    global mx\r\n",
        "    #if cal > L: return\r\n",
        "\r\n",
        "    if score > mx:\r\n",
        "        mx = score\r\n",
        "\r\n",
        "    for i in range(start, N):\r\n",
        "        if expect[i] + score <= mx: break  # 가지치기 2\r\n",
        "        if cal + cals[i] > L: continue     # 가지치기 1\r\n",
        "        hamburger(i + 1, score + points[i], cal + cals[i])\r\n",
        "\r\n",
        "\r\n",
        "T = int(input())\r\n",
        "for t in range(1, T + 1):\r\n",
        "    N, L = map(int, input().split())\r\n",
        "    a = [list(map(int, input().split())) for _ in range(N)]\r\n",
        "    points = [a[n][0] for n in range(N)]\r\n",
        "    cals = [a[n][1] for n in range(N)]\r\n",
        "\r\n",
        "    expect = [0] * N\r\n",
        "    expect[N-1] = points[N-1]\r\n",
        "    for x in range(N-2, -1, -1):\r\n",
        "        expect[x] = expect[x+1] + points[x]\r\n",
        "\r\n",
        "    mx = 0\r\n",
        "    hamburger(0, 0, 0)\r\n",
        "    print(\"#%d %d\" % (t, mx))"
      ],
      "execution_count": null,
      "outputs": []
    },
    {
      "cell_type": "code",
      "metadata": {
        "id": "2y9GZvqae-ja"
      },
      "source": [
        "    scores, calories = [], []\r\n",
        "    for _ in range(N):\r\n",
        "        score, calorie = map(int, input().split())\r\n",
        "        scores.append(score)\r\n",
        "        calories.append(calorie)"
      ],
      "execution_count": null,
      "outputs": []
    },
    {
      "cell_type": "code",
      "metadata": {
        "id": "llt8Np7HAOny"
      },
      "source": [
        "def hamberger(level, S, C):\r\n",
        "\r\n",
        "    global result\r\n",
        "\r\n",
        "    if level == N:\r\n",
        "        if result < S:\r\n",
        "            result = S\r\n",
        "        return\r\n",
        "\r\n",
        "    if expect[level] + S <= result:return\r\n",
        "\r\n",
        "    if C + cals[level] <= L:\r\n",
        "        hamberger(level + 1, S + points[level], C + cals[level])  # 사용\r\n",
        "    hamberger(level + 1, S, C)  # 사용하지 않음\r\n",
        "\r\n",
        "\r\n",
        "T = int(input())\r\n",
        "\r\n",
        "for tc in range(1, T + 1):\r\n",
        "    N, L = map(int, input().split())\r\n",
        "\r\n",
        "    a = [list(map(int, input().split())) for _ in range(N)]\r\n",
        "    points = [a[n][0] for n in range(N)]   # [1 2 2 3 1]  expect [9 8 6 4 1]\r\n",
        "    cals   = [a[n][1] for n in range(N)]\r\n",
        "\r\n",
        "    expect = [0] * N\r\n",
        "    expect[N-1] = points[N-1]\r\n",
        "    for x in range(N-2, -1, -1):\r\n",
        "        expect[x] = expect[x+1] + points[x]\r\n",
        "\r\n",
        "    result = 0\r\n",
        "    hamberger(0, 0, 0)\r\n",
        "    print('#{} {}'.format(tc, result))"
      ],
      "execution_count": null,
      "outputs": []
    },
    {
      "cell_type": "markdown",
      "metadata": {
        "id": "5w9rXZF18HU7"
      },
      "source": [
        "## 러시아 국기 같은 깃발"
      ]
    },
    {
      "cell_type": "code",
      "metadata": {
        "id": "1JlCtwDM8J0g"
      },
      "source": [
        "# 재귀 사용 - 김승현\r\n",
        "colors = ['W', 'B', 'R']\r\n",
        " \r\n",
        "def color(row_idx, cnt, color_idx):\r\n",
        "    global min_cnt\r\n",
        "    if row_idx == rows-1:\r\n",
        "        if color_idx != 0:\r\n",
        "            min_cnt = min(min_cnt, cnt)\r\n",
        "        return\r\n",
        "    if color_idx != 2:\r\n",
        "        color(row_idx+1, cnt + cols - flag[row_idx].count(colors[color_idx+1]), color_idx+1)\r\n",
        "    color(row_idx+1, cnt + cols - flag[row_idx].count(colors[color_idx]), color_idx)\r\n",
        " \r\n",
        "for t in range(1, int(input())+1):\r\n",
        "    rows, cols = map(int, input().split())\r\n",
        "    flag = [input() for _ in range(rows)]\r\n",
        "    cnt = 2*cols - flag[0].count('W') - flag[-1].count('R')\r\n",
        "    min_cnt = float('inf')\r\n",
        "    color(1, cnt, 0)\r\n",
        "    print(\"#%d %d\" %(t, min_cnt))"
      ],
      "execution_count": null,
      "outputs": []
    },
    {
      "cell_type": "code",
      "metadata": {
        "id": "97_0rP4uitg5"
      },
      "source": [
        "# 곽호근님 재귀 코드\r\n",
        "CLR = ['W', 'B', 'R']\r\n",
        " \r\n",
        "def recursive(k, n):\r\n",
        "    if n == N:\r\n",
        "        return 0\r\n",
        "     \r\n",
        "    max_k = 3\r\n",
        "    if n == 0:\r\n",
        "        max_k = 1\r\n",
        "    elif n == N - 2:\r\n",
        "        k = max(k, 1)\r\n",
        "    elif n == N - 1:\r\n",
        "        k = 2\r\n",
        "         \r\n",
        "    return min(recursive(i, n + 1) + M - flag[n][i] for i in range(k, max_k))\r\n",
        " \r\n",
        "t = int(input())\r\n",
        "for test_case in range(1, t + 1):\r\n",
        "    N, M = map(int, input().split())\r\n",
        " \r\n",
        "    flag = []\r\n",
        "    for _ in range(N):\r\n",
        "        row = input()\r\n",
        "        flag += [(row.count('W'), row.count('B'), row.count('R'))]\r\n",
        " \r\n",
        "    print('#%d %d' % (test_case, recursive(0, 0)))"
      ],
      "execution_count": null,
      "outputs": []
    },
    {
      "cell_type": "code",
      "metadata": {
        "id": "96Nq9hN2ANCP"
      },
      "source": [
        "# 러시아 국기 - 재귀 사용 안함\r\n",
        "# 색의 가지수가 3가지로 고정되어 있기 때문에\r\n",
        "T = int(input())\r\n",
        "for t in range(1, T+1):\r\n",
        "    N, M = map(int, input().split())\r\n",
        "    flag = [input() for _ in range(N)]\r\n",
        "    min_change = N*M\r\n",
        "\r\n",
        "    # 흰색의 끝줄 0 ~ N-3\r\n",
        "    for w in range(0, N-2):\r\n",
        "        for b in range(w+1, N-1):\r\n",
        "            change = 0\r\n",
        "            for i in range(0, w+1):\r\n",
        "                change += M - flag[i].count('W')\r\n",
        "            for i in range(w+1, b+1):\r\n",
        "                change += M - flag[i].count('B')\r\n",
        "            for i in range(b+1, N):\r\n",
        "                change += M - flag[i].count('R')\r\n",
        "            if change < min_change:\r\n",
        "                min_change = change\r\n",
        "    print(\"#{} {}\".format(t, min_change))"
      ],
      "execution_count": null,
      "outputs": []
    },
    {
      "cell_type": "code",
      "metadata": {
        "id": "6ntZ0t3eHVk9"
      },
      "source": [
        "# W, B, R이 아닌것의 누적합 구하기 사용\r\n",
        "T = int(input())\r\n",
        "for t in range(1, T+1):\r\n",
        "    N, M = map(int, input().split())\r\n",
        "    flag = [input() for _ in range(N)]\r\n",
        "    W = [0] * N\r\n",
        "    B = [0] * N\r\n",
        "    R = [0] * N\r\n",
        "    # 행을 보면서 나와 다른 색의 개수 카운팅\r\n",
        "    for i in range(N):\r\n",
        "        for j in range(M):\r\n",
        "            if flag[i][j] != 'W':\r\n",
        "                W[i] += 1\r\n",
        "            if flag[i][j] != 'B':    # elif 사용하면 안되용\r\n",
        "                B[i] += 1\r\n",
        "            if flag[i][j] != 'R':\r\n",
        "                R[i] += 1\r\n",
        "\r\n",
        "    # 누적 시키자\r\n",
        "    for i in range(1, N):\r\n",
        "        W[i] += W[i-1]\r\n",
        "        B[i] += B[i-1]\r\n",
        "        R[i] += R[i-1]\r\n",
        "\r\n",
        "    ans = 987654321\r\n",
        "    # 각 색별로 한 줄 이상은 확보해야 하기 때문에\r\n",
        "    for i in range(N-2):\r\n",
        "        for j in range(i+1, N-1):\r\n",
        "            w_cnt = W[i]\r\n",
        "            b_cnt = B[j] - B[i]\r\n",
        "            r_cnt = R[N-1] - R[j]\r\n",
        "            if ans > w_cnt + b_cnt + r_cnt:\r\n",
        "                ans = w_cnt + b_cnt + r_cnt\r\n",
        "\r\n",
        "    print(\"#%d %d\" % (t, ans))\r\n"
      ],
      "execution_count": null,
      "outputs": []
    }
  ]
}