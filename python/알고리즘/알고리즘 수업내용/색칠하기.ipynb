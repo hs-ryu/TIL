{
  "nbformat": 4,
  "nbformat_minor": 0,
  "metadata": {
    "colab": {
      "name": "색칠하기.ipynb",
      "provenance": [],
      "collapsed_sections": []
    },
    "kernelspec": {
      "name": "python3",
      "display_name": "Python 3"
    }
  },
  "cells": [
    {
      "cell_type": "markdown",
      "metadata": {
        "id": "1sf4xjRhRM5W"
      },
      "source": [
        "### 1.간단하게 작성한 예"
      ]
    },
    {
      "cell_type": "code",
      "metadata": {
        "id": "Gway-TnooPXR"
      },
      "source": [
        "# 문제에서 '주어진 정보에서 같은 색인 영역은 겹치지 않는다'라고 했기 때문에 가능하다\r\n",
        "T = int(input())\r\n",
        " \r\n",
        "for t in range(1, T+1):\r\n",
        "    space = list(([0] * 10) for _ in range(10))\r\n",
        "    n = int(input())    \r\n",
        "    for i in range(n):\r\n",
        "        sr, sc, er, ec, color = map(int, input().split())\r\n",
        "        for j in range(sr, er + 1):\r\n",
        "            for k in range(sc, ec + 1):\r\n",
        "                space[j][k] += 1\r\n",
        "\r\n",
        "    cnt = 0\r\n",
        "    for l in range(10):\r\n",
        "        for m in range(10):\r\n",
        "            if space[l][m] == 2:\r\n",
        "                cnt += 1\r\n",
        "    print('#%d %d'%(t, cnt))"
      ],
      "execution_count": null,
      "outputs": []
    },
    {
      "cell_type": "code",
      "metadata": {
        "id": "YEgSNIBKoRFH"
      },
      "source": [
        "# 문제에서 '주어진 정보에서 같은 색인 영역은 겹치지 않는다'라고 했기 때문에 가능하다\r\n",
        "\r\n",
        "T = int(input())\r\n",
        " \r\n",
        "for t in range(1, T+1):]\r\n",
        "    # 10*10 색칠할 판 만들어주기\r\n",
        "    board = [[0]*10 for _ in range(10)]\r\n",
        "\r\n",
        "    N = int(input())\r\n",
        "    for i in range(N):\r\n",
        "        color = list(map(int, input().split()))\r\n",
        "        # 색칠 정보에 맞게 board 에 색을 칠해준다.\r\n",
        "        # 즉, color 의 숫자값을 채워준다.\r\n",
        "        for a in range(color[0], color[2]+1):\r\n",
        "            for b in range(color[1], color[3]+1):\r\n",
        "                board[a][b] += color[4]\r\n",
        " \r\n",
        "    # board 를 하나씩 확인하면서 3인 값들을 count 한다. \r\n",
        "    total = 0\r\n",
        "    for c in range(len(board)):\r\n",
        "        for d in range(len(board[c])):\r\n",
        "            if board[c][d] == 3:\r\n",
        "                total += 1\r\n",
        " \r\n",
        "    print('#%d %d' % (t, total))"
      ],
      "execution_count": null,
      "outputs": []
    },
    {
      "cell_type": "markdown",
      "metadata": {
        "id": "50x4HRu5RRl3"
      },
      "source": [
        "### 2.색칠 + 숫자 세기 결합\r\n",
        "- 하고 싶지만...  안하는 것이 안전함"
      ]
    },
    {
      "cell_type": "code",
      "metadata": {
        "id": "e9ooJ4O5oSv8"
      },
      "source": [
        "# 색칠하기 + 숫자 세기를 결합한 코드 => 위험할 수 있으니 분리하는 것이 좋음 ^^*\r\n",
        "\r\n",
        "t = int(input())\r\n",
        "for test_case in range(1, t + 1):\r\n",
        "    grid = [[0] * 10 for _ in range(10)]\r\n",
        "    n = int(input()) \r\n",
        "    answer = 0    \r\n",
        "    for _ in range(n):\r\n",
        "        r1, c1, r2, c2, cl = map(int, input().split())\r\n",
        "        for r in range(r1, r2 + 1):\r\n",
        "            for c in range(c1, c2 + 1):\r\n",
        "                # 비어있거나 같은 색이 칠해져있으면 해당 색으로 칠하고, 다른 색이면 보라색으로 바꿔요\r\n",
        "                if grid[r][c] == 0 or grid[r][c] == cl:\r\n",
        "                    grid[r][c] = cl\r\n",
        "                else:\r\n",
        "                    grid[r][c] = 3\r\n",
        "                    answer += 1\r\n",
        " \r\n",
        "    print('#%d %d' % (test_case, answer))"
      ],
      "execution_count": null,
      "outputs": []
    },
    {
      "cell_type": "markdown",
      "metadata": {
        "id": "I2kir9MuQrDm"
      },
      "source": [
        "### 3.오류를 찾아라!"
      ]
    },
    {
      "cell_type": "code",
      "metadata": {
        "id": "oAo9iYX0ufgT"
      },
      "source": [
        "# 본 코드에서 잘못된 부분을 찾아 보세요!!!\r\n",
        "# 이런 실수를 실제 상황에서 한다면....  찾기 정말 힘들 것 같아요.\r\n",
        "\r\n",
        "t = int(input())\r\n",
        "for test_case in range(1, t + 1):\r\n",
        "    grid = [[0] * 10 for _ in range(10)]\r\n",
        "    n = int(input())         \r\n",
        "    for _ in range(n):\r\n",
        "        r1, c1, r2, c2, cl = map(int, input().split())\r\n",
        "        answer = 0\r\n",
        "        for r in range(r1, r2 + 1):\r\n",
        "            for c in range(c1, c2 + 1):\r\n",
        "                grid[r][c] += cl\r\n",
        "                if grid[r][c] == 3:\r\n",
        "                    answer += 1\r\n",
        " \r\n",
        "    print('#%d %d' % (test_case, answer))"
      ],
      "execution_count": null,
      "outputs": []
    },
    {
      "cell_type": "markdown",
      "metadata": {
        "id": "c08yWkLxRa4_"
      },
      "source": [
        "### 4.& 연산을 사용한 방법\r\n",
        "- 동일 색상으로 겹치는 것이 있을 경우에도 효과적!!"
      ]
    },
    {
      "cell_type": "code",
      "metadata": {
        "id": "rtM1c35WdEkw"
      },
      "source": [
        "# & 를 사용한 방법\r\n",
        "def find_zero(arg):\r\n",
        "    cnt = 0\r\n",
        "    for row_arg in arg:\r\n",
        "        for col_arg in row_arg:\r\n",
        "            if col_arg == 0:\r\n",
        "                cnt += 1\r\n",
        "    return cnt\r\n",
        "  \r\n",
        "T = int(input())\r\n",
        "for t in range(1, T + 1):\r\n",
        "    arr = []\r\n",
        "    c = 10\r\n",
        "    r = 10\r\n",
        "    bck_grnd = [[0b11] * c for _ in range(r)]\r\n",
        "    N = int(input())\r\n",
        "    for i in range(N):\r\n",
        "        arr.append(list(map(int, input().split())))\r\n",
        "    #무색 11 빨강 01 파랑 10 보라 00\r\n",
        "    for j in arr:\r\n",
        "        for row in range(j[0], j[2]+1):\r\n",
        "            for col in range(j[1], j[3]+1):\r\n",
        "                bck_grnd[row][col] &= j[4]\r\n",
        "\r\n",
        "                #if j[4] == 1:\r\n",
        "                #    bck_grnd[row][col] = (bck_grnd[row][col] & 1)\r\n",
        "                #elif j[4] == 2:\r\n",
        "                #    bck_grnd[row][col] = (bck_grnd[row][col] & 2)\r\n",
        " \r\n",
        "    print('#%d %d' %(t, find_zero(bck_grnd)))\r\n"
      ],
      "execution_count": null,
      "outputs": []
    },
    {
      "cell_type": "code",
      "metadata": {
        "colab": {
          "base_uri": "https://localhost:8080/"
        },
        "id": "Bqr43mZ3Ac-K",
        "outputId": "8e912cbe-f7fd-4b54-b236-f776a2d7494c"
      },
      "source": [
        "a = 3\r\n",
        "a &= 1  # 0b11 & 0b01\r\n",
        "a"
      ],
      "execution_count": null,
      "outputs": [
        {
          "output_type": "execute_result",
          "data": {
            "text/plain": [
              "1"
            ]
          },
          "metadata": {
            "tags": []
          },
          "execution_count": 2
        }
      ]
    },
    {
      "cell_type": "code",
      "metadata": {
        "colab": {
          "base_uri": "https://localhost:8080/"
        },
        "id": "NJu-Tb-6AkhX",
        "outputId": "e3ae9f00-a248-4dcd-ea05-d1c569960041"
      },
      "source": [
        "a = 3\r\n",
        "a &= 2  # 0b11 & 0b10\r\n",
        "a"
      ],
      "execution_count": null,
      "outputs": [
        {
          "output_type": "execute_result",
          "data": {
            "text/plain": [
              "2"
            ]
          },
          "metadata": {
            "tags": []
          },
          "execution_count": 3
        }
      ]
    },
    {
      "cell_type": "markdown",
      "metadata": {
        "id": "qdOh9-XtQzOy"
      },
      "source": [
        "### 5.| 연산을 사용한 코드로 작성해 보자!"
      ]
    },
    {
      "cell_type": "code",
      "metadata": {
        "id": "oECs85ZEA-58"
      },
      "source": [
        "# 아래의 코드를 | 연산으로 변경할 수 있을까?\r\n",
        "def find_zero(arg):\r\n",
        "    cnt = 0\r\n",
        "    for row_arg in arg:\r\n",
        "        for col_arg in row_arg:\r\n",
        "            if col_arg == 0:\r\n",
        "                cnt += 1\r\n",
        "    return cnt\r\n",
        "  \r\n",
        "T = int(input())\r\n",
        "for t in range(1, T + 1):\r\n",
        "    arr = []\r\n",
        "    c = 10\r\n",
        "    r = 10\r\n",
        "    bck_grnd = [[0b11] * c for _ in range(r)]\r\n",
        "    N = int(input())\r\n",
        "    for i in range(N):\r\n",
        "        arr.append(list(map(int, input().split())))\r\n",
        "    #무색 11 빨강 01 파랑 10 보라 00\r\n",
        "    for j in arr:\r\n",
        "        for row in range(j[0], j[2]+1):\r\n",
        "            for col in range(j[1], j[3]+1):\r\n",
        "                bck_grnd[row][col] &= j[4]\r\n",
        "\r\n",
        "                #if j[4] == 1:\r\n",
        "                #    bck_grnd[row][col] = (bck_grnd[row][col] & 1)\r\n",
        "                #elif j[4] == 2:\r\n",
        "                #    bck_grnd[row][col] = (bck_grnd[row][col] & 2)\r\n",
        " \r\n",
        "    print('#%d %d' %(t, find_zero(bck_grnd)))\r\n"
      ],
      "execution_count": null,
      "outputs": []
    },
    {
      "cell_type": "markdown",
      "metadata": {
        "id": "LtexQ9WdQ3ng"
      },
      "source": [
        "### 6.희소행렬에서 쓰면 좋음\r\n",
        "- 다음 코드에서 pos를 제거하여 보자"
      ]
    },
    {
      "cell_type": "code",
      "metadata": {
        "id": "teAIWfxkoNk1"
      },
      "source": [
        "def get_color(arr):\r\n",
        "    red = []\r\n",
        "    blue = []\r\n",
        "    cnt = 0 \r\n",
        "    for x1, y1, x2, y2, c in arr:\r\n",
        "        pos = []\r\n",
        "        for x in range(y1, y2+1):\r\n",
        "            for y in range(x1, x2+1):\r\n",
        "                pos.append([x, y])\r\n",
        "                \r\n",
        "        for position in pos:\r\n",
        "            if c == 1:\r\n",
        "                red.append(position)\r\n",
        "            else:\r\n",
        "                blue.append(position)\r\n",
        "                 \r\n",
        "    for i in red:\r\n",
        "        if i in blue:\r\n",
        "            cnt += 1\r\n",
        "    return cnt\r\n",
        " \r\n",
        "T = int(input())\r\n",
        "for t in range(1, T+1):\r\n",
        "    n = int(input())\r\n",
        "    arr = [list(map(int, input().split())) for _ in range(n)]\r\n",
        "    ans = get_color(arr)\r\n",
        "    print('#%d %d' % (t, ans))"
      ],
      "execution_count": null,
      "outputs": []
    },
    {
      "cell_type": "code",
      "metadata": {
        "colab": {
          "base_uri": "https://localhost:8080/"
        },
        "id": "xvKAK3S_D6vo",
        "outputId": "20a6ceec-9301-4a3e-9273-e80b69e7b513"
      },
      "source": [
        "10000 * 10000  # 1억 마리 - 100마리\r\n",
        "희소행렬 (행렬에 포함된 데이터가 적을때) - 좌표 정보를 저장해서 사용"
      ],
      "execution_count": null,
      "outputs": [
        {
          "output_type": "execute_result",
          "data": {
            "text/plain": [
              "100000000"
            ]
          },
          "metadata": {
            "tags": []
          },
          "execution_count": 4
        }
      ]
    },
    {
      "cell_type": "code",
      "metadata": {
        "colab": {
          "base_uri": "https://localhost:8080/"
        },
        "id": "DCjjopEkINqJ",
        "outputId": "f3ee2066-b7c1-41ac-bbeb-415c338d47a6"
      },
      "source": [
        "0b11 & 0b01, 0b11 & 0b10, ~0b1, ~0b10, 3 - 1, 3 - 2  "
      ],
      "execution_count": null,
      "outputs": [
        {
          "output_type": "execute_result",
          "data": {
            "text/plain": [
              "(1, 2, -2, -3)"
            ]
          },
          "metadata": {
            "tags": []
          },
          "execution_count": 7
        }
      ]
    },
    {
      "cell_type": "markdown",
      "metadata": {
        "id": "AlzyxhkFQ9RK"
      },
      "source": [
        "### 7.비슷한 동작의 함수는 한 개로 작성"
      ]
    },
    {
      "cell_type": "code",
      "metadata": {
        "id": "quwnTVCxIhSn"
      },
      "source": [
        "def color_red(color_box, color):   # color[4] = 2\r\n",
        "    for row in range(color[0], color[2]+1):\r\n",
        "        for col in range(color[1], color[3]+1):\r\n",
        "            if color_box[row][col] == 0 or color_box[row][col] == (3-color[4]):    \r\n",
        "                color_box[row][col] += color[4]\r\n",
        "    return color_box"
      ],
      "execution_count": null,
      "outputs": []
    },
    {
      "cell_type": "code",
      "metadata": {
        "id": "_qZlBqgpoVOa"
      },
      "source": [
        "# def color_red(color_box, color):   # color[4] = 1\r\n",
        "#     for row in range(color[0], color[2]+1):\r\n",
        "#         for col in range(color[1], color[3]+1):\r\n",
        "#             if color_box[row][col] == 0 or color_box[row][col] == 2:    \r\n",
        "#                 color_box[row][col] += 1\r\n",
        "#     return color_box\r\n",
        "#  \r\n",
        "# def color_blue(color_box, color):  # color[4] = 2\r\n",
        "#     for row in range(color[0], color[2]+1):\r\n",
        "#         for col in range(color[1], color[3]+1):\r\n",
        "#             if color_box[row][col] == 0 or color_box[row][col] == 1:\r\n",
        "#                 color_box[row][col] += 2\r\n",
        "#     return color_box\r\n",
        "\r\n",
        "def color_fill(color_box, color):   \r\n",
        "    for row in range(color[0], color[2]+1):\r\n",
        "        for col in range(color[1], color[3]+1):\r\n",
        "            if color_box[row][col] == 0 or color_box[row][col] == (3-color[4]):    \r\n",
        "                color_box[row][col] += color[4]\r\n",
        "    return color_box\r\n",
        " \r\n",
        "for t in range(1, int(input())+1):\r\n",
        "\r\n",
        "    #color_box = [0]*10\r\n",
        "    #for n in range(10):\r\n",
        "    #    color_box[n] = [0]*10\r\n",
        "    color_box = [[0]*10 for _ in range(10)]\r\n",
        "\r\n",
        "    length = int(input())\r\n",
        "    #color_list = [0]*length\r\n",
        "    #for i in range(length):\r\n",
        "    #    color_list[i] = list(map(int, input().split()))\r\n",
        "    color_list = [list(map(int, input().split())) for i in range(length)]\r\n",
        "\r\n",
        "    for color in color_list:\r\n",
        "        color_box = color_fill(color_box, color)\r\n",
        "#         if color[4] == 1:\r\n",
        "#             color_box = color_red(color_box, color)\r\n",
        "#         else:\r\n",
        "#             color_box = color_blue(color_box, color)\r\n",
        "    purple = 0\r\n",
        "    for r in range(10):\r\n",
        "        for c in range(10):\r\n",
        "            if color_box[r][c] == 3:\r\n",
        "                purple += 1\r\n",
        "    print(\"#%d %d\" %(t, purple))"
      ],
      "execution_count": null,
      "outputs": []
    },
    {
      "cell_type": "code",
      "metadata": {
        "id": "op2wolbmKjn1"
      },
      "source": [
        ""
      ],
      "execution_count": null,
      "outputs": []
    },
    {
      "cell_type": "markdown",
      "metadata": {
        "id": "mgyttTwHRCfK"
      },
      "source": [
        "### 8.함수에 container 전달\r\n",
        "- 내용이 변경되더라도 return 하지 않아도 됨"
      ]
    },
    {
      "cell_type": "code",
      "metadata": {
        "colab": {
          "base_uri": "https://localhost:8080/"
        },
        "id": "yoZtpeCJKHEe",
        "outputId": "888392ff-0612-4757-b7d3-fa7cb1da7a74"
      },
      "source": [
        "# container는 slot을 가지고 있고, slot내부의 item을 접근하는 연산은 reference 동작이기 때문에\r\n",
        "# 원본에 바로 적용된다, 그러므로 return을 하지 않아도 된다.\r\n",
        "def func(a) :\r\n",
        "    for i in range(len(a)):\r\n",
        "        a[i] = i*10\r\n",
        "\r\n",
        "a = [1]*10\r\n",
        "func(a) \r\n",
        "print(a)"
      ],
      "execution_count": null,
      "outputs": [
        {
          "output_type": "stream",
          "text": [
            "[0, 10, 20, 30, 40, 50, 60, 70, 80, 90]\n"
          ],
          "name": "stdout"
        }
      ]
    },
    {
      "cell_type": "code",
      "metadata": {
        "id": "ipjrwqsiMivI"
      },
      "source": [
        "# 절대 사용하지 말 것\r\n",
        "color_box = [[0]*10]*10  # 복제 [0x100, 0x100, 0x100, ]  \r\n",
        "\r\n",
        "# 절대 사용하지 말 것\r\n",
        "color_box = [[0]*10 for _ in range(10)]"
      ],
      "execution_count": null,
      "outputs": []
    },
    {
      "cell_type": "code",
      "metadata": {
        "colab": {
          "base_uri": "https://localhost:8080/"
        },
        "id": "VhIGKK7sOWtL",
        "outputId": "ed429b12-ad04-43af-fdf6-ed8dbb2d84cb"
      },
      "source": [
        "a, b = 300, 300\r\n",
        "print(id(a), id(b), a is b)\r\n",
        "print(a.__add__(b))"
      ],
      "execution_count": null,
      "outputs": [
        {
          "output_type": "stream",
          "text": [
            "140433203175856 140433203175856 True\n",
            "600\n"
          ],
          "name": "stdout"
        }
      ]
    },
    {
      "cell_type": "code",
      "metadata": {
        "id": "QZ5LUXaOPBwf"
      },
      "source": [
        "# namespace => dict\r\n",
        "{ 'a' : 0x200, \r\n",
        "  'b' : 0x100 }\r\n",
        "a = 301\r\n",
        "\r\n",
        "0x100 => 300 값을 갖는 int 객체의 주소\r\n",
        "0x200 => 301 값을 갖는 int 객체의 주소"
      ],
      "execution_count": null,
      "outputs": []
    },
    {
      "cell_type": "code",
      "metadata": {
        "id": "_e-x4MCFOL7d"
      },
      "source": [
        "#interning - 객체 재활용  \r\n",
        "[[0]*10] + [[0]*10] = [0x10, 0x10, 0x10, ..., 0x10, 0x10, 0x10, ...]\r\n",
        "0x100\r\n",
        "[0x10, 0x10, 0x10, ...]\r\n",
        "0x200\r\n",
        "[0x10, 0x10, 0x10, ...]"
      ],
      "execution_count": null,
      "outputs": []
    },
    {
      "cell_type": "code",
      "metadata": {
        "colab": {
          "base_uri": "https://localhost:8080/"
        },
        "id": "0eV0rIzKJFo2",
        "outputId": "d4e2ddfe-7bf2-4a38-f801-f81a914f496b"
      },
      "source": [
        "def color_fill(color_box, color):\r\n",
        "    for row in range(color[0], color[2]+1):\r\n",
        "        for col in range(color[1], color[3]+1):\r\n",
        "            if color_box[row][col] == 0 or color_box[row][col] == (3-color[4]):    \r\n",
        "                color_box[row][col] += color[4]\r\n",
        "    #return color_box\r\n",
        "\r\n",
        "for t in range(1, int(input())+1):\r\n",
        "\r\n",
        "    color_box = [[0]*10 for _ in range(10)]\r\n",
        "\r\n",
        "    length = int(input())\r\n",
        "    color_list = [list(map(int, input().split())) for i in range(length)]\r\n",
        "\r\n",
        "    for color in color_list:\r\n",
        "        color_fill(color_box, color)  # color_box 는 reference 동작을 하기 때문에 return 하지 않았음\r\n",
        "\r\n",
        "    purple = 0\r\n",
        "    for r in range(10):\r\n",
        "        for c in range(10):\r\n",
        "            if color_box[r][c] == 3:\r\n",
        "                purple += 1\r\n",
        "    print(\"#%d %d\" %(t, purple))"
      ],
      "execution_count": null,
      "outputs": [
        {
          "output_type": "stream",
          "text": [
            "1\n",
            "2\n",
            "2 2 4 4 1\n",
            "3 3 6 6 2\n",
            "#1 4\n"
          ],
          "name": "stdout"
        }
      ]
    }
  ]
}