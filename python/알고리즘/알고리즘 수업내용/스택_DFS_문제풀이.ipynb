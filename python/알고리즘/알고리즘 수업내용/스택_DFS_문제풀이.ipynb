{
  "nbformat": 4,
  "nbformat_minor": 0,
  "metadata": {
    "colab": {
      "name": "스택_DFS_문제풀이.ipynb",
      "provenance": [],
      "collapsed_sections": [],
      "toc_visible": true
    },
    "kernelspec": {
      "name": "python3",
      "display_name": "Python 3"
    }
  },
  "cells": [
    {
      "cell_type": "markdown",
      "metadata": {
        "id": "qjPWbskhAL3D"
      },
      "source": [
        "## 1.파스칼 삼각형"
      ]
    },
    {
      "cell_type": "markdown",
      "metadata": {
        "id": "n7rJ5NTcq6dP"
      },
      "source": [
        "### 1-1. 파스칼 삼각형 -1"
      ]
    },
    {
      "cell_type": "code",
      "metadata": {
        "colab": {
          "base_uri": "https://localhost:8080/"
        },
        "id": "lYiqOs7zRqsW",
        "outputId": "6be7ac11-8898-43b3-c5a9-84d87a77725d"
      },
      "source": [
        "N = 4\r\n",
        "tri = [['']*i for i in range(1, N+1)]\r\n",
        "print(tri)"
      ],
      "execution_count": null,
      "outputs": [
        {
          "output_type": "stream",
          "text": [
            "[[''], ['', ''], ['', '', ''], ['', '', '', '']]\n"
          ],
          "name": "stdout"
        }
      ]
    },
    {
      "cell_type": "code",
      "metadata": {
        "id": "qFK6dlLvRLlC"
      },
      "source": [
        "# 원본\r\n",
        "T = int(input())\r\n",
        "for t in range(1, T+1):\r\n",
        "    N = int(input())\r\n",
        "    tri = [['']*i for i in range(1, N+1)]\r\n",
        "    for i in range(N):\r\n",
        "        for j in range(i+1):\r\n",
        "            if j == 0:\r\n",
        "                tri[i][j] = 1\r\n",
        "            elif j == i:\r\n",
        "                tri[i][j] = 1\r\n",
        "            else:\r\n",
        "                tri[i][j] = tri[i-1][j-1] + tri[i-1][j]\r\n",
        "    print('#%d' % t)\r\n",
        "    for num in tri:\r\n",
        "        print(' '.join(map(str, num)))"
      ],
      "execution_count": null,
      "outputs": []
    },
    {
      "cell_type": "code",
      "metadata": {
        "id": "vr3lcKkYI98g"
      },
      "source": [
        "# 수정본 - 1차\r\n",
        "T = int(input())\r\n",
        "for t in range(1, T+1):\r\n",
        "    N = int(input())\r\n",
        "    tri = [['']*i for i in range(1, N+1)]\r\n",
        "    for i in range(N):\r\n",
        "        tri[i][0], tri[i][i] = 1, 1 \r\n",
        "        for j in range(1, i):   # i=0, j=0,   i=1, j=0, 1\r\n",
        "            tri[i][j] = tri[i-1][j-1] + tri[i-1][j]\r\n",
        "    print('#%d' % t)\r\n",
        "    for num in tri:\r\n",
        "        print(' '.join(map(str, num)))"
      ],
      "execution_count": null,
      "outputs": []
    },
    {
      "cell_type": "code",
      "metadata": {
        "id": "-bALWL9rS4gp"
      },
      "source": [
        "# 수정본 - 2차\r\n",
        "T = int(input())\r\n",
        "for t in range(1, T+1):\r\n",
        "    N = int(input())\r\n",
        "    tri = [[1]*i for i in range(1, N+1)]\r\n",
        "    for i in range(N):\r\n",
        "        for j in range(1, i):   # i=0, j=0,   i=1, j=0, 1\r\n",
        "            tri[i][j] = tri[i-1][j-1] + tri[i-1][j]\r\n",
        "    print('#%d' % t)\r\n",
        "    print('\\n'.join(' '.join(map(str, num)) for num in tri) )"
      ],
      "execution_count": null,
      "outputs": []
    },
    {
      "cell_type": "markdown",
      "metadata": {
        "id": "zmQGuu35q1dN"
      },
      "source": [
        "### 1-2. list, dict의 메모리 사용"
      ]
    },
    {
      "cell_type": "code",
      "metadata": {
        "colab": {
          "base_uri": "https://localhost:8080/"
        },
        "id": "iXq-BL6QU4nF",
        "outputId": "b4e61eb4-21be-4f17-cf31-9ed4d4892317"
      },
      "source": [
        "import sys\r\n",
        "a = []\r\n",
        "for i in range(20):\r\n",
        "    a.append(i)\r\n",
        "    print(sys.getsizeof(a), end = ' ')\r\n",
        "print()\r\n",
        "for i in range(20):\r\n",
        "    a.pop()\r\n",
        "    print(sys.getsizeof(a), end = ' ')"
      ],
      "execution_count": null,
      "outputs": [
        {
          "output_type": "stream",
          "text": [
            "96 96 96 96 128 128 128 128 192 192 192 192 192 192 192 192 264 264 264 264 \n",
            "264 264 264 264 264 264 264 264 208 208 208 160 160 160 128 128 112 104 96 64 "
          ],
          "name": "stdout"
        }
      ]
    },
    {
      "cell_type": "code",
      "metadata": {
        "id": "9iR0UzKOVtIx"
      },
      "source": [
        "dict.pop?"
      ],
      "execution_count": null,
      "outputs": []
    },
    {
      "cell_type": "code",
      "metadata": {
        "colab": {
          "base_uri": "https://localhost:8080/"
        },
        "id": "AddltUgJVfih",
        "outputId": "346ccc04-18dd-4380-9cf0-44ae1660c605"
      },
      "source": [
        "import sys\r\n",
        "a = {}\r\n",
        "for i in range(20):\r\n",
        "    a[i] = i*2\r\n",
        "    print(sys.getsizeof(a), end = ' ')\r\n",
        "print()\r\n",
        "for i in range(20):\r\n",
        "    a.pop(i)\r\n",
        "    print(sys.getsizeof(a), end = ' ')\r\n",
        "a.clear()\r\n",
        "print(sys.getsizeof(a), end = ' ')"
      ],
      "execution_count": null,
      "outputs": [
        {
          "output_type": "stream",
          "text": [
            "240 240 240 240 240 368 368 368 368 368 648 648 648 648 648 648 648 648 648 648 \n",
            "648 648 648 648 648 648 648 648 648 648 648 648 648 648 648 648 648 648 648 648 72 "
          ],
          "name": "stdout"
        }
      ]
    },
    {
      "cell_type": "markdown",
      "metadata": {
        "id": "rqinhdCoq_Ml"
      },
      "source": [
        "### 1-3. 파스칼 삼각형 -2"
      ]
    },
    {
      "cell_type": "code",
      "metadata": {
        "id": "IE77xUGwKy-W"
      },
      "source": [
        "# 원본\r\n",
        "for tc in range(1, 1 + int(input())):\r\n",
        "    N = int(input())\r\n",
        "    result = [[1]] \r\n",
        "    for i in range(1, N):\r\n",
        "        temp = []\r\n",
        "        for j in range(i + 1):\r\n",
        "            if j == 0 or j == i:\r\n",
        "                temp.append(1)\r\n",
        "            else:\r\n",
        "                temp.append(result[i - 1][j - 1] + result[i - 1][j])\r\n",
        "        result.append(temp)\r\n",
        " \r\n",
        "    print('#%d' % tc)\r\n",
        "    for k in range(N):\r\n",
        "        print(' '.join(map(str, result[k])))"
      ],
      "execution_count": null,
      "outputs": []
    },
    {
      "cell_type": "code",
      "metadata": {
        "id": "DvBk37zmWZmI"
      },
      "source": [
        "# 수정본 \r\n",
        "# result 초기값이 [1] 하나밖에 없어서 i가 2로 시작하면 i-1이 1로 되어서 처음에 index out of range 나는거 같습니다\r\n",
        "for tc in range(1, 1 + int(input())):\r\n",
        "    N = int(input())\r\n",
        "    result = [[1]] \r\n",
        "    for i in range(1, N):  # 1부터 해야함\r\n",
        "        temp = [1] + [result[i - 1][j - 1] + result[i - 1][j] for j in range(1, i)] + [1]\r\n",
        "        result.append(temp)\r\n",
        "        print(temp)\r\n",
        " \r\n",
        "    print('#%d' % tc)\r\n",
        "    print('\\n'.join(' '.join(map(str, result[k])) for k in range(N)))"
      ],
      "execution_count": null,
      "outputs": []
    },
    {
      "cell_type": "markdown",
      "metadata": {
        "id": "WCZ9POOurF4i"
      },
      "source": [
        "### 1-4. 파스칼 삼각형 -3"
      ]
    },
    {
      "cell_type": "code",
      "metadata": {
        "id": "OYBe2eAtJPNV"
      },
      "source": [
        "T = int(input())\r\n",
        "for t in range(1, T+1):\r\n",
        "    N = int(input())\r\n",
        "    result = [[1]*i for i in range(1, N+1)]\r\n",
        "    for i in range(2, N):   # result가 미리 준비되어 있기 때문에\r\n",
        "        for j in range(1, i):\r\n",
        "            result[i][j] = result[i-1][j-1] + result[i-1][j]\r\n",
        "    print('#%d' %t)\r\n",
        "    for i in result:\r\n",
        "        print(*i)"
      ],
      "execution_count": null,
      "outputs": []
    },
    {
      "cell_type": "markdown",
      "metadata": {
        "id": "dC8QGgDYrJDE"
      },
      "source": [
        "### 1-5. 파스칼 삼각형 -4\r\n",
        "- 주의하세요.  숫자 범위!!!"
      ]
    },
    {
      "cell_type": "code",
      "metadata": {
        "id": "wZlShbetHJj0"
      },
      "source": [
        "# 제약 사항 있음\r\n",
        "T = int(input())\r\n",
        "for t in range(1, T+1):\r\n",
        "    N = int(input())\r\n",
        "    print(\"#%d\" % t)    \r\n",
        "    for j in range(N):\r\n",
        "        print(\" \".join(str(11 ** j)))"
      ],
      "execution_count": null,
      "outputs": []
    },
    {
      "cell_type": "markdown",
      "metadata": {
        "id": "M9d0hPM4Hky8"
      },
      "source": [
        "## 2.괄호 검사"
      ]
    },
    {
      "cell_type": "markdown",
      "metadata": {
        "id": "Ic4EYJ-4qWzs"
      },
      "source": [
        "### 2-1. 괄호 검사 -1"
      ]
    },
    {
      "cell_type": "code",
      "metadata": {
        "id": "LndkZtowI3XK"
      },
      "source": [
        "# 원본\r\n",
        "T = int(input())\r\n",
        "for tc in range(1, T + 1):\r\n",
        "    sentence = input()\r\n",
        "    len_str = len(sentence)\r\n",
        "    # 문자열을 돌면서 stack을 두 개 만든다.\r\n",
        "    # '(', '{'을 담는 stack_all\r\n",
        "    stack_all = []\r\n",
        "    for char in range(len_str):\r\n",
        "        char = sentence[char]\r\n",
        "        # '(', '{' 쌓기\r\n",
        "        if char == '(' or char == '{':\r\n",
        "            stack_all.append(char)\r\n",
        "        # ')'\r\n",
        "        if char == ')':\r\n",
        "            if stack_all.pop() != '(':\r\n",
        "                ans = 0\r\n",
        "                break\r\n",
        "        # '}'\r\n",
        "        if char == '}':\r\n",
        "            if stack_all.pop() != '{':\r\n",
        "                ans = 0\r\n",
        "                break\r\n",
        "    if stack_all:\r\n",
        "        ans = 0\r\n",
        "    else:\r\n",
        "        ans = 1\r\n",
        " \r\n",
        "    # 반환\r\n",
        "    print('#%d %d' %(tc, ans))"
      ],
      "execution_count": null,
      "outputs": []
    },
    {
      "cell_type": "code",
      "metadata": {
        "id": "wEt7vbjNbmG7"
      },
      "source": [
        "# 수정본\r\n",
        "# 닫는 괄호가 더 많으면 혹시 에러가 안나나요?  \r\n",
        "# 그리고 입력이 만약에  ) 처럼 닫기 괄호가 먼저 들어오면 pop()에서 런타임 에러 날것 같아서, 따로 처리해줘야 할거 같습니다\r\n",
        "# => # ()) 에러 발생\r\n",
        "def pop():\r\n",
        "    # underflow \r\n",
        "    if not stack_all:\r\n",
        "        return None\r\n",
        "    return stack_all.pop\r\n",
        "\r\n",
        "def get_answer(sentence):\r\n",
        "    stack_all = []\r\n",
        "    for char in sentence:\r\n",
        "        # '(', '{' 쌓기\r\n",
        "        if char == '(' or char == '{':\r\n",
        "            stack_all.append(char)\r\n",
        "        elif char == ')':\r\n",
        "            if pop() != '(':\r\n",
        "                return 0\r\n",
        "        elif char == '}':\r\n",
        "            if pop() != '{':\r\n",
        "                return 0\r\n",
        "\r\n",
        "    return 0 if stack_all else 1\r\n",
        "\r\n",
        "\r\n",
        "T = int(input())\r\n",
        "for tc in range(1, T + 1):\r\n",
        "    sentence = input()\r\n",
        "    ans = get_answer(sentence) \r\n",
        "    # 반환\r\n",
        "    print('#%d %d' %(tc, ans))"
      ],
      "execution_count": null,
      "outputs": []
    },
    {
      "cell_type": "markdown",
      "metadata": {
        "id": "VzUsKsijqb9a"
      },
      "source": [
        "### 2-2. statement 의 분류"
      ]
    },
    {
      "cell_type": "code",
      "metadata": {
        "id": "e84NbrkNg8TD"
      },
      "source": [
        "statement\r\n",
        "- simple statement : ';'를 이용해서 한 줄에 여러 개를 나열할 수 있다\r\n",
        "  - expression : 1개의 object로 표현될 수 있는 것\r\n",
        "    상수, 이름, 연산자를 포함한 식(a+1, 거듭제곱, 산술, 비교, 논리, 비트), 호출식, lambda식, conditional expression(A if T else B)\r\n",
        "    comprehension, [1, 2, 3]\r\n",
        "    호출식 : input(), print(), max(), min(), zip(), list() ..\r\n",
        "  - expression이 아닌 simple statement : =, +=, break, continue, return, ...\r\n",
        "- compound statement : ':'으로 header를 마무리하고, 다음줄에 들여쓰기해서 block을 만들 수 있다\r\n",
        "  if, for, while, def, class, try, with\r\n",
        "\r\n",
        "expression을 사용할 수 있는 위치\r\n",
        "1. 이름 = expression\r\n",
        "2. 함수(argument), argument => expression을 argument로 사용할 수 있다\r\n",
        "3. return expression\r\n"
      ],
      "execution_count": null,
      "outputs": []
    },
    {
      "cell_type": "code",
      "metadata": {
        "colab": {
          "base_uri": "https://localhost:8080/"
        },
        "id": "MIDPRJrJj3_J",
        "outputId": "9bcd5062-d34e-4b6b-9006-c1a2a4257f9e"
      },
      "source": [
        "(1).__add__(2)"
      ],
      "execution_count": null,
      "outputs": [
        {
          "output_type": "execute_result",
          "data": {
            "text/plain": [
              "3"
            ]
          },
          "metadata": {
            "tags": []
          },
          "execution_count": 36
        }
      ]
    },
    {
      "cell_type": "code",
      "metadata": {
        "colab": {
          "base_uri": "https://localhost:8080/"
        },
        "id": "a4F40GiMj0eq",
        "outputId": "5eae72b1-d605-46d1-d4ad-cf03077eb78d"
      },
      "source": [
        "(lambda x : x + 10)(5)"
      ],
      "execution_count": null,
      "outputs": [
        {
          "output_type": "execute_result",
          "data": {
            "text/plain": [
              "15"
            ]
          },
          "metadata": {
            "tags": []
          },
          "execution_count": 35
        }
      ]
    },
    {
      "cell_type": "code",
      "metadata": {
        "id": "LLnRBjvvhUiZ"
      },
      "source": [
        "if condition: simple statement\r\n",
        "    compound statement\r\n",
        "    simple statement"
      ],
      "execution_count": null,
      "outputs": []
    },
    {
      "cell_type": "code",
      "metadata": {
        "id": "0hCG_Cm4L0JD"
      },
      "source": [
        "# 스택 구현\r\n",
        "def push(v):\r\n",
        "    stack.append(v)\r\n",
        " \r\n",
        " \r\n",
        "def pop():\r\n",
        "    if not stack:\r\n",
        "        return\r\n",
        "    return stack.pop(-1)\r\n",
        " \r\n",
        " \r\n",
        "T = int(input())\r\n",
        "for t in range(1, T+1):\r\n",
        "    string = input()\r\n",
        "    stack = []\r\n",
        "    result = 1\r\n",
        "    for v in string:\r\n",
        "        if v == '(' or v == '{':\r\n",
        "            push(v)\r\n",
        "        elif v == ')':\r\n",
        "            if pop() != '(':\r\n",
        "                result = 0  # result = 0이 되었지만 계속 반복할 수 있다, 성능이 저하됨, break를 사용하는 것이 유리\r\n",
        "        elif v == '}':\r\n",
        "            if pop() != '{':\r\n",
        "                result = 0\r\n",
        " \r\n",
        "    if stack:\r\n",
        "        result = 0\r\n",
        " \r\n",
        "    print('#%d %d' %(t, result))"
      ],
      "execution_count": null,
      "outputs": []
    },
    {
      "cell_type": "markdown",
      "metadata": {
        "id": "x0s-JNy8qgve"
      },
      "source": [
        "### 2-3. 괄호 검사 -2"
      ]
    },
    {
      "cell_type": "code",
      "metadata": {
        "id": "0K4g_wOmITxu"
      },
      "source": [
        "# 원본\r\n",
        "opn = ['(', '{', '[']\r\n",
        "cls = [')', '}', ']']\r\n",
        "T = int(input())\r\n",
        "for t in range(1, T + 1):\r\n",
        "    bracket = []\r\n",
        "    result = 1\r\n",
        "    S = input()\r\n",
        "    for s in S:\r\n",
        "        if s in opn:\r\n",
        "            for i in range(len(opn)):\r\n",
        "                if opn[i] == s:\r\n",
        "                    bracket.append(i)\r\n",
        "                    break\r\n",
        "        elif s in cls:\r\n",
        "            if len(bracket) == 0:\r\n",
        "                result = 0\r\n",
        "                break\r\n",
        "            else:\r\n",
        "                tmp = 0\r\n",
        "                poped = bracket.pop(-1)\r\n",
        "                for j in range(len(cls)):\r\n",
        "                    if cls[j] == s:\r\n",
        "                        tmp = j\r\n",
        "                if tmp != poped:\r\n",
        "                    result = 0\r\n",
        "                    break\r\n",
        "    if len(bracket) > 0:\r\n",
        "        result = 0\r\n",
        " \r\n",
        "    print(\"#%d %d\" % (t, result))"
      ],
      "execution_count": null,
      "outputs": []
    },
    {
      "cell_type": "code",
      "metadata": {
        "colab": {
          "base_uri": "https://localhost:8080/"
        },
        "id": "pI1yGuASmWwy",
        "outputId": "0a6c891a-8bd2-438c-9ffe-6f7e2afb1649"
      },
      "source": [
        "a = []\r\n",
        "print(bool(a))"
      ],
      "execution_count": null,
      "outputs": [
        {
          "output_type": "stream",
          "text": [
            "False\n"
          ],
          "name": "stdout"
        }
      ]
    },
    {
      "cell_type": "code",
      "metadata": {
        "colab": {
          "base_uri": "https://localhost:8080/"
        },
        "id": "ArcYva2EnHGx",
        "outputId": "0e0cdade-c3bc-45ae-a461-9cd9170e60e4"
      },
      "source": [
        "opn = ['(', '{']\r\n",
        "cls = [')', '}']\r\n",
        "d = dict(zip(cls, opn))\r\n",
        "print(d)"
      ],
      "execution_count": null,
      "outputs": [
        {
          "output_type": "stream",
          "text": [
            "{')': '(', '}': '{'}\n"
          ],
          "name": "stdout"
        }
      ]
    },
    {
      "cell_type": "code",
      "metadata": {
        "id": "166hasaMlJR3"
      },
      "source": [
        "# 수정본\r\n",
        "opn = ['(', '{']\r\n",
        "cls = [')', '}']\r\n",
        "d = dict(zip(cls, opn))\r\n",
        "\r\n",
        "def pop():\r\n",
        "    if not bracket:\r\n",
        "        return None\r\n",
        "    return bracket.pop(-1)\r\n",
        "\r\n",
        "T = int(input())\r\n",
        "for t in range(1, T + 1):\r\n",
        "    bracket = []\r\n",
        "    result = 1\r\n",
        "    S = input()\r\n",
        "    for s in S:\r\n",
        "        if s == '(' or s == '{': # 열기 괄호를 추가\r\n",
        "            bracket.append(s)   \r\n",
        "        elif s ==')' or s == '}': # 닫기 괄호            \r\n",
        "            poped = pop()\r\n",
        "            if d[s] != poped:\r\n",
        "                result = 0\r\n",
        "                break\r\n",
        "\r\n",
        "    if len(bracket) > 0:\r\n",
        "        result = 0\r\n",
        " \r\n",
        "    print(\"#%d %d\" % (t, result))"
      ],
      "execution_count": null,
      "outputs": []
    },
    {
      "cell_type": "markdown",
      "metadata": {
        "id": "_vhcxZF9qjqA"
      },
      "source": [
        "### 2-4. 괄호 검사 -3"
      ]
    },
    {
      "cell_type": "code",
      "metadata": {
        "id": "E7ccTUFeIogC"
      },
      "source": [
        "# 원본\r\n",
        "def push(v):\r\n",
        "    if v == '(' or v == '{':\r\n",
        "        stack.append(v)\r\n",
        "\r\n",
        " \r\n",
        "def pop():\r\n",
        "    if not len(stack):\r\n",
        "        return -1\r\n",
        "    return stack.pop(-1)\r\n",
        " \r\n",
        " \r\n",
        "T = int(input())\r\n",
        "for test_case in range(1, T+1):\r\n",
        "    text = input()\r\n",
        "    stack = [] \r\n",
        "    for i in text:\r\n",
        "        push(i)  # 열기 괄호면 append\r\n",
        "        if i == ')' or i == '}':\r\n",
        "            pop()\r\n",
        " \r\n",
        "    if len(stack) == 0:\r\n",
        "        print('#%d 1' % test_case)\r\n",
        "    else:\r\n",
        "        print('#%d 0' % test_case)"
      ],
      "execution_count": null,
      "outputs": []
    },
    {
      "cell_type": "code",
      "metadata": {
        "id": "bdlxUXoAoS_T"
      },
      "source": [
        "# 수정본\r\n",
        "\r\n",
        "def push(v):\r\n",
        "    if v == '(' or v == '{':\r\n",
        "        stack.append(v)\r\n",
        "\r\n",
        " \r\n",
        "def pop():\r\n",
        "    if not len(stack):\r\n",
        "        return -1\r\n",
        "    return stack.pop(-1)\r\n",
        " \r\n",
        "d = {')' : '(', '}' : '{'}\r\n",
        "\r\n",
        "T = int(input())\r\n",
        "for test_case in range(1, T+1):\r\n",
        "    text = input()\r\n",
        "    stack = [] \r\n",
        "    for i in text:\r\n",
        "        push(i)  # 열기 괄호면 append\r\n",
        "        if i == ')' or i == '}':\r\n",
        "            poped = pop()\r\n",
        "            # poped 와 i를 비교해서 종료할 것인지 결정하는 코드 추가 필요 ==> # ( } 도 1을 출력하게 되는 상황 방지!\r\n",
        "            if d[i] != poped:\r\n",
        "                ans = 0\r\n",
        "                break\r\n",
        "    else :            \r\n",
        "        ans = 0 if stack else 1\r\n",
        "\r\n",
        "    print('#%d %d' % (test_case, ans))\r\n"
      ],
      "execution_count": null,
      "outputs": []
    },
    {
      "cell_type": "code",
      "metadata": {
        "id": "xfsYmIPZK8LW"
      },
      "source": [
        "#주어진입력에서괄호{}, ()가제대로짝을이뤘는지검사하는프로그램을만드시오.\r\n",
        "#정상적으로짝을이룬경우1, 그렇지않으면0을출력한다.\r\n",
        " \r\n",
        " \r\n",
        "def push(char): #문자형을 push한다.\r\n",
        "    if char == '(' or char == '{': #괄호일 경우만 스택에 char를 추가한다.\r\n",
        "        stack.append(char)\r\n",
        " \r\n",
        " \r\n",
        "def pop(): #pop하기 위한 함수 작성\r\n",
        "    if not len(stack): # stack의 길이가 아니라면\r\n",
        "        return #빠져나온다.\r\n",
        "    return stack.pop()\r\n",
        " \r\n",
        " \r\n",
        "T = int(input())\r\n",
        "for t in range(1, T + 1):\r\n",
        "    gwalho = input() #괄호값 char를 받기 위한 input\r\n",
        "    stack = [] #stack에 쌓을 거임\r\n",
        "    result = 1 #결과는 먼저 1(정상이라고 가정한다.) \r\n",
        "    for case in gwalho: #괄호라는 인풋안의 케이스\r\n",
        "        push(case) \r\n",
        "        if case == '}': #만약 괄호라는 char들의 값이 )라면,\r\n",
        "            if pop() != '{': # pop ( 가 아닌 경우에 result가 0이므로, )인 경우는 1로 유지(정상)\r\n",
        "                result = 0 \r\n",
        "        elif case == ')': #만약 괄호라는 char들의 값이 }라면,\r\n",
        "            if pop() != '(': #pop { 가 아닌 경우게 result가 0 이므로 ... } 인 경우는 1로 유지(정상)\r\n",
        "                result = 0 \r\n",
        "    if stack: result = 0\r\n",
        " \r\n",
        "    print('#%d %d' % (t, result))"
      ],
      "execution_count": null,
      "outputs": []
    },
    {
      "cell_type": "markdown",
      "metadata": {
        "id": "9yn15aNxql1v"
      },
      "source": [
        "### 2-5. 괄호 검사 - 4"
      ]
    },
    {
      "cell_type": "code",
      "metadata": {
        "id": "N8cnMZ3JLfaj"
      },
      "source": [
        "stack = []\r\n",
        "pattern = {')':'(', '}':'{'}\r\n",
        "\r\n",
        "def push(v):\r\n",
        "    stack.append(v)\r\n",
        "\r\n",
        "\r\n",
        "def pop():\r\n",
        "    if not len(stack):\r\n",
        "        return 0\r\n",
        "    return stack.pop()\r\n",
        "\r\n",
        "\r\n",
        "def get_solution(words):\r\n",
        "    stack.clear()\r\n",
        "    for word in words:\r\n",
        "        if word == '(' or word == '{':\r\n",
        "            push(word)\r\n",
        "        elif word == ')' or word == '}':\r\n",
        "            pw = pop()\r\n",
        "            if pw != pattern[word]:\r\n",
        "                return 0\r\n",
        "    return 1 if not stack else 0\r\n",
        "\r\n",
        "T = int(input())\r\n",
        "for t in range(1, T+1):\r\n",
        "    w = input()\r\n",
        "    sol = get_solution(w)\r\n",
        "    print('#%d %d' % (t, sol))    "
      ],
      "execution_count": null,
      "outputs": []
    },
    {
      "cell_type": "markdown",
      "metadata": {
        "id": "7OgHJF_nNvNE"
      },
      "source": [
        "## 3.그래프 경로"
      ]
    },
    {
      "cell_type": "markdown",
      "metadata": {
        "id": "F-UX5FdasUBQ"
      },
      "source": [
        "### 3-1. 그래프 경로 - 반복문"
      ]
    },
    {
      "cell_type": "code",
      "metadata": {
        "id": "NiZejR7wPVn9"
      },
      "source": [
        "# 11578 그래프 경로 (DFS_AL)\r\n",
        " \r\n",
        "def DFS(V, AL, S):\r\n",
        "    visited = [0] * (V + 1)\r\n",
        "    stack = [S]\r\n",
        "    history = []\r\n",
        "     \r\n",
        "    # stack이 비지 않았다면\r\n",
        "    while stack:\r\n",
        "        # 스택을 pop시킨다.\r\n",
        "        node = stack.pop()\r\n",
        "        # 처음 방문하는 노드라면\r\n",
        "        if visited[node] == 0:\r\n",
        "            # 방문 기록을 남긴다.\r\n",
        "            visited[node] = 1\r\n",
        "            history.append(node)\r\n",
        "            # 주변에 처음 방문하는 노드가 있다면 추가한다.\r\n",
        "            for j in AL[node]:\r\n",
        "                if visited[j] == 0:\r\n",
        "                    stack.append(j)\r\n",
        "     \r\n",
        "    return history\r\n",
        " \r\n",
        "T = int(input())\r\n",
        " \r\n",
        "for test_case in range(1, T+1):\r\n",
        "    V, E = list(map(int, input().split()))\r\n",
        "    AL = [[] for _ in range(V + 1)]    \r\n",
        "     \r\n",
        "    for i in range(E):\r\n",
        "        s, e = list(map(int, input().split()))\r\n",
        "        AL[s].append(e)\r\n",
        "     \r\n",
        "    S, G = list(map(int, input().split()))\r\n",
        "     \r\n",
        "    helpResult = DFS(V, AL, S)\r\n",
        "    result = 0\r\n",
        "    for k in helpResult:\r\n",
        "        if k == G:\r\n",
        "            result = 1\r\n",
        "     \r\n",
        "    print('#%d %d' % (test_case, result))"
      ],
      "execution_count": null,
      "outputs": []
    },
    {
      "cell_type": "code",
      "metadata": {
        "id": "Oc5xHLQGO-vQ"
      },
      "source": [
        "T = int(input())\r\n",
        " \r\n",
        "for tc in range(1, T+1):\r\n",
        "    V, E = map(int, input().split())\r\n",
        " \r\n",
        "    # adjacent list 초기화\r\n",
        "    arr = [[] for _ in range(V+1)]\r\n",
        "    # adjacent list에 input 받기\r\n",
        "    for _ in range(E):\r\n",
        "        start, end = map(int, input().split())\r\n",
        "        arr[start].append(end)\r\n",
        "     \r\n",
        "    # 문제에서 찾아야하는 경로의 시작점과 끝점\r\n",
        "    start, end = map(int, input().split())\r\n",
        " \r\n",
        "    # 접근법: start에서부터 dfs 찾기를 실시해서,\r\n",
        "    # 끝났을때 visited[end]가 1이라면 경로 있음, 아니면 경로 없음\r\n",
        "    stack = [start]\r\n",
        "    visited = [0] * (V+1)\r\n",
        "    while stack:\r\n",
        "        current = stack.pop()\r\n",
        "        if not visited[current]:\r\n",
        "            visited[current] = 1\r\n",
        "            for i in arr[current]:\r\n",
        "                if not visited[i]:\r\n",
        "                    stack.append(i)\r\n",
        "     \r\n",
        "    print(\"#%d %d\" % (tc,visited[end]))"
      ],
      "execution_count": null,
      "outputs": []
    },
    {
      "cell_type": "code",
      "metadata": {
        "id": "xb1BtTCdPiJS"
      },
      "source": [
        "def DFS(v, al, s, g):\r\n",
        "    stack = [s]\r\n",
        "    visited = [0] * (v+1)\r\n",
        "    while stack:\r\n",
        "        node = stack.pop()\r\n",
        "        if not visited[node]:\r\n",
        "            visited[node] = 1\r\n",
        "            for n in al[node]:\r\n",
        "                if not visited[n]:\r\n",
        "                    if n == g: return 1   # n을 스택에 넣기 전에 검사\r\n",
        "                    stack.append(n)\r\n",
        "    return 0\r\n",
        " \r\n",
        "T = int(input())\r\n",
        "for t in range(1, T+1):\r\n",
        "    V, E = map(int, input().split())\r\n",
        "    edges = [tuple(map(int, input().split())) for _ in range(E)]\r\n",
        "    S, G = map(int, input().split())\r\n",
        "    # 인접 리스트\r\n",
        "    AL = [[] for _ in range(V+1)]\r\n",
        "    for s, e in edges:\r\n",
        "        AL[s].append(e)\r\n",
        "    ans = DFS(V, AL, S, G)\r\n",
        "    print('#%d %d' % (t, ans))"
      ],
      "execution_count": null,
      "outputs": []
    },
    {
      "cell_type": "markdown",
      "metadata": {
        "id": "TjcnpeMwu5Kv"
      },
      "source": [
        "### 3-2. 그래프 경로 - 재귀사용"
      ]
    },
    {
      "cell_type": "code",
      "metadata": {
        "colab": {
          "base_uri": "https://localhost:8080/"
        },
        "id": "-9zsNgjzQhFB",
        "outputId": "fe1c36ef-d13e-4c11-ae4e-3a5f0c42e6b6"
      },
      "source": [
        "# 풀이3. 재귀\r\n",
        "cnt = 0\r\n",
        "def dfs(v):\r\n",
        "    print(v)\r\n",
        "    global cnt\r\n",
        "    cnt += 1\r\n",
        "    visited[v] = 1\r\n",
        "    for next_node in graph[v]:\r\n",
        "        if not visited[next_node]:\r\n",
        "            dfs(next_node)\r\n",
        " \r\n",
        "for t in range(1, int(input())+1):\r\n",
        "    #V, E = map(int, input().split())\r\n",
        "    #edges = [list(map(int, input().split())) for _ in range(E)]\r\n",
        "    #S, G = map(int, input().split())\r\n",
        "    #graph = [[] for _ in range(V+1)]\r\n",
        "    #for start, end in edges:\r\n",
        "    #    graph[start].append(end)\r\n",
        "    V, E = 9, 9\r\n",
        "    edges = [(2, 6), (4, 7), (5, 7), (1, 5), (2, 9), (3, 9), (4, 8), (5, 3), (7, 8)]\r\n",
        "    graph = [[] for _ in range(v+1)]\r\n",
        "    for a, b in edges:\r\n",
        "        graph[a].append(b)\r\n",
        "    S, G = 1, 2\r\n",
        "    \r\n",
        "    # stack, visited 초기화\r\n",
        "    stack = []\r\n",
        "    visited = [0] * (V+1) #[ 0 for _ in range(V+1)]\r\n",
        "    cnt = 0\r\n",
        "    dfs(S)\r\n",
        "    print('#%d %d' % (t, visited[G]))\r\n",
        "    print(cnt)\r\n"
      ],
      "execution_count": null,
      "outputs": [
        {
          "output_type": "stream",
          "text": [
            "1\n",
            "1\n",
            "5\n",
            "7\n",
            "8\n",
            "3\n",
            "9\n",
            "#1 0\n",
            "6\n"
          ],
          "name": "stdout"
        }
      ]
    },
    {
      "cell_type": "code",
      "metadata": {
        "colab": {
          "base_uri": "https://localhost:8080/"
        },
        "id": "ZYnXdvHMOcbX",
        "outputId": "2b76530b-cd50-4b84-a9f0-2fa65b386cfb"
      },
      "source": [
        "cnt = 0\r\n",
        "def find_route(edge_list, S, G):\r\n",
        "    global cnt\r\n",
        "    print(S, G)\r\n",
        "    cnt += 1\r\n",
        "    if G in edge_list[S]:\r\n",
        "        return 1\r\n",
        "    return bool( sum([find_route(edge_list, s, G) for s in edge_list[S]] ))\r\n",
        " \r\n",
        "for t in range(1, int(input())+1):\r\n",
        "    #v, e = map(int, input().split())\r\n",
        "    #edge_list = [[] for _ in range(v+1)]\r\n",
        " \r\n",
        "    #for _ in range(e):\r\n",
        "    #    edge_start, edge_end = map(int, input().split())\r\n",
        "    #    edge_list[edge_start].append(edge_end)\r\n",
        "    #S, G = map(int, input().split())\r\n",
        "    v, e = 9, 9\r\n",
        "    edges = [(2, 6), (4, 7), (5, 7), (1, 5), (2, 9), (3, 9), (4, 8), (5, 3), (7, 8)]\r\n",
        "    edge_list = [[] for _ in range(v+1)]\r\n",
        "    for a, b in edges:\r\n",
        "        edge_list[a].append(b)\r\n",
        "    S, G = 1, 2\r\n",
        "    cnt = 0\r\n",
        "    print(\"#%d %d\" %(t, find_route(edge_list, S, G)))\r\n",
        "    print(cnt)"
      ],
      "execution_count": null,
      "outputs": [
        {
          "output_type": "stream",
          "text": [
            "1\n",
            "1 2\n",
            "5 2\n",
            "7 2\n",
            "8 2\n",
            "3 2\n",
            "9 2\n",
            "#1 0\n",
            "6\n"
          ],
          "name": "stdout"
        }
      ]
    },
    {
      "cell_type": "code",
      "metadata": {
        "colab": {
          "base_uri": "https://localhost:8080/"
        },
        "id": "OmOQHFGhwESH",
        "outputId": "3b06df97-6ce2-4c55-a546-3728179c460d"
      },
      "source": [
        "cnt = 0\r\n",
        "def dfs(s, e):\r\n",
        "    global cnt\r\n",
        "    print(s, e)\r\n",
        "    cnt += 1\r\n",
        "    if s not in mm:\r\n",
        "        return 0\r\n",
        "    if e in mm[s]:\r\n",
        "        return 1\r\n",
        "    return sum(dfs(x, e) for x in mm[s]) > 0\r\n",
        " \r\n",
        " \r\n",
        "t = int(input())\r\n",
        "for test_case in range(1, t + 1):\r\n",
        " \r\n",
        "    #mm = {}\r\n",
        "    #V, E = map(int, input().split())\r\n",
        "    #for _ in range(E):\r\n",
        "    #    s, e = map(int, input().split())\r\n",
        "    #    mm[s] = mm.get(s, []) + [e]\r\n",
        "    #s, e = map(int, input().split())\r\n",
        "\r\n",
        "    V, E = 9, 9\r\n",
        "    edges = [(2, 6), (4, 7), (5, 7), (1, 5), (2, 9), (3, 9), (4, 8), (5, 3), (7, 8)]\r\n",
        "    mm = {} \r\n",
        "    for s, e in edges:\r\n",
        "        mm[s] = mm.get(s, []) + [e]\r\n",
        "    s, e = 1, 2\r\n",
        "\r\n",
        "    cnt = 0\r\n",
        "    print('#%d %d' % (test_case, dfs(s, e)))\r\n",
        "    print(cnt)"
      ],
      "execution_count": null,
      "outputs": [
        {
          "output_type": "stream",
          "text": [
            "1\n",
            "1 2\n",
            "5 2\n",
            "7 2\n",
            "8 2\n",
            "3 2\n",
            "9 2\n",
            "#1 0\n",
            "6\n"
          ],
          "name": "stdout"
        }
      ]
    },
    {
      "cell_type": "code",
      "metadata": {
        "id": "d2yGWRUJQJan"
      },
      "source": [
        "# 동작이 되었지만, 문제의 요구사항 반영을 안함, s에 대해 다음 방문할 노드 선정이 +1 이 아님!\r\n",
        "def get_route(s, g):\r\n",
        "    if matrix[s][g] == 1:\r\n",
        "        return 1\r\n",
        "\r\n",
        "    if s < V:\r\n",
        "        s += 1\r\n",
        "        return get_route(s, g)\r\n",
        "    return 0\r\n",
        " \r\n",
        "T = int(input())\r\n",
        "for ts in range(1, T+1):\r\n",
        "    V, E = map(int, input().split())\r\n",
        "    matrix = [[0 for i in range(V+1)] for i in range(V+1)]\r\n",
        "    for i in range(E):\r\n",
        "        a, b = map(int, input().split())\r\n",
        "        matrix[a][b] = 1\r\n",
        "    S, G = map(int, input().split())\r\n",
        " \r\n",
        "    print('#%d' % ts, get_route(S, G))"
      ],
      "execution_count": null,
      "outputs": []
    },
    {
      "cell_type": "markdown",
      "metadata": {
        "id": "XhjhWyB9AuhZ"
      },
      "source": [
        "## 4.UnboundLocalError"
      ]
    },
    {
      "cell_type": "code",
      "metadata": {
        "id": "Ke0vVGi6DYuj"
      },
      "source": [
        ""
      ],
      "execution_count": null,
      "outputs": []
    },
    {
      "cell_type": "code",
      "metadata": {
        "colab": {
          "base_uri": "https://localhost:8080/",
          "height": 381
        },
        "id": "Law7QLMjAxh0",
        "outputId": "8bd2c10c-66c1-4a56-8ba4-3437f54cb0d0"
      },
      "source": [
        "a = [1, 2]\r\n",
        "\r\n",
        "def func():\r\n",
        "    b, c = 1, 2\r\n",
        "    a.append(3) # UnboundLocalError\r\n",
        "    a[0] = 100\r\n",
        "    a[1:2] = [10, 20, 30, 40]\r\n",
        "    a = a[::-1]\r\n",
        "\r\n",
        "\r\n",
        "print(func.__code__.co_varnames)\r\n",
        "\r\n",
        "func()  # local namespace 생성 {'b': 1, 'c': 2, 'a': ?}\r\n",
        "#print(a)"
      ],
      "execution_count": null,
      "outputs": [
        {
          "output_type": "stream",
          "text": [
            "('b', 'c', 'a')\n"
          ],
          "name": "stdout"
        },
        {
          "output_type": "error",
          "ename": "UnboundLocalError",
          "evalue": "ignored",
          "traceback": [
            "\u001b[0;31m---------------------------------------------------------------------------\u001b[0m",
            "\u001b[0;31mUnboundLocalError\u001b[0m                         Traceback (most recent call last)",
            "\u001b[0;32m<ipython-input-59-07ff15556ede>\u001b[0m in \u001b[0;36m<module>\u001b[0;34m()\u001b[0m\n\u001b[1;32m     11\u001b[0m \u001b[0mprint\u001b[0m\u001b[0;34m(\u001b[0m\u001b[0mfunc\u001b[0m\u001b[0;34m.\u001b[0m\u001b[0m__code__\u001b[0m\u001b[0;34m.\u001b[0m\u001b[0mco_varnames\u001b[0m\u001b[0;34m)\u001b[0m\u001b[0;34m\u001b[0m\u001b[0;34m\u001b[0m\u001b[0m\n\u001b[1;32m     12\u001b[0m \u001b[0;34m\u001b[0m\u001b[0m\n\u001b[0;32m---> 13\u001b[0;31m \u001b[0mfunc\u001b[0m\u001b[0;34m(\u001b[0m\u001b[0;34m)\u001b[0m  \u001b[0;31m# local namespace 생성 {'b': 1, 'c': 2, 'a': ?}\u001b[0m\u001b[0;34m\u001b[0m\u001b[0;34m\u001b[0m\u001b[0m\n\u001b[0m\u001b[1;32m     14\u001b[0m \u001b[0;31m#print(a)\u001b[0m\u001b[0;34m\u001b[0m\u001b[0;34m\u001b[0m\u001b[0;34m\u001b[0m\u001b[0m\n",
            "\u001b[0;32m<ipython-input-59-07ff15556ede>\u001b[0m in \u001b[0;36mfunc\u001b[0;34m()\u001b[0m\n\u001b[1;32m      3\u001b[0m \u001b[0;32mdef\u001b[0m \u001b[0mfunc\u001b[0m\u001b[0;34m(\u001b[0m\u001b[0;34m)\u001b[0m\u001b[0;34m:\u001b[0m\u001b[0;34m\u001b[0m\u001b[0;34m\u001b[0m\u001b[0m\n\u001b[1;32m      4\u001b[0m     \u001b[0mb\u001b[0m\u001b[0;34m,\u001b[0m \u001b[0mc\u001b[0m \u001b[0;34m=\u001b[0m \u001b[0;36m1\u001b[0m\u001b[0;34m,\u001b[0m \u001b[0;36m2\u001b[0m\u001b[0;34m\u001b[0m\u001b[0;34m\u001b[0m\u001b[0m\n\u001b[0;32m----> 5\u001b[0;31m     \u001b[0ma\u001b[0m\u001b[0;34m.\u001b[0m\u001b[0mappend\u001b[0m\u001b[0;34m(\u001b[0m\u001b[0;36m3\u001b[0m\u001b[0;34m)\u001b[0m \u001b[0;31m# UnboundLocalError\u001b[0m\u001b[0;34m\u001b[0m\u001b[0;34m\u001b[0m\u001b[0m\n\u001b[0m\u001b[1;32m      6\u001b[0m     \u001b[0ma\u001b[0m\u001b[0;34m[\u001b[0m\u001b[0;36m0\u001b[0m\u001b[0;34m]\u001b[0m \u001b[0;34m=\u001b[0m \u001b[0;36m100\u001b[0m\u001b[0;34m\u001b[0m\u001b[0;34m\u001b[0m\u001b[0m\n\u001b[1;32m      7\u001b[0m     \u001b[0ma\u001b[0m\u001b[0;34m[\u001b[0m\u001b[0;36m1\u001b[0m\u001b[0;34m:\u001b[0m\u001b[0;36m2\u001b[0m\u001b[0;34m]\u001b[0m \u001b[0;34m=\u001b[0m \u001b[0;34m[\u001b[0m\u001b[0;36m10\u001b[0m\u001b[0;34m,\u001b[0m \u001b[0;36m20\u001b[0m\u001b[0;34m,\u001b[0m \u001b[0;36m30\u001b[0m\u001b[0;34m,\u001b[0m \u001b[0;36m40\u001b[0m\u001b[0;34m]\u001b[0m\u001b[0;34m\u001b[0m\u001b[0;34m\u001b[0m\u001b[0m\n",
            "\u001b[0;31mUnboundLocalError\u001b[0m: local variable 'a' referenced before assignment"
          ]
        }
      ]
    },
    {
      "cell_type": "code",
      "metadata": {
        "colab": {
          "base_uri": "https://localhost:8080/"
        },
        "id": "gCYnFmPcBG-w",
        "outputId": "1ba0b391-0dc4-48b8-a2fb-10f622889116"
      },
      "source": [
        "a = [1, 2]  # global namespace {'a' : [1, 2]}\r\n",
        "\r\n",
        "def func(x):\r\n",
        "    b, c = 1, 2\r\n",
        "    a.append(3) # UnboundLocalError\r\n",
        "    a[0] = 100\r\n",
        "    a[1:2] = [10, 20, 30, 40]\r\n",
        "\r\n",
        "\r\n",
        "\r\n",
        "print(func.__code__.co_varnames)\r\n",
        "\r\n",
        "func(10)  # local namespace 생성 {'b': 1, 'c': 2, 'x': 10}\r\n",
        "#print(a)"
      ],
      "execution_count": null,
      "outputs": [
        {
          "output_type": "stream",
          "text": [
            "('x', 'b', 'c')\n"
          ],
          "name": "stdout"
        }
      ]
    },
    {
      "cell_type": "code",
      "metadata": {
        "id": "XbjC_KuEIA0s"
      },
      "source": [
        ""
      ],
      "execution_count": null,
      "outputs": []
    },
    {
      "cell_type": "code",
      "metadata": {
        "id": "d4wN58LwIAxz"
      },
      "source": [
        ""
      ],
      "execution_count": null,
      "outputs": []
    },
    {
      "cell_type": "code",
      "metadata": {
        "id": "tl-jUs82IAuz"
      },
      "source": [
        ""
      ],
      "execution_count": null,
      "outputs": []
    },
    {
      "cell_type": "markdown",
      "metadata": {
        "id": "IQvKRs3LCHIo"
      },
      "source": [
        "## 5.반복문자 지우기"
      ]
    },
    {
      "cell_type": "code",
      "metadata": {
        "id": "MxjthOLOCbdQ"
      },
      "source": [
        "for tc in range(1, 1 + int(input())):\r\n",
        "    words = list(input())\r\n",
        "    stack = []\r\n",
        " \r\n",
        "    while words:\r\n",
        "        a = words.pop()\r\n",
        "        if not stack:\r\n",
        "            stack.append(a) \r\n",
        "        elif a == stack[-1]:\r\n",
        "            stack.pop()\r\n",
        "        else:\r\n",
        "            stack.append(a)\r\n",
        " \r\n",
        "    print('#{} {}'.format(tc, len(stack)))"
      ],
      "execution_count": null,
      "outputs": []
    },
    {
      "cell_type": "code",
      "metadata": {
        "id": "zqy9tnxxJ9-O"
      },
      "source": [
        "NNNASBBSNV => VNAN"
      ],
      "execution_count": null,
      "outputs": []
    },
    {
      "cell_type": "code",
      "metadata": {
        "id": "witLcCPoCTsn"
      },
      "source": [
        "# 120ms\r\n",
        "T = int(input())\r\n",
        "for t in range(1, T+1):\r\n",
        "    S = input()\r\n",
        "    stack = []\r\n",
        "    for s in S:\r\n",
        "        if not stack or stack[-1] != s:\r\n",
        "            stack.append(s)\r\n",
        "        else:\r\n",
        "            stack.pop()\r\n",
        "    l = len(stack)\r\n",
        "    print(\"#%d %d\" % (t, l))"
      ],
      "execution_count": null,
      "outputs": []
    },
    {
      "cell_type": "code",
      "metadata": {
        "id": "er_MSJAiKkxq"
      },
      "source": [
        "NNNASBBSNV\r\n",
        "NANV"
      ],
      "execution_count": null,
      "outputs": []
    },
    {
      "cell_type": "code",
      "metadata": {
        "id": "xevJ9IWQLhQ1"
      },
      "source": [
        "def func():\r\n",
        "    stack = []\r\n",
        "    if not stack:\r\n",
        "        stack.append(1)"
      ],
      "execution_count": null,
      "outputs": []
    },
    {
      "cell_type": "code",
      "metadata": {
        "id": "kGyDnXHJLchm"
      },
      "source": [
        "import dis\r\n",
        "dis.dis(func)"
      ],
      "execution_count": null,
      "outputs": []
    },
    {
      "cell_type": "code",
      "metadata": {
        "id": "o9uEHy1JLvNT"
      },
      "source": [
        "def func2():\r\n",
        "    stack = []\r\n",
        "    if len(stack) == 0:\r\n",
        "        stack.append(1)"
      ],
      "execution_count": null,
      "outputs": []
    },
    {
      "cell_type": "code",
      "metadata": {
        "id": "YyPk09JvLy5S"
      },
      "source": [
        "import dis\r\n",
        "dis.dis(func2)"
      ],
      "execution_count": null,
      "outputs": []
    },
    {
      "cell_type": "markdown",
      "metadata": {
        "id": "wpuQDIpoDc4K"
      },
      "source": [
        "## 6.비밀번호"
      ]
    },
    {
      "cell_type": "code",
      "metadata": {
        "id": "rOqHvJHzEQ0C"
      },
      "source": [
        "# stack의 top과 같은 것이 있으면 top을 제거\r\n",
        "def get_password(n, pwd):\r\n",
        "    stack = []\r\n",
        "    for num in pwd:\r\n",
        "        if len(stack) == 0 or num != stack[-1]:\r\n",
        "            stack.append(num)\r\n",
        "        else:\r\n",
        "            stack.pop()\r\n",
        "    return stack \r\n",
        "    \r\n",
        "for t in range(1, 11):\r\n",
        "    N, password = input().split()\r\n",
        "    N = int(N)\r\n",
        "    ans = get_password(N, password)\r\n",
        "    print('#%d %s' % (t, ''.join(ans)))"
      ],
      "execution_count": null,
      "outputs": []
    },
    {
      "cell_type": "code",
      "metadata": {
        "id": "h9gbf2gpEj0G"
      },
      "source": [
        "for test_case in range(1, 11):\r\n",
        "    N, nums = input().split()\r\n",
        "    # print(N, nums)\r\n",
        " \r\n",
        "    stack = []\r\n",
        "    for i in nums:\r\n",
        "        if not stack or stack[-1] != i:\r\n",
        "            stack.append(i)\r\n",
        "        else:\r\n",
        "            stack.pop()\r\n",
        " \r\n",
        "    print('#%d %s' % (test_case, ''.join(stack)))"
      ],
      "execution_count": null,
      "outputs": []
    },
    {
      "cell_type": "code",
      "metadata": {
        "id": "utMcAzc8Dxc_"
      },
      "source": [
        "# stack에 무조건 넣고 넣은 상태에서 상위의 2개를 비교해서 같으면 pop 2회\r\n",
        "for t in range(1, 11):\r\n",
        "    n, password = list(input().split())\r\n",
        "    stack = []\r\n",
        "    for num in password:\r\n",
        "        stack.append(num)\r\n",
        "        if len(stack) >= 2 and stack[-1] == stack[-2]:\r\n",
        "            stack.pop()\r\n",
        "            stack.pop()\r\n",
        "    ans = ''.join(stack)\r\n",
        "    print('#%d %s' %(t, ans))"
      ],
      "execution_count": null,
      "outputs": []
    },
    {
      "cell_type": "code",
      "metadata": {
        "id": "YvEyzyjzCo7I"
      },
      "source": [
        "# stack을 사용하지 않았음\r\n",
        "for t in range(1, 11):\r\n",
        "    N, X = input().split()\r\n",
        "    arr = list(X)\r\n",
        "    i = 0\r\n",
        "    while len(arr) > 0 and i < len(arr) - 1:\r\n",
        "        if arr[i] == arr[i+1]:\r\n",
        "            arr.pop(i)\r\n",
        "            arr.pop(i) # 위에서 i가 삭제 되었기 때문에 i위치에 i+1것이 와 있음\r\n",
        "            #i = 0  # 처음부터다시\r\n",
        "            if i > 0:\r\n",
        "                i -= 1\r\n",
        "        else:\r\n",
        "            i += 1\r\n",
        "    print('#%d %s' %(t, ''.join(arr)))"
      ],
      "execution_count": null,
      "outputs": []
    },
    {
      "cell_type": "code",
      "metadata": {
        "id": "0AgsuDOlPIMD"
      },
      "source": [
        "i -= 1만 쓰면 11232같은 예시에서 에러날 것 같아요"
      ],
      "execution_count": null,
      "outputs": []
    },
    {
      "cell_type": "code",
      "metadata": {
        "id": "tsG1O3c4NJVC"
      },
      "source": [
        "arr = 1234\r\n",
        "i = 3"
      ],
      "execution_count": null,
      "outputs": []
    },
    {
      "cell_type": "code",
      "metadata": {
        "id": "4QytkmL4EvX4"
      },
      "source": [
        "# 뒤에서 부터 읽어서 처리 했기 때문에 stack의 내용이 뒤집어져 있음\r\n",
        "for tc in range(1, 11):\r\n",
        "    n, password = input().split()\r\n",
        "    nums = list(password)\r\n",
        "    stack = []\r\n",
        " \r\n",
        "    while nums:\r\n",
        "        a = nums.pop()\r\n",
        "        if not stack:\r\n",
        "            stack.append(a)\r\n",
        "        elif a == stack[-1]:\r\n",
        "            stack.pop()\r\n",
        "        else:\r\n",
        "            stack.append(a)\r\n",
        " \r\n",
        "    print('#{} {}'.format(tc, ''.join(stack[::-1])))"
      ],
      "execution_count": null,
      "outputs": []
    },
    {
      "cell_type": "code",
      "metadata": {
        "id": "Rg2ggyasD6tP"
      },
      "source": [
        "# 재귀로 풀이 - 26일 시험 후에 재귀 학습하면서 볼것\r\n",
        "def recursive(string):\r\n",
        "    print(string)\r\n",
        "    for i in range(len(string) - 1):\r\n",
        "        if string[i] == string[i + 1]:\r\n",
        "            return recursive(string[:i] + string[i + 2:])\r\n",
        "    return string\r\n",
        " \r\n",
        " \r\n",
        "for test_case in range(1, 11):\r\n",
        "    _, string = input().split()\r\n",
        " \r\n",
        "    print('#%d %s' % (test_case, recursive(string)))"
      ],
      "execution_count": null,
      "outputs": []
    }
  ]
}