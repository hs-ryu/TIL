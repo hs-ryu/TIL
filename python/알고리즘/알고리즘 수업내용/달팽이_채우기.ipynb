{
  "nbformat": 4,
  "nbformat_minor": 0,
  "metadata": {
    "colab": {
      "name": "달팽이_채우기.ipynb",
      "provenance": [],
      "collapsed_sections": []
    },
    "kernelspec": {
      "name": "python3",
      "display_name": "Python 3"
    }
  },
  "cells": [
    {
      "cell_type": "markdown",
      "metadata": {
        "id": "S-b0PHT1Kl_g"
      },
      "source": [
        "### 달팽이 채우기 - 델타값"
      ]
    },
    {
      "cell_type": "code",
      "metadata": {
        "id": "R88z042m0pMv"
      },
      "source": [
        "왼쪽 -> 오른쪽,  위 -> 아래, 오른쪽 -> 왼쪽, 아래->위"
      ],
      "execution_count": null,
      "outputs": []
    },
    {
      "cell_type": "code",
      "metadata": {
        "id": "L9TItw940egU"
      },
      "source": [
        "dxy = [[0, 1], \r\n",
        "       [1, 0], \r\n",
        "       [0, -1], \r\n",
        "       [-1, 0]]"
      ],
      "execution_count": null,
      "outputs": []
    },
    {
      "cell_type": "code",
      "metadata": {
        "id": "rNe2o-8Q0kIC"
      },
      "source": [
        "dr= [0, 1, 0, -1]\r\n",
        "dc= [1, 0, -1, 0]"
      ],
      "execution_count": null,
      "outputs": []
    },
    {
      "cell_type": "code",
      "metadata": {
        "id": "Cmh1K2Np0lSQ"
      },
      "source": [
        "delta = [[0, 1, 0, -1], [1, 0, -1, 0]]"
      ],
      "execution_count": null,
      "outputs": []
    },
    {
      "cell_type": "code",
      "metadata": {
        "id": "X8I1CgwD2NXk"
      },
      "source": [
        "# 4*4 배열\r\n",
        "돌아가는 반복횟수 : i = 0, 1, 2, 3, 4, 5, 6 range(N*2-1), ((N-1)*2+1)\r\n",
        "0    1    2    3    4    5    6  # 전체 방향 전환 횟수(i)\r\n",
        "4 -> 3 -> 3 -> 2 -> 2 -> 1 -> 1  # 현 방향으로 채움 횟수(loop)\r\n",
        "0    1    2    3    0    1    2  # 현 방향  d = (d+1) % len(drc)"
      ],
      "execution_count": null,
      "outputs": []
    },
    {
      "cell_type": "code",
      "metadata": {
        "id": "f6-CRGq6QH6T"
      },
      "source": [
        "0 1 2 3 0 1 2 3 ... 반복해야 한다면\r\n",
        "1. 식을 이용하는 방법 : d = (d+1) % len(drc)\r\n",
        "2. if문을 이용하는 방법 :\r\n",
        "   d += 1\r\n",
        "   if d >= len(drc) : d = 0"
      ],
      "execution_count": null,
      "outputs": []
    },
    {
      "cell_type": "code",
      "metadata": {
        "id": "yVaznH-j2iQL"
      },
      "source": [
        "# 5*5 배열\r\n",
        "5 - 4 - 4 - 3 - 3 - 2 - 2 - 1 - 1"
      ],
      "execution_count": null,
      "outputs": []
    },
    {
      "cell_type": "markdown",
      "metadata": {
        "id": "532f2cnFcrT_"
      },
      "source": [
        "### 달팽이 코드 -1"
      ]
    },
    {
      "cell_type": "code",
      "metadata": {
        "id": "CQchWXmSLJ6T"
      },
      "source": [
        "drc = [[0, 1], \r\n",
        "       [1, 0], \r\n",
        "       [0, -1], \r\n",
        "       [-1, 0]]\r\n",
        "N = 10\r\n",
        "arr = [[0]*N for _ in range(N)]\r\n",
        "# 필요한 변수는 무엇이 있을까?\r\n",
        "# 들어갈 숫자 num (1, 2, 3, 4, .... N*N)\r\n",
        "# 현 위치 (cr, cc)\r\n",
        "# 현 방향으로 채움 횟수 (loop)\r\n",
        "# 현 방향 direction (=d) \r\n",
        "num = 0\r\n",
        "cr, cc = 0, -1\r\n",
        "loop = N\r\n",
        "d = 0\r\n",
        "for i in range(2*N-1):\r\n",
        "    dr, dc = drc[d]\r\n",
        "    for x in range(loop):        \r\n",
        "        cr = cr + dr\r\n",
        "        cc = cc + dc\r\n",
        "        num += 1\r\n",
        "        arr[cr][cc] = num\r\n",
        "        \r\n",
        "    d = (d+1) % len(drc)\r\n",
        "    if d % 2:\r\n",
        "        loop -= 1\r\n",
        "\r\n",
        "for x in arr:\r\n",
        "    print(x)"
      ],
      "execution_count": null,
      "outputs": []
    },
    {
      "cell_type": "markdown",
      "metadata": {
        "id": "K71lGtfhcuMP"
      },
      "source": [
        "### 달팽이 코드 -2"
      ]
    },
    {
      "cell_type": "code",
      "metadata": {
        "id": "eYtDnfo33zLl"
      },
      "source": [
        "# drc 사용하지 않음\r\n",
        "sw = 1 / -1       "
      ],
      "execution_count": null,
      "outputs": []
    },
    {
      "cell_type": "code",
      "metadata": {
        "id": "AWwV4NoP3-9-",
        "colab": {
          "base_uri": "https://localhost:8080/"
        },
        "outputId": "8f3cb24e-34bc-4a97-b0be-aae6f0e3977c"
      },
      "source": [
        "N = 4\r\n",
        "arr = [[0]*N for _ in range(N)]\r\n",
        "num = 0\r\n",
        "cr, cc = 0, -1\r\n",
        "loop = N\r\n",
        "sw = 1\r\n",
        "while loop > 0:\r\n",
        "    for x in range(loop): \r\n",
        "        cc += sw\r\n",
        "        num += 1\r\n",
        "        arr[cr][cc] = num\r\n",
        "    loop -= 1\r\n",
        "    for x in range(loop): \r\n",
        "        cr += sw\r\n",
        "        num += 1\r\n",
        "        arr[cr][cc] = num\r\n",
        "    sw = -sw\r\n",
        "\r\n",
        "for x in arr:\r\n",
        "    print(x)    "
      ],
      "execution_count": null,
      "outputs": [
        {
          "output_type": "stream",
          "text": [
            "[1, 2, 3, 4]\n",
            "[12, 13, 14, 5]\n",
            "[11, 16, 15, 6]\n",
            "[10, 9, 8, 7]\n"
          ],
          "name": "stdout"
        }
      ]
    },
    {
      "cell_type": "markdown",
      "metadata": {
        "id": "ffdur8b8KiP8"
      },
      "source": [
        "### 전치행렬 "
      ]
    },
    {
      "cell_type": "code",
      "metadata": {
        "id": "rcGXV7q61M9B"
      },
      "source": [
        "a = [[1, 2, 3, 4], [5, 6, 7, 8], [9, 10, 11, 12], [13, 14, 15, 16]]\r\n",
        "for x in a:\r\n",
        "    print(x)\r\n",
        "for x in zip(*a):   # 전치행렬\r\n",
        "    print(x)    "
      ],
      "execution_count": null,
      "outputs": []
    }
  ]
}