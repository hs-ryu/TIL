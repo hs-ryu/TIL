{
  "nbformat": 4,
  "nbformat_minor": 0,
  "metadata": {
    "colab": {
      "name": "스택_DFS.ipynb",
      "provenance": [],
      "collapsed_sections": [],
      "toc_visible": true
    },
    "kernelspec": {
      "name": "python3",
      "display_name": "Python 3"
    }
  },
  "cells": [
    {
      "cell_type": "markdown",
      "metadata": {
        "id": "KlYu76nJ20Eo"
      },
      "source": [
        "## 1.스택"
      ]
    },
    {
      "cell_type": "code",
      "metadata": {
        "colab": {
          "base_uri": "https://localhost:8080/"
        },
        "id": "fVKO14CY2v5t",
        "outputId": "78c21232-09c8-49b4-95fa-a3f4a5cdc5ac"
      },
      "source": [
        "stack = []\r\n",
        "print(len(stack))"
      ],
      "execution_count": null,
      "outputs": [
        {
          "output_type": "stream",
          "text": [
            "0\n"
          ],
          "name": "stdout"
        }
      ]
    },
    {
      "cell_type": "code",
      "metadata": {
        "id": "BxDVcC_E7AtI"
      },
      "source": [
        "# v를 스택의 맨 뒤에 추가한다\r\n",
        "def push(v):\r\n",
        "    stack.append(v)"
      ],
      "execution_count": null,
      "outputs": []
    },
    {
      "cell_type": "code",
      "metadata": {
        "colab": {
          "base_uri": "https://localhost:8080/"
        },
        "id": "K0IGlOof7XPF",
        "outputId": "90a9a7b3-e48f-4104-f5a8-58724011b76c"
      },
      "source": [
        "push(1)\r\n",
        "push(2)\r\n",
        "push(3)\r\n",
        "print(stack)"
      ],
      "execution_count": null,
      "outputs": [
        {
          "output_type": "stream",
          "text": [
            "[1, 2, 3]\n"
          ],
          "name": "stdout"
        }
      ]
    },
    {
      "cell_type": "code",
      "metadata": {
        "id": "cVRbEFfG8IEN"
      },
      "source": [
        "def pop():\r\n",
        "    # underflow\r\n",
        "    if not len(stack):    # if not stack\r\n",
        "        print('stack underflow')\r\n",
        "        return -1\r\n",
        "    \r\n",
        "    return stack.pop(-1)"
      ],
      "execution_count": null,
      "outputs": []
    },
    {
      "cell_type": "code",
      "metadata": {
        "colab": {
          "base_uri": "https://localhost:8080/"
        },
        "id": "kMPdzE0u849-",
        "outputId": "0f2ba8d4-fc92-4bbb-cc3d-8414b2e527d0"
      },
      "source": [
        "stack.clear()\r\n",
        "push(1)\r\n",
        "push(2)\r\n",
        "push(3)\r\n",
        "pop()\r\n",
        "pop()\r\n",
        "push(4)\r\n",
        "push(5)\r\n",
        "pop()\r\n",
        "print(stack)\r\n",
        "pop()\r\n",
        "pop()\r\n",
        "pop()"
      ],
      "execution_count": null,
      "outputs": [
        {
          "output_type": "stream",
          "text": [
            "[1, 4]\n",
            "stack underflow\n"
          ],
          "name": "stdout"
        },
        {
          "output_type": "execute_result",
          "data": {
            "text/plain": [
              "-1"
            ]
          },
          "metadata": {
            "tags": []
          },
          "execution_count": 9
        }
      ]
    },
    {
      "cell_type": "markdown",
      "metadata": {
        "id": "ua74MIikBHW-"
      },
      "source": [
        "### 1-1. stack 구현, top = -1로 초기화"
      ]
    },
    {
      "cell_type": "code",
      "metadata": {
        "colab": {
          "base_uri": "https://localhost:8080/"
        },
        "id": "p014oM7y43qJ",
        "outputId": "a5ae7a7e-556c-4ebf-c7a2-d334b9e10070"
      },
      "source": [
        "N = 3\r\n",
        "stack2 = ['']*N\r\n",
        "top = -1 # 마지막 item의 위치 - 사용\r\n",
        "#top = 0 # 다음 item의 위치\r\n",
        "#top = N # 마지막 item의 위치\r\n",
        "#top = N-1 # 다음 item의 위치\r\n",
        "print(len(stack2))"
      ],
      "execution_count": null,
      "outputs": [
        {
          "output_type": "stream",
          "text": [
            "3\n"
          ],
          "name": "stdout"
        }
      ]
    },
    {
      "cell_type": "code",
      "metadata": {
        "id": "8mLbQ3P893Og"
      },
      "source": [
        "# push 구현\r\n",
        "def push2(v):\r\n",
        "    global top\r\n",
        "    # overflow 확인  \r\n",
        "    # N, top를 사용해서 조건 작성\r\n",
        "    if top >= N - 1:     \r\n",
        "        print('stack overflow')\r\n",
        "        return -1\r\n",
        "    top += 1\r\n",
        "    stack2[top] = v \r\n",
        "\r\n",
        "    # top를 증가하고, v를 top에 넣기"
      ],
      "execution_count": null,
      "outputs": []
    },
    {
      "cell_type": "code",
      "metadata": {
        "colab": {
          "base_uri": "https://localhost:8080/"
        },
        "id": "t2V5Rne4r7WM",
        "outputId": "e134caf9-3f7d-49fc-fbf7-68e3f71b68a7"
      },
      "source": [
        "top = -1\r\n",
        "push2(1)\r\n",
        "push2(2)\r\n",
        "push2(3)\r\n",
        "push2(4)  # overflow 확인\r\n",
        "print(stack2, top)"
      ],
      "execution_count": null,
      "outputs": [
        {
          "output_type": "stream",
          "text": [
            "stack overflow\n",
            "[1, 2, 3] 2\n"
          ],
          "name": "stdout"
        }
      ]
    },
    {
      "cell_type": "code",
      "metadata": {
        "id": "KAoWNvc9-Pul"
      },
      "source": [
        "# pop 구현\r\n",
        "def pop2():\r\n",
        "    global top\r\n",
        "    # underflow 확인\r\n",
        "    if top < 0:\r\n",
        "        print('underflow')\r\n",
        "        return\r\n",
        "    # top에 있는 item을 임시변수에 저장, top가 감소\r\n",
        "    # 임시변수에 있는 item을 반환\r\n",
        "    x = stack2[top]\r\n",
        "    top -= 1\r\n",
        "    return x"
      ],
      "execution_count": null,
      "outputs": []
    },
    {
      "cell_type": "code",
      "metadata": {
        "id": "RQy_bgqquDWO"
      },
      "source": [
        "# pop 구현\r\n",
        "def pop2():\r\n",
        "    global top\r\n",
        "    # underflow 확인\r\n",
        "    if top < 0:\r\n",
        "        print('underflow')\r\n",
        "        return\r\n",
        "    # top에 있는 item을 임시변수에 저장, top가 감소\r\n",
        "    # 임시변수에 있는 item을 반환\r\n",
        "    top -= 1\r\n",
        "    return stack2[top+1]"
      ],
      "execution_count": null,
      "outputs": []
    },
    {
      "cell_type": "code",
      "metadata": {
        "colab": {
          "base_uri": "https://localhost:8080/"
        },
        "id": "zpUdQ93v-xVQ",
        "outputId": "942669b8-d7c0-40b0-ca38-21535526bd75"
      },
      "source": [
        "top = -1\r\n",
        "push2(1)\r\n",
        "push2(2)\r\n",
        "push2(3)\r\n",
        "#push2(4)  # overflow 확인\r\n",
        "x = pop2()\r\n",
        "y = pop2()\r\n",
        "z = pop2()\r\n",
        "pop2()    # underflow 확인\r\n",
        "push2(4)\r\n",
        "push2(5)\r\n",
        "push2(6)\r\n",
        "r = pop2()\r\n",
        "print(x, y, z, r, stack2, top)"
      ],
      "execution_count": null,
      "outputs": [
        {
          "output_type": "stream",
          "text": [
            "underflow\n",
            "3 2 1 6 [4, 5, 6] 1\n"
          ],
          "name": "stdout"
        }
      ]
    },
    {
      "cell_type": "markdown",
      "metadata": {
        "id": "onZ81uW-BCHn"
      },
      "source": [
        "### 1-2. stack 구현, top = 0 으로 초기화"
      ]
    },
    {
      "cell_type": "code",
      "metadata": {
        "id": "ez9lOJNa_yUd"
      },
      "source": [
        "N = 3\r\n",
        "stack3 = ['']*N\r\n",
        "#top = -1 # 마지막 item의 위치 - 사용\r\n",
        "top = 0 # 다음 item의 위치\r\n",
        "#top = N # 마지막 item의 위치\r\n",
        "#top = N-1 # 다음 item의 위치\r\n",
        "print(len(stack3))"
      ],
      "execution_count": null,
      "outputs": []
    },
    {
      "cell_type": "code",
      "metadata": {
        "id": "sB0RrXbwPh20"
      },
      "source": [
        ""
      ],
      "execution_count": null,
      "outputs": []
    },
    {
      "cell_type": "markdown",
      "metadata": {
        "id": "s3TdaymHBV2P"
      },
      "source": [
        "## 2.재귀(reculsive)"
      ]
    },
    {
      "cell_type": "markdown",
      "metadata": {
        "id": "ExDr5lDcC1pK"
      },
      "source": [
        "### 2-1. 함수의 호출"
      ]
    },
    {
      "cell_type": "code",
      "metadata": {
        "id": "gw7TGJ7-BY3w"
      },
      "source": [
        "#  함수의 호출은 stack의 원리 (LIFO)을 따른다"
      ],
      "execution_count": null,
      "outputs": []
    },
    {
      "cell_type": "code",
      "metadata": {
        "colab": {
          "base_uri": "https://localhost:8080/"
        },
        "id": "a6OXwDX1Bdyp",
        "outputId": "d11a9948-31d8-4b00-9720-0d8581bc7f05"
      },
      "source": [
        "def func_C():\r\n",
        "    print('func_C1')\r\n",
        "    print('func_C2')\r\n",
        "\r\n",
        "def func_B():\r\n",
        "    print('func_B1')\r\n",
        "    func_C()\r\n",
        "    print('func_B2')\r\n",
        "\r\n",
        "\r\n",
        "def func_A():\r\n",
        "    print('func_A1')\r\n",
        "    func_B()\r\n",
        "    print('func_A2')\r\n",
        "\r\n",
        "func_A()"
      ],
      "execution_count": null,
      "outputs": [
        {
          "output_type": "stream",
          "text": [
            "func_A1\n",
            "func_B1\n",
            "func_C1\n",
            "func_C2\n",
            "func_B2\n",
            "func_A2\n"
          ],
          "name": "stdout"
        }
      ]
    },
    {
      "cell_type": "markdown",
      "metadata": {
        "id": "W7H9UIcaC4Ul"
      },
      "source": [
        "### 2-2. 재귀의 동작 이해\r\n",
        "- 종료를 위한 조건이 위에 작성되는 것이 일반적임"
      ]
    },
    {
      "cell_type": "code",
      "metadata": {
        "id": "NTAPkN44oFT9"
      },
      "source": [
        "def func_A(level):\r\n",
        "    if level >= 3 :\r\n",
        "        return\r\n",
        "    print('func_A1', level)\r\n",
        "    func_A(level + 1)\r\n",
        "    print('func_A2', level)\r\n",
        "    #return None"
      ],
      "execution_count": null,
      "outputs": []
    },
    {
      "cell_type": "code",
      "metadata": {
        "colab": {
          "base_uri": "https://localhost:8080/"
        },
        "id": "OW4_VeL8vCFg",
        "outputId": "39740688-2e7e-4a26-8601-b247a72a1efb"
      },
      "source": [
        "func_A(0)"
      ],
      "execution_count": null,
      "outputs": [
        {
          "output_type": "stream",
          "text": [
            "func_A1 0\n",
            "func_A1 1\n",
            "func_A1 2\n",
            "func_A2 2\n",
            "func_A2 1\n",
            "func_A2 0\n"
          ],
          "name": "stdout"
        }
      ]
    },
    {
      "cell_type": "code",
      "metadata": {
        "id": "PIuuLSxaveoQ"
      },
      "source": [
        "func_A(0) -> 'func_A1' -> func_A(1) -> 'func_A2'\r\n",
        "    func_A(1) -> 'func_A1' -> func_A(2) -> 'func_A2'\r\n",
        "        func_A(2) -> 'func_A1' -> func_A(3) -> 'func_A2'\r\n",
        "            func_A(3) -> return"
      ],
      "execution_count": null,
      "outputs": []
    },
    {
      "cell_type": "markdown",
      "metadata": {
        "id": "zyjo-ZydC-Jm"
      },
      "source": [
        "### 2-3. 재귀함수 속에 재귀 호출 2회 이상\r\n",
        "- 이런 것을 위해 재귀를 사용하죠 ^^!!"
      ]
    },
    {
      "cell_type": "code",
      "metadata": {
        "id": "PHmMGLYq3qRh"
      },
      "source": [
        "# 시간이 충분하신 분만 도전\r\n",
        "def func_B(level):\r\n",
        "    if level >= 3:\r\n",
        "        return\r\n",
        "    print('func_B1', level)\r\n",
        "    func_B(level+1)\r\n",
        "    print('func_B2', level)\r\n",
        "    func_B(level+1)\r\n",
        "    print('func_B3', level)"
      ],
      "execution_count": null,
      "outputs": []
    },
    {
      "cell_type": "code",
      "metadata": {
        "id": "Kq6cNcG14ASR"
      },
      "source": [
        "func_B(0)"
      ],
      "execution_count": null,
      "outputs": []
    },
    {
      "cell_type": "code",
      "metadata": {
        "id": "Z5TERTTr4CxD"
      },
      "source": [
        "func_B(0) -> 'func_B1 0' -> func_B(1)\r\n",
        "   func_B(1) -> "
      ],
      "execution_count": null,
      "outputs": []
    },
    {
      "cell_type": "markdown",
      "metadata": {
        "id": "Yi1RPmlfBC50"
      },
      "source": [
        "## 3.DFS(Depth First Search)"
      ]
    },
    {
      "cell_type": "markdown",
      "metadata": {
        "id": "RjElyRBKBaFM"
      },
      "source": [
        "### 3-1. 재귀로 작성\r\n",
        "\r\n",
        "> ![image.png](data:image/png;base64,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)"
      ]
    },
    {
      "cell_type": "markdown",
      "metadata": {
        "id": "xkAE2d_uBeZO"
      },
      "source": [
        "### 3-2. 반복문으로 작성 -1\r\n",
        "- 스택에 일단 다 넣고 꺼내기 방법"
      ]
    },
    {
      "cell_type": "markdown",
      "metadata": {
        "id": "__5zcEc3Boq3"
      },
      "source": [
        "> ![image.png](data:image/png;base64,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)"
      ]
    },
    {
      "cell_type": "markdown",
      "metadata": {
        "id": "NSeYGX9XaKkQ"
      },
      "source": [
        "![image.png](data:image/png;base64,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)"
      ]
    },
    {
      "cell_type": "code",
      "metadata": {
        "id": "xkd-2MzVjUfR"
      },
      "source": [
        "[1, 3, 7, 6, 5, 2, 4]\r\n",
        "travel = [1, 3, 7, 6, 5, 2, 4]\r\n",
        "visited [0, 1, 1, 1, 1, 1, 1, 1]\r\n",
        "stack []\r\n",
        "node = 2"
      ],
      "execution_count": null,
      "outputs": []
    },
    {
      "cell_type": "code",
      "metadata": {
        "id": "d6r1IGUhVKK5"
      },
      "source": [
        "# 입력\r\n",
        "V, E = 7, 8\r\n",
        "edges = [(1, 2), (1, 3), (2, 4), (2, 5), (4, 6), (5, 6), (6, 7), (3, 7)]"
      ],
      "execution_count": null,
      "outputs": []
    },
    {
      "cell_type": "code",
      "metadata": {
        "id": "jPSCVMAIaE4M"
      },
      "source": [
        "# 인접 행렬(Matrix) = V*V\r\n",
        "AM = [[0]*(V+1) for _ in range(V+1)]\r\n",
        "for s,e in edges:\r\n",
        "    AM[s][e] = 1\r\n",
        "    AM[e][s] = 1 \r\n",
        "\r\n",
        "# 인접 리스트(List) = V\r\n",
        "AL = [[] for _ in range(V+1)]\r\n",
        "for s,e in edges:\r\n",
        "    AL[s] += [e]\r\n",
        "    AL[e] += [s]"
      ],
      "execution_count": null,
      "outputs": []
    },
    {
      "cell_type": "code",
      "metadata": {
        "colab": {
          "base_uri": "https://localhost:8080/"
        },
        "id": "pStT7IiqsdfA",
        "outputId": "e3f62d17-ee8b-42ef-b13d-d542a8332c65"
      },
      "source": [
        "for x in AL:\r\n",
        "    print(x)"
      ],
      "execution_count": null,
      "outputs": [
        {
          "output_type": "stream",
          "text": [
            "[]\n",
            "[2, 3]\n",
            "[1, 4, 5]\n",
            "[1, 7]\n",
            "[2, 6]\n",
            "[2, 6]\n",
            "[4, 5, 7]\n",
            "[6, 3]\n"
          ],
          "name": "stdout"
        }
      ]
    },
    {
      "cell_type": "code",
      "metadata": {
        "id": "QbgDtUHXCbfl"
      },
      "source": [
        "# 1. 시작 정점을 스택에 push\r\n",
        "    # 2. 스택에 내용이 있는 동안 반복\r\n",
        "    # 2-1. 스택에서 pop해서 node로 저장한다\r\n",
        "        # 2-2. node에 대해서 방문했는지 확인해서 '방문을 안 했을때' \r\n",
        "        # 2-2-1. node를 방문표시를 한다\r\n",
        "        # 2-2-2. node와 연결되어 있으면서 아직 방문하지 않은 node를 스택에 push 한다"
      ],
      "execution_count": null,
      "outputs": []
    },
    {
      "cell_type": "code",
      "metadata": {
        "id": "pFlGlHmCcdrx"
      },
      "source": [
        "# AM 사용해서 작성해 보기\r\n",
        "def DFS_am(V, AM, sv):\r\n",
        "    visited = [0] * (V+1)\r\n",
        "    travel = []\r\n",
        "    stack = [sv]\r\n",
        "\r\n",
        "    while len(stack):        \r\n",
        "        node = stack.pop()\r\n",
        "        if not visited[node]:\r\n",
        "            visited[node] = 1\r\n",
        "            travel.append(node)\r\n",
        "            for c in range(1, V+1):\r\n",
        "                if AM[node][c] == 1 and visited[c] == 0:\r\n",
        "                    stack.append(c)\r\n",
        "    \r\n",
        "    # DFS의 while을 끝낸시점\r\n",
        "    print(stack)\r\n",
        "    print(visited)\r\n",
        "    print(travel)\r\n"
      ],
      "execution_count": null,
      "outputs": []
    },
    {
      "cell_type": "code",
      "metadata": {
        "id": "YjnB_PDblTg4"
      },
      "source": [
        "# AL 사용해서 작성해 보기\r\n",
        "def DFS_al(V, AL, sv):\r\n",
        "    visited = [0] * (V+1)\r\n",
        "    travel = []\r\n",
        "    stack = [sv]  # 1\r\n",
        "    while len(stack): # 2\r\n",
        "        node = stack.pop() # 2-1\r\n",
        "        if not visited[node]: # 2-2\r\n",
        "            visited[node] = 1 # 2-2-1\r\n",
        "            travel.append(node)\r\n",
        "            for n in AL[node]: # 2-2-2\r\n",
        "                if not visited[n]:\r\n",
        "                    stack.append(n)\r\n",
        "    \r\n",
        "    # DFS의 while을 끝낸시점\r\n",
        "    print(stack)\r\n",
        "    print(visited)\r\n",
        "    print(travel)"
      ],
      "execution_count": null,
      "outputs": []
    },
    {
      "cell_type": "code",
      "metadata": {
        "id": "5P-JRzKFsiBs"
      },
      "source": [
        "## AL\r\n",
        "[]\r\n",
        "[2, 3]\r\n",
        "[1, 4, 5]\r\n",
        "[1, 7]\r\n",
        "[2, 6]\r\n",
        "[2, 6]\r\n",
        "[4, 5, 7]\r\n",
        "[6, 3]"
      ],
      "execution_count": null,
      "outputs": []
    },
    {
      "cell_type": "code",
      "metadata": {
        "id": "cCXvzCSBA_ap"
      },
      "source": [
        "# v는 방문되지 않은 정점으로, 방문하러 들어옴\r\n",
        "# visited[v] = 1  -> 방문처리를 한다\r\n",
        "# v와 연결된 것 중에 방문하지 않은 것을 찾아 DFS를 호출한다.\r\n",
        "\r\n",
        "# visited를 argument로 사용하지 않을 경우 testcase가 여러 개 인 것을 고려하여 '초기화'를 잘 해 주어야 한다\r\n",
        "travel = []\r\n",
        "def DFS_re(AL, v):\r\n",
        "    visited[v] = 1\r\n",
        "    travel.append(v)\r\n",
        "    for w in AL[v]:\r\n",
        "        if not visited[w]:\r\n",
        "            DFS_re(AL, w)\r\n",
        "    return None"
      ],
      "execution_count": null,
      "outputs": []
    },
    {
      "cell_type": "code",
      "metadata": {
        "colab": {
          "base_uri": "https://localhost:8080/"
        },
        "id": "W4_qejTReOQY",
        "outputId": "af93f595-15b4-4ae5-b9d1-dc4f37bf069f"
      },
      "source": [
        "visited = [0]*(V+1)\r\n",
        "travel = []\r\n",
        "DFS_re(AL, 1)\r\n",
        "print(travel)"
      ],
      "execution_count": null,
      "outputs": [
        {
          "output_type": "stream",
          "text": [
            "[1, 2, 4, 6, 5, 7, 3]\n"
          ],
          "name": "stdout"
        }
      ]
    },
    {
      "cell_type": "markdown",
      "metadata": {
        "id": "MmDrRPyWDCML"
      },
      "source": [
        "#### 3-2-1. global에 선언된 list의 사용\r\n",
        "- testcase가 여러 개 일 경우 '초기화'에 주의 해야 함"
      ]
    },
    {
      "cell_type": "code",
      "metadata": {
        "colab": {
          "base_uri": "https://localhost:8080/"
        },
        "id": "uxLHf_wxsb0Z",
        "outputId": "f59b5a79-4e82-45c3-89f8-bf61b3bd39d8"
      },
      "source": [
        "a = [3,4,5,6,7]  #      # global namespace = {'a' : 0x1000, ...}\r\n",
        "def func():\r\n",
        "    a.clear()\r\n",
        "    a.append(1)\r\n",
        "    a.insert(0, 2)\r\n",
        "\r\n",
        "func()\r\n",
        "print(a)"
      ],
      "execution_count": null,
      "outputs": [
        {
          "output_type": "stream",
          "text": [
            "[2, 1]\n"
          ],
          "name": "stdout"
        }
      ]
    },
    {
      "cell_type": "markdown",
      "metadata": {
        "id": "9FpSurliC0_1"
      },
      "source": [
        "#### 3-2-2. 재귀 호출/반환 과정"
      ]
    },
    {
      "cell_type": "code",
      "metadata": {
        "id": "lRit4g7vsA36"
      },
      "source": [
        "DFS_re(AL, 1, [0, 0, 0, 0, 0, 0, 0, 0]) -> v = [0, 1, 0, 0, 0, 0, 0, 0], t = [1] -> for [2, 3] DFS_re(AL, 2, [0, 1, 0, 0, 0, 0, 0, 0]) -> return\r\n",
        "  DFS_re(AL, 2, [0, 1, 0, 0, 0, 0, 0, 0]) ->  v = [0, 1, 1, 0, 0, 0, 0, 0], t = [1, 2] -> for [1,4,5] DFS_re(AL, 4, [0, 1, 1, 0, 0, 0, 0, 0]) -> return\r\n",
        "    DFS_re(AL, 4, [0, 1, 1, 0, 0, 0, 0, 0]) -> v = [0, 1, 1, 0, 1, 0, 0, 0], t = [1, 2, 4] -> for[2, 6] DFS_re(AL, 6, [0, 1, 1, 0, 1, 0, 0, 0]) -> return\r\n",
        "      DFS_re(AL, 6, [0, 1, 1, 0, 1, 0, 0, 0]) -> v = [0, 1, 1, 0, 1, 0, 1, 0], t = [1, 2, 4, 6] -> for[4,5,7] DFS_re(AL, 5, [0, 1, 1, 0, 1, 0, 1, 0]), DFS_re(AL, 7, [0, 1, 1, 0, 1, 1, 1, 0]) ->return\r\n",
        "        DFS_re(AL, 5, [0, 1, 1, 0, 1, 0, 1, 0]) -> v = [0, 1, 1, 0, 1, 1, 1, 0], t = [1, 2, 4, 6, 5] -> return\r\n",
        "          DFS_re(AL, 7, [0, 1, 1, 0, 1, 1, 1, 0]) -> v = [0, 1, 1, 0, 1, 1, 1, 1], t = [1, 2, 4, 6, 5, 7] -> for[6, 3] DFS_re(AL, 3, [0, 1, 1, 0, 1, 1, 1, 1]) -> return\r\n",
        "            DFS_re(AL, 3, [0, 1, 1, 0, 1, 1, 1, 1]) -> v= [0, 1, 1, 1, 1, 1, 1, 1], t = [1, 2, 4, 6, 5, 7, 3] -> return"
      ],
      "execution_count": null,
      "outputs": []
    },
    {
      "cell_type": "code",
      "metadata": {
        "id": "27vX1Dxhvh3e"
      },
      "source": [
        "\r\n",
        "visited = [0, 0, 0, 0, 0, 0, 0, 0]\r\n",
        "DFS_re(AL, 1, visited) -> v[1] = 1, t = [1] -> for [2, 3] DFS_re(AL, 2, visited) -> return\r\n",
        "  DFS_re(AL, 2, visited) ->  v[2] = 1, t = [1, 2] -> for [1,4,5] DFS_re(AL, 4, visited) -> return\r\n",
        "    DFS_re(AL, 4, visited) -> v[4] = 1, t = [1, 2, 4] -> for[2, 6] DFS_re(AL, 6, visited) -> return\r\n",
        "      DFS_re(AL, 6, visited) -> v[6] = 1, t = [1, 2, 4, 6] -> for[4,5,7] DFS_re(AL, 5, visited), DFS_re(AL, 7, visited) ->return\r\n",
        "        DFS_re(AL, 5, visited) -> v[5] = 1, t = [1, 2, 4, 6, 5] -> return\r\n",
        "          DFS_re(AL, 7, visited) -> v[7] = 1, t = [1, 2, 4, 6, 5, 7] -> for[6, 3] DFS_re(AL, 3, visited) -> return\r\n",
        "            DFS_re(AL, 3, visited) -> v[3] = 1, t = [1, 2, 4, 6, 5, 7, 3] -> return"
      ],
      "execution_count": null,
      "outputs": []
    },
    {
      "cell_type": "markdown",
      "metadata": {
        "id": "pmWkjQXYCR-j"
      },
      "source": [
        "### 3-3. 반복문으로 작성 -2"
      ]
    },
    {
      "cell_type": "markdown",
      "metadata": {
        "id": "qorp4RTjCuOM"
      },
      "source": [
        "> ![image.png](data:image/png;base64,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)"
      ]
    },
    {
      "cell_type": "markdown",
      "metadata": {
        "id": "tJ4dgsMrDPoZ"
      },
      "source": [
        "## 4.입력 방법"
      ]
    },
    {
      "cell_type": "code",
      "metadata": {
        "id": "mfUHe3t1V7We"
      },
      "source": [
        "1 2 1 3 2 4 2 5 4 6 5 6 6 7 3 7\r\n",
        "line = list(map(int, input().split()))\r\n",
        "edges = [(line[i], line[i + 1]) for i in range(0, len(line), 2)]\r\n",
        "edges = [(line[i], line[i + 1]) for i in range(0, E*2, 2)]   # i = 0  0, 1  i=2  2, 3 "
      ],
      "execution_count": null,
      "outputs": []
    },
    {
      "cell_type": "code",
      "metadata": {
        "id": "bKKdHQLgVKA1"
      },
      "source": [
        "7 8\r\n",
        "1 2 \r\n",
        "1 3\r\n",
        "2 4\r\n",
        "2 5\r\n",
        "4 6\r\n",
        "5 6\r\n",
        "6 7\r\n",
        "3 7\r\n",
        "edges = [ tuple(map(int, input().split())) for _ in range(E) ]"
      ],
      "execution_count": null,
      "outputs": []
    }
  ]
}