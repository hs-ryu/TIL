{
  "nbformat": 4,
  "nbformat_minor": 0,
  "metadata": {
    "colab": {
      "name": "String_GNS.ipynb",
      "provenance": [],
      "collapsed_sections": [],
      "toc_visible": true
    },
    "kernelspec": {
      "name": "python3",
      "display_name": "Python 3"
    }
  },
  "cells": [
    {
      "cell_type": "code",
      "metadata": {
        "id": "h0kAKLKfk8c2"
      },
      "source": [
        "t = int(input())\r\n",
        "for test_case in range(1, t + 1):\r\n",
        "\r\n",
        "    word = [x for x in input() if x != ' ']\r\n",
        "    length = len(word)\r\n",
        "    for i in range(length // 2):\r\n",
        "        word[i], word[length - 1 - i] = word[length - 1 - i], word[i]\r\n",
        "\r\n",
        "    print('#%d %s' % (test_case, ''.join(word)))"
      ],
      "execution_count": null,
      "outputs": []
    },
    {
      "cell_type": "markdown",
      "metadata": {
        "id": "gDO03z5zblbH"
      },
      "source": [
        "## 1213_String"
      ]
    },
    {
      "cell_type": "markdown",
      "metadata": {
        "id": "r7Bjah8twe1_"
      },
      "source": [
        "### 1-1. String 교재에 있는 방식"
      ]
    },
    {
      "cell_type": "code",
      "metadata": {
        "id": "wjYY5iy9gsNG"
      },
      "source": [
        "for n in range(10):\r\n",
        "    t = int(input())\r\n",
        "    word = input()\r\n",
        "    sentence = input()\r\n",
        "\r\n",
        "    N = len(sentence)\r\n",
        "    M = len(word)\r\n",
        "\r\n",
        "    result = 0\r\n",
        "    for i in range(N-M+1):\r\n",
        "        cnt = 0\r\n",
        "        for j in range(M):\r\n",
        "            if sentence[i+j] == word[j]:\r\n",
        "                cnt += 1\r\n",
        "            else:\r\n",
        "                break\r\n",
        "\r\n",
        "        if cnt == M:\r\n",
        "            result += 1\r\n",
        "\r\n",
        "    print('#%d %s' % (t, result))\r\n"
      ],
      "execution_count": null,
      "outputs": []
    },
    {
      "cell_type": "markdown",
      "metadata": {
        "id": "4NKVpMoawjMH"
      },
      "source": [
        "### 1-2. String 교재에 있는 방식 수정"
      ]
    },
    {
      "cell_type": "code",
      "metadata": {
        "id": "0VJHqIsSvNgv"
      },
      "source": [
        "# 위의 코드를 cnt 변수 사용하지 않는 것으로 변경\r\n",
        "for n in range(10):\r\n",
        "    t = int(input())\r\n",
        "    word = input()\r\n",
        "    sentence = input()\r\n",
        "\r\n",
        "    N = len(sentence)\r\n",
        "    M = len(word)\r\n",
        "\r\n",
        "    result = 0\r\n",
        "    for i in range(N-M+1):\r\n",
        "        for j in range(M):\r\n",
        "            if sentence[i+j] != word[j]:\r\n",
        "                break\r\n",
        "        else:\r\n",
        "            result += 1\r\n",
        "\r\n",
        "    print('#%d %s' % (t, result))\r\n"
      ],
      "execution_count": null,
      "outputs": []
    },
    {
      "cell_type": "markdown",
      "metadata": {
        "id": "EmGPVuz-xa3E"
      },
      "source": [
        "### 1-3. for문으로 비교하기 전에 if로 한 번 검색 - 1"
      ]
    },
    {
      "cell_type": "code",
      "metadata": {
        "id": "E20Q31ogiIML"
      },
      "source": [
        "for t in range(10):\r\n",
        "    N = int(input())\r\n",
        "    check = input()\r\n",
        "    words = input()\r\n",
        "    N, M = len(words), len(check)\r\n",
        "    ans = 0\r\n",
        "    # 문장의 길이에서 단어의 길이를 뺀만큼 for문을 돈다\r\n",
        "    for i in range(N-M+1):        \r\n",
        "        # 만약 단어의 첫글자와 같으면 아래 if문에 걸린다.\r\n",
        "        if words[i] == check[0]:\r\n",
        "            # for문을 통해 한 단어씩 비교해본다.\r\n",
        "            for j in range(1, M):\r\n",
        "                # 만약 다른 글자가 하나라도 나오면 바로 탈출한다.\r\n",
        "                if words[i+j] != check[j]:\r\n",
        "                   break\r\n",
        "            else :  # 다 같으면 ans를 하나 더해준다. (else는 break 되지 않았을 때 실행되며,  break가 없는 것은 모두 같은 상황)\r\n",
        "                ans += 1\r\n",
        "\r\n",
        "    print('#%d %d' % (N, ans))"
      ],
      "execution_count": null,
      "outputs": []
    },
    {
      "cell_type": "markdown",
      "metadata": {
        "id": "-WUqxpjuy10c"
      },
      "source": [
        "### 1-4. for문으로 비교하기 전에 if로 한 번 검색 - 2"
      ]
    },
    {
      "cell_type": "code",
      "metadata": {
        "id": "FtjPhc7ShyZg"
      },
      "source": [
        "# BEFORE\r\n",
        "for a in range(1, 11):\r\n",
        "    t = int(input())\r\n",
        "    short = str(input())\r\n",
        "    long = str(input())\r\n",
        " \r\n",
        "    s = len(short)\r\n",
        "    l = len(long)\r\n",
        " \r\n",
        "    cnt = 0\r\n",
        "    i = 0\r\n",
        "    while i <= l - s:\r\n",
        "        if long[i] == short[0]:\r\n",
        "            check = 0\r\n",
        "            for j in range(s):\r\n",
        "                if long[i + j] != short[j]:\r\n",
        "                    i += 1\r\n",
        "                    break\r\n",
        "                else:\r\n",
        "                    check += 1\r\n",
        "            if check == s:\r\n",
        "                i += 1\r\n",
        "                cnt += 1\r\n",
        "        else:\r\n",
        "            i += 1\r\n",
        " \r\n",
        "    print('#%d %d' %(t, cnt))"
      ],
      "execution_count": null,
      "outputs": []
    },
    {
      "cell_type": "code",
      "metadata": {
        "id": "Dn0wxDrHxpYY"
      },
      "source": [
        "# AFTER\r\n",
        "# input()은 str 이므로 str(input()) 은 하지 않아도 됨\r\n",
        "for a in range(1, 11):\r\n",
        "    t = int(input())\r\n",
        "    short = input()\r\n",
        "    long = input() \r\n",
        "    s = len(short)\r\n",
        "    l = len(long)\r\n",
        " \r\n",
        "    cnt, i = 0, 0\r\n",
        "    while i <= l - s:\r\n",
        "        if long[i] == short[0]:\r\n",
        "             for j in range(1, s):\r\n",
        "                if long[i + j] != short[j]:\r\n",
        "                    break\r\n",
        "             else:\r\n",
        "                cnt += 1\r\n",
        "        i += 1\r\n",
        " \r\n",
        "    print('#%d %d' %(t, cnt))"
      ],
      "execution_count": null,
      "outputs": []
    },
    {
      "cell_type": "markdown",
      "metadata": {
        "id": "uny3Wezn0maA"
      },
      "source": [
        "### 1-5. sum 함수, slicing을 사용"
      ]
    },
    {
      "cell_type": "code",
      "metadata": {
        "id": "irkUEBnjZgOa"
      },
      "source": [
        "for _ in range(10):\r\n",
        "    test_num = int(input())\r\n",
        "    m_str = input()\r\n",
        "    n_str = input()\r\n",
        "    N, M = len(n_str), len(m_str)\r\n",
        "    cnt = 0\r\n",
        "    for i in range(N - M + 1):\r\n",
        "        if n_str[i:i+M] == m_str:\r\n",
        "            cnt += 1\r\n",
        "    \r\n",
        "    #cnt = sum(1 for i in range(N - M + 1) if n_str[i:i+M] == m_str)\r\n",
        "\r\n",
        "    print(\"#%d %d\" %(test_num, cnt))"
      ],
      "execution_count": null,
      "outputs": []
    },
    {
      "cell_type": "markdown",
      "metadata": {
        "id": "_Mw_BHtrTCqB"
      },
      "source": [
        "### 1-6. KMP로 풀이"
      ]
    },
    {
      "cell_type": "code",
      "metadata": {
        "id": "JaXiyb0tTB-V"
      },
      "source": [
        "import sys\r\n",
        "\r\n",
        "sys.stdin = open('1213_input.txt', 'r', encoding='UTF-8')\r\n",
        "\r\n",
        "def get_KMPTable(P):\r\n",
        "    len_p = len(P)\r\n",
        "    pi = [0] * len_p\r\n",
        "    j = 0\r\n",
        "    for i in range(1, len_p):\r\n",
        "        while j > 0 and P[i] != P[j]:\r\n",
        "            j = pi[j - 1]\r\n",
        "        if P[i] == P[j]:\r\n",
        "            j += 1\r\n",
        "            pi[i] = j\r\n",
        "    return pi\r\n",
        "\r\n",
        "def KMP(table, wd, st):\r\n",
        "    s_len = len(st)\r\n",
        "    w_len = len(wd)\r\n",
        "    cnt = 0\r\n",
        "    j = 0\r\n",
        "    for i in range(len(st)):\r\n",
        "        while j > 0 and st[i] != wd[j]:\r\n",
        "            j = table[j-1]\r\n",
        "            #print('kmp i, j:', i, j)\r\n",
        "        if st[i] == wd[j]:\r\n",
        "            if j == w_len - 1:\r\n",
        "                cnt += 1\r\n",
        "                #print(i - len(wd) + 1)  # 발생위치\r\n",
        "                j = table[j]\r\n",
        "            else:\r\n",
        "                j += 1\r\n",
        "            #print('kmp i, j:', i, j)\r\n",
        "    return cnt\r\n",
        "\r\n",
        "\r\n",
        "for _ in range(2):\r\n",
        "    test_case, word, sentence = int(input()), input(), input()\r\n",
        "    KMP_table = get_KMPTable(word)\r\n",
        "    print(KMP_table)\r\n",
        "    sol = KMP(KMP_table, word, sentence)\r\n",
        "    print('#%d %d' % (test_case, sol))\r\n"
      ],
      "execution_count": null,
      "outputs": []
    },
    {
      "cell_type": "markdown",
      "metadata": {
        "id": "ef752GIKboAV"
      },
      "source": [
        "## 1221_GNS"
      ]
    },
    {
      "cell_type": "markdown",
      "metadata": {
        "id": "SdUbxaZN09xs"
      },
      "source": [
        "### 2-1. GNS 작성"
      ]
    },
    {
      "cell_type": "code",
      "metadata": {
        "id": "V0ry7bM7lqIe"
      },
      "source": [
        "GNS = ['ZRO', 'ONE', 'TWO', 'THR', 'FOR', 'FIV', 'SIX', 'SVN', 'EGT', 'NIN']\r\n",
        "\r\n",
        "T = int(input())\r\n",
        "for t in range(1, T+1):\r\n",
        "    N = input()\r\n",
        "    #num = list(map(str, input().split()))\r\n",
        "\r\n",
        "    cnt = [0]*10\r\n",
        "    for n in num:\r\n",
        "        for g in range(len(GNS)):\r\n",
        "            if n == GNS[g]:\r\n",
        "                cnt[g] += 1\r\n",
        "                break\r\n",
        "\r\n",
        "    result = ''\r\n",
        "    for i in range(len(cnt)):\r\n",
        "        if cnt[i] != 0:\r\n",
        "            result += (GNS[i] + ' ')*cnt[i]\r\n",
        "\r\n",
        "    result = result.rstrip()\r\n",
        "    print(\"#%d\" % t)\r\n",
        "    print(result)"
      ],
      "execution_count": null,
      "outputs": []
    },
    {
      "cell_type": "code",
      "metadata": {
        "id": "mxOMjFKD07bX"
      },
      "source": [
        "GNS = ['ZRO', 'ONE', 'TWO', 'THR', 'FOR', 'FIV', 'SIX', 'SVN', 'EGT', 'NIN']\r\n",
        "\r\n",
        "T = int(input())\r\n",
        "for t in range(1, T+1):\r\n",
        "    N = input()\r\n",
        "    num = input().split()\r\n",
        "\r\n",
        "    cnt = [0]*10\r\n",
        "    for n in num:\r\n",
        "        for g in range(len(GNS)):\r\n",
        "            if n == GNS[g]:\r\n",
        "                cnt[g] += 1\r\n",
        "                break\r\n",
        "\r\n",
        "    result = ''\r\n",
        "    for i in range(len(cnt)):\r\n",
        "        if cnt[i] != 0:\r\n",
        "            result += (GNS[i] + ' ')*cnt[i]\r\n",
        "\r\n",
        "    result = result.rstrip()\r\n",
        "    print(\"#%d\" % t)\r\n",
        "    print(result)"
      ],
      "execution_count": null,
      "outputs": []
    },
    {
      "cell_type": "code",
      "metadata": {
        "colab": {
          "base_uri": "https://localhost:8080/"
        },
        "id": "nxOGna5k1q_U",
        "outputId": "914c9576-6b98-43cc-ce12-553c444e528e"
      },
      "source": [
        "a = 'NIN'\r\n",
        "x = 'SIX SIX'\r\n",
        "x += (a + ' ') * 0\r\n",
        "print(x, len(x))"
      ],
      "execution_count": null,
      "outputs": [
        {
          "output_type": "stream",
          "text": [
            "SIX SIX 7\n"
          ],
          "name": "stdout"
        }
      ]
    },
    {
      "cell_type": "code",
      "metadata": {
        "id": "pZQXQDdMkduJ"
      },
      "source": [
        "GNS = ['ZRO', 'ONE', 'TWO', 'THR', 'FOR', 'FIV', 'SIX', 'SVN', 'EGT', 'NIN']\r\n",
        "T = int(input())\r\n",
        "for t in range(1, T+1):\r\n",
        "    N = input()\r\n",
        "    # 긴 문자열을 공백 단위로 끊어서 리스트에 담기\r\n",
        "    num = input().split()\r\n",
        "    # 각 문자당 등장 횟수를 세기 위한 cnt 리스트 준비\r\n",
        "    # GNS와 cnt의 인덱스를 똑같게 매칭할 것임 0 = ZRO, 1 = ONE ...\r\n",
        "    cnt = [0]*10\r\n",
        "    # 문자열 리스트의 요소를 하나씩 꺼내서\r\n",
        "    for n in num:\r\n",
        "        # GNS 리스트의 순서대로 비교하며 그 값이 같으면 GNS의 인덱스와 같은 cnt 인덱스에 +1\r\n",
        "        # GNS와 cnt의 인덱스는 의미가 같기 때문에!\r\n",
        "        # ex. GNS[0] = 'ZRO', cnt[0] = 'ZRO'가 나온 개수\r\n",
        "        for g in range(len(GNS)):\r\n",
        "            if n == GNS[g]:\r\n",
        "                cnt[g] += 1\r\n",
        "                # 시간 아끼기 위해 값 찾으면 break로 빠져나감\r\n",
        "                break\r\n",
        "    result = ''\r\n",
        "    # cnt 리스트 돌면서 값이 있으면(=0이 아니면)\r\n",
        "    # GNS에서 같은 인덱스의 값을 cnt[i]번 만큼 곱해서 result에 차곡차곡 더하기\r\n",
        "    for i in range(len(cnt)):\r\n",
        "        if cnt[i] != 0:\r\n",
        "            result += (GNS[i] + ' ')*cnt[i]\r\n",
        "    # 맨 끝에 있는 공백 없애기 위해 rstrip()\r\n",
        "    result = result.rstrip()\r\n",
        "    print(\"#%d\" % t)\r\n",
        "    print(result)"
      ],
      "execution_count": null,
      "outputs": []
    },
    {
      "cell_type": "markdown",
      "metadata": {
        "id": "V8FcrEq52zOL"
      },
      "source": [
        "### 2-2. 수정해 보세요 - 1"
      ]
    },
    {
      "cell_type": "code",
      "metadata": {
        "id": "Sc0V9At2hFrR"
      },
      "source": [
        "# 수정하고 싶은 부분을 찾아 주세요!\r\n",
        "# => finding 함수를 써서 깔끔해 보이지만 1번 순회를 10번 순회로 작성한 것이다\r\n",
        "# 성능이 안좋다\r\n",
        "\r\n",
        "# 각 원소를 하나씩만 가지고 있는 리스트 만들기\r\n",
        "one_element = ['ZRO', 'ONE', 'TWO', 'THR', 'FOR', 'FIV', 'SIX', 'SVN', 'EGT', 'NIN']\r\n",
        "\r\n",
        "def finding(x, my_list, n):\r\n",
        "    cnt = 0\r\n",
        "    for i in range(n):\r\n",
        "        if my_list[i] == x:\r\n",
        "            cnt += 1\r\n",
        "    return cnt\r\n",
        "\r\n",
        "T = int(input())\r\n",
        "for a in range(T):\r\n",
        "    t, N = input().split()\r\n",
        "    num_list = input().split()\r\n",
        "    N = int(N)\r\n",
        "    # 각 원소가 입력받은 리스트에 몇개가 있는지 센 후, 해당 수 만큼 ordered_list에 넣어준다\r\n",
        "    ordered_list = []\r\n",
        "    for i in range(len(one_element)):\r\n",
        "        cnt = finding(one_element[i], num_list, N)\r\n",
        "        for _ in range(cnt):\r\n",
        "            ordered_list.append(one_element[i])\r\n",
        "\r\n",
        "    ans = ' '.join(ordered_list)\r\n",
        "    print(t)\r\n",
        "    print(ans)\r\n",
        "\r\n"
      ],
      "execution_count": null,
      "outputs": []
    },
    {
      "cell_type": "markdown",
      "metadata": {
        "id": "shk1f9lk9spR"
      },
      "source": [
        "### 2-3. 수정해 보세요 - 2"
      ]
    },
    {
      "cell_type": "code",
      "metadata": {
        "id": "gVVobhQEj0kx"
      },
      "source": [
        "# 1. 이 코드는 제출하면 1개의 testcase만 성공하고 나머지는 실패합니다.\r\n",
        "#    이유가 무엇일까요?\r\n",
        "# 2. 조금 단순하게 수정해 볼까요? -> range(len(x)) 안써도 되면 쓰지 않기로요.\r\n",
        "\r\n",
        "lst = [\"ZRO\", \"ONE\", \"TWO\", \"THR\", \"FOR\", \"FIV\", \"SIX\", \"SVN\", \"EGT\", \"NIN\"]\r\n",
        "#num_dict = dict.fromkeys(lst, 0)  # 여기서 dict를 만들면 NO\r\n",
        "\r\n",
        "T = int(input())\r\n",
        "for t in range(1, T + 1):\r\n",
        "    no, length = input().split()\r\n",
        "    length = int(length)\r\n",
        "    num_str = input().split()    \r\n",
        "    \r\n",
        "    num_dict = dict.fromkeys(lst, 0)  # 여기서 dict를 준비해 주세용!\r\n",
        "\r\n",
        "    for num in num_str:\r\n",
        "        num_dict[num] += 1\r\n",
        "\r\n",
        "    result = []\r\n",
        "    for key in lst:\r\n",
        "        result.extend([key] * num_dict[key])\r\n",
        "\r\n",
        "   # 출력 코드 missing\r\n"
      ],
      "execution_count": null,
      "outputs": []
    },
    {
      "cell_type": "markdown",
      "metadata": {
        "id": "0ZCqS_GKON3s"
      },
      "source": [
        "### 2-4. 시간 소모가 많은 코드 -1\r\n",
        "- 원하는걸 찾았으면 break 해야해요!"
      ]
    },
    {
      "cell_type": "code",
      "metadata": {
        "id": "QnZf8ucPi9Pp"
      },
      "source": [
        "# 왜 시간이 많이 소요 되었을까요?\r\n",
        "# BEFORE\r\n",
        "\r\n",
        "def num_change(arr):\r\n",
        "    # 0~9의 개수를 카운트할 리스트\r\n",
        "    num_cnt = [0] * 10\r\n",
        "    # 실제 ZRO ~ NIN을\r\n",
        "    for a in arr:\r\n",
        "        # 0~9 와 매칭시켜서\r\n",
        "        for i in range(10):\r\n",
        "            # 만약 문자와 숫자가 일치할 경우\r\n",
        "            if a == num[i]:\r\n",
        "                # 그 때의 숫자의 개수를 증가\r\n",
        "                num_cnt[i] += 1\r\n",
        "    # 결과를 담을 리스트\r\n",
        "    result = []\r\n",
        "    # 0~9까지 순서대로 개수 * 문자 를 추가\r\n",
        "    for i in range(10):\r\n",
        "        result += [num[i]] * num_cnt[i]\r\n",
        "\r\n",
        "    return result\r\n",
        "\r\n",
        "\r\n",
        "T = 10 #int(input())\r\n",
        "\r\n",
        "num = ['ZRO', 'ONE', 'TWO', 'THR', 'FOR', 'FIV', 'SIX', 'SVN', 'EGT', 'NIN']\r\n",
        "for t in range(1, T + 1):\r\n",
        "    t_num, N = input().split()\r\n",
        "    N = int(N)\r\n",
        "    num_list = list(input().split())  # list() 없어도 됨\r\n",
        "    print(t_num, ' '.join(map(str, num_change(num_list))))  # map(str ..) 없어도 됨"
      ],
      "execution_count": null,
      "outputs": []
    },
    {
      "cell_type": "code",
      "metadata": {
        "id": "bTmulVpXZiTS"
      },
      "source": [
        "# 왜 시간이 많이 소요 되었을까요?\r\n",
        "# AFTER - 1\r\n",
        "\r\n",
        "def num_change(arr):\r\n",
        "    num_cnt = [0] * 10\r\n",
        "    for a in arr:\r\n",
        "        for i in range(10):\r\n",
        "            if a == num[i]:\r\n",
        "                num_cnt[i] += 1\r\n",
        "                break   # 실행 시간이 약간 절약!\r\n",
        "\r\n",
        "    result = []\r\n",
        "    for i in range(10):\r\n",
        "        result += [num[i]] * num_cnt[i]\r\n",
        "\r\n",
        "    return result\r\n",
        "\r\n",
        "\r\n",
        "T = int(input())\r\n",
        "\r\n",
        "num = ['ZRO', 'ONE', 'TWO', 'THR', 'FOR', 'FIV', 'SIX', 'SVN', 'EGT', 'NIN']\r\n",
        "for t in range(1, T + 1):\r\n",
        "    t_num, N = input().split()\r\n",
        "    N = int(N)\r\n",
        "    num_list = input().split()\r\n",
        "    print(t_num, ' '.join(num_change(num_list)))  # map(str ..) 없어도 됨"
      ],
      "execution_count": null,
      "outputs": []
    },
    {
      "cell_type": "code",
      "metadata": {
        "id": "dBSgd6_7-WBI"
      },
      "source": [
        "# my_table 딕셔너리 생성\r\n",
        "num = ['ZRO', 'ONE', 'TWO', 'THR', 'FOR', 'FIV', 'SIX', 'SVN', 'EGT', 'NIN']\r\n",
        "my_table = dict(zip(num, range(len(num))))\r\n",
        "my_table"
      ],
      "execution_count": null,
      "outputs": []
    },
    {
      "cell_type": "code",
      "metadata": {
        "id": "MAAVUGr48dJI"
      },
      "source": [
        "num = ['ZRO', 'ONE', 'TWO', 'THR', 'FOR', 'FIV', 'SIX', 'SVN', 'EGT', 'NIN']\r\n",
        "my_table = dict(zip(num, range(len(num))))\r\n",
        "def num_change(arr):\r\n",
        "    num_cnt = [0] * 10\r\n",
        "    # dict + list의 콜라보로 for문을 하나 제거했어요!\r\n",
        "    for a in arr:\r\n",
        "        num_cnt[my_table[a]] += 1\r\n",
        "        \r\n",
        "    result = []\r\n",
        "    for i in range(10):\r\n",
        "        result += [num[i]] * num_cnt[i]\r\n",
        "    return result\r\n",
        "\r\n",
        "T = int(input())\r\n",
        "for t in range(1, T + 1):\r\n",
        "    t_num, N = input().split()\r\n",
        "    N = int(N)\r\n",
        "    num_list = input().split()\r\n",
        "    print(t_num, ' '.join(num_change(num_list)))"
      ],
      "execution_count": null,
      "outputs": []
    },
    {
      "cell_type": "markdown",
      "metadata": {
        "id": "qa1UzXabObZs"
      },
      "source": [
        "### 2-5. 시간 소모가 많은 코드 -2\r\n",
        "- for문 속에서... result를 글자마다 새로 만들어서 시간이 걸렸어요!!\r\n",
        "- 원하는걸 찾았으면 break 해야해요!\r\n",
        "- 윽!  2중 리스트로 하니 출력이 힘들었어요!"
      ]
    },
    {
      "cell_type": "code",
      "metadata": {
        "id": "GGx_K85yjS_P"
      },
      "source": [
        "# 왜 시간이 많이 소요 되었을까요?\r\n",
        "# 수정하고 싶은 부분은요?\r\n",
        "# BEFORE\r\n",
        "T = int(input())\r\n",
        " \r\n",
        "for t in range(1, T+1):\r\n",
        "    N, num = map(str, input().split())\r\n",
        "    num_in_word = ['ZRO', 'ONE', 'TWO', 'THR', 'FOR', 'FIV', 'SIX', 'SVN', 'EGT', 'NIN']\r\n",
        "    Z = len(num_in_word)    \r\n",
        "     \r\n",
        "    counts = [0] * Z \r\n",
        "    word_num = list(map(str, input().split()))\r\n",
        "    for word in word_num:\r\n",
        "        for i in range(Z):\r\n",
        "            if word == num_in_word[i]:\r\n",
        "                counts[i] += 1\r\n",
        "        # 이녀석이 ...  for문 속에 있어서 계속 새로운 result를 만들기 때문에\r\n",
        "        # 시간이 오래 걸렸던 것이었던 것이었네요!\r\n",
        "        result = [[num_in_word[i]] * counts[i] for i in range(Z)] \r\n",
        "     \r\n",
        "\r\n",
        "    # 출력은 문제가 없을까?\r\n",
        "    # 이 부분은 채점시 정답으로 취급 되지만 수정되면 좋을 부분입니다 ^^\r\n",
        "    print(N)\r\n",
        "    for r in result:\r\n",
        "        print(' '.join(r))\r\n",
        "    print()"
      ],
      "execution_count": null,
      "outputs": []
    },
    {
      "cell_type": "code",
      "metadata": {
        "colab": {
          "base_uri": "https://localhost:8080/"
        },
        "id": "2yNGqfto_kNa",
        "outputId": "b51c9add-9336-4e23-b937-5aab0c088420"
      },
      "source": [
        "# 왜 시간이 많이 소요 되었을까요?\r\n",
        "# AFTER\r\n",
        "num_in_word = ['ZRO', 'ONE', 'TWO', 'THR', 'FOR', 'FIV', 'SIX', 'SVN', 'EGT', 'NIN']\r\n",
        "Z = len(num_in_word)\r\n",
        "\r\n",
        "T = 1 #int(input())\r\n",
        "for t in range(1, T+1):\r\n",
        "    N, num = '#1', '5' #input().split()\r\n",
        "    counts = [0] * Z\r\n",
        "    word_num = ['ZRO', 'NIN', 'FIV', 'ZRO', 'ONE'] #input().split()\r\n",
        "    for word in word_num:\r\n",
        "        for i in range(Z):\r\n",
        "            if word == num_in_word[i]:\r\n",
        "                counts[i] += 1\r\n",
        "                break\r\n",
        "    # 이렇게 밖으로!!!            \r\n",
        "    result = [[num_in_word[i]] * counts[i] for i in range(Z)]\r\n",
        "    print(result)\r\n",
        "\r\n",
        "    t_result = []\r\n",
        "    for i in range(10):\r\n",
        "            t_result += result[i]\r\n",
        "    print(' '.join(t_result))"
      ],
      "execution_count": null,
      "outputs": [
        {
          "output_type": "stream",
          "text": [
            "[['ZRO', 'ZRO'], ['ONE'], [], [], [], ['FIV'], [], [], [], ['NIN']]\n"
          ],
          "name": "stdout"
        }
      ]
    },
    {
      "cell_type": "code",
      "metadata": {
        "id": "Jos1eP_8GJbK"
      },
      "source": [
        "# 위의 result를 올바르게 출력해 봅쉬다!!"
      ],
      "execution_count": null,
      "outputs": []
    },
    {
      "cell_type": "code",
      "metadata": {
        "colab": {
          "base_uri": "https://localhost:8080/"
        },
        "id": "YfmuQuivGNpG",
        "outputId": "5acedb4f-c971-4773-dfbd-74651fa6d169"
      },
      "source": [
        "# 이녀석은 맨 뒤에 공백이 한 개 있지만 채점에는 영향은 없습니다\r\n",
        "for r in result:\r\n",
        "    if r:\r\n",
        "        print(' '.join(r), end=' ')"
      ],
      "execution_count": null,
      "outputs": [
        {
          "output_type": "stream",
          "text": [
            "ZRO ZRO ONE FIV NIN "
          ],
          "name": "stdout"
        }
      ]
    },
    {
      "cell_type": "code",
      "metadata": {
        "colab": {
          "base_uri": "https://localhost:8080/"
        },
        "id": "5VKxcCrVGZo1",
        "outputId": "715fbe7a-a5c1-4723-d329-83b3ab65c29d"
      },
      "source": [
        "# 이렇게 해도 됩니다   (result[i+1] += result[i] => 안되유!)\r\n",
        "t_result = []\r\n",
        "for i in range(10):\r\n",
        "        t_result += result[i]\r\n",
        "print(' '.join(t_result))"
      ],
      "execution_count": null,
      "outputs": [
        {
          "output_type": "stream",
          "text": [
            "ZRO ZRO ONE FIV NIN\n"
          ],
          "name": "stdout"
        }
      ]
    },
    {
      "cell_type": "code",
      "metadata": {
        "id": "BFEULyXgAruV"
      },
      "source": [
        "def func1():\r\n",
        "    a = t1 + 1\r\n",
        "    b = t2 + 1\r\n",
        "\r\n",
        "def func2():\r\n",
        "    a, b = t1 + 1, t2 + 1"
      ],
      "execution_count": null,
      "outputs": []
    },
    {
      "cell_type": "code",
      "metadata": {
        "colab": {
          "base_uri": "https://localhost:8080/"
        },
        "id": "xE0VixjEA2vf",
        "outputId": "573275f5-1b87-4ae5-cbee-34b57abee5d1"
      },
      "source": [
        "import dis\r\n",
        "dis.dis(func1)"
      ],
      "execution_count": null,
      "outputs": [
        {
          "output_type": "stream",
          "text": [
            "  2           0 LOAD_GLOBAL              0 (t1)\n",
            "              2 LOAD_CONST               1 (1)\n",
            "              4 BINARY_ADD\n",
            "              6 STORE_FAST               0 (a)\n",
            "\n",
            "  3           8 LOAD_GLOBAL              1 (t2)\n",
            "             10 LOAD_CONST               1 (1)\n",
            "             12 BINARY_ADD\n",
            "             14 STORE_FAST               1 (b)\n",
            "             16 LOAD_CONST               0 (None)\n",
            "             18 RETURN_VALUE\n"
          ],
          "name": "stdout"
        }
      ]
    },
    {
      "cell_type": "code",
      "metadata": {
        "colab": {
          "base_uri": "https://localhost:8080/"
        },
        "id": "oBZex1-MBBR4",
        "outputId": "d3c4c88d-9913-47b4-e415-5d9d586be445"
      },
      "source": [
        "dis.dis(func2)"
      ],
      "execution_count": null,
      "outputs": [
        {
          "output_type": "stream",
          "text": [
            "  6           0 LOAD_GLOBAL              0 (t1)\n",
            "              2 LOAD_CONST               1 (1)\n",
            "              4 BINARY_ADD\n",
            "              6 LOAD_GLOBAL              1 (t2)\n",
            "              8 LOAD_CONST               1 (1)\n",
            "             10 BINARY_ADD\n",
            "             12 ROT_TWO\n",
            "             14 STORE_FAST               0 (a)\n",
            "             16 STORE_FAST               1 (b)\n",
            "             18 LOAD_CONST               0 (None)\n",
            "             20 RETURN_VALUE\n"
          ],
          "name": "stdout"
        }
      ]
    }
  ]
}