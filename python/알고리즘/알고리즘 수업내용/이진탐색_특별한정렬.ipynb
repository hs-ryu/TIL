{
  "nbformat": 4,
  "nbformat_minor": 0,
  "metadata": {
    "colab": {
      "name": "이진탐색_특별한정렬.ipynb",
      "provenance": [],
      "collapsed_sections": []
    },
    "kernelspec": {
      "name": "python3",
      "display_name": "Python 3"
    }
  },
  "cells": [
    {
      "cell_type": "markdown",
      "metadata": {
        "id": "wLK5o7_6ycra"
      },
      "source": [
        "### 이진탐색"
      ]
    },
    {
      "cell_type": "code",
      "metadata": {
        "id": "yKHe9vChm_Ol"
      },
      "source": [
        "# BEFORE\r\n",
        "def binary(n, p):\r\n",
        "    l = 1\r\n",
        "    r = n\r\n",
        "    cnt = 0\r\n",
        "    while l <= r:\r\n",
        "        c = (l+r)//2\r\n",
        "        if c == p:\r\n",
        "            cnt += 1\r\n",
        "            break\r\n",
        "        elif c < p:\r\n",
        "            l = c\r\n",
        "            cnt += 1\r\n",
        "        else:\r\n",
        "            r = c\r\n",
        "            cnt += 1\r\n",
        "    return cnt\r\n",
        " \r\n",
        "T = int(input())\r\n",
        "for t in range(1, T+1):\r\n",
        "    P, A, B = map(int, input().split())\r\n",
        "    if binary(P, A) < binary(P, B):\r\n",
        "        print(\"#%d A\" % (t))\r\n",
        "    elif binary(P, A) == binary(P, B):\r\n",
        "        print(\"#%d 0\" % (t))\r\n",
        "    else:\r\n",
        "        print(\"#%d B\" % (t))"
      ],
      "execution_count": null,
      "outputs": []
    },
    {
      "cell_type": "code",
      "metadata": {
        "id": "Dqm6Y3PnzuhW"
      },
      "source": [
        "# AFTER\r\n",
        "def binary(n, p):\r\n",
        "    l = 1\r\n",
        "    r = n\r\n",
        "    cnt = 0\r\n",
        "    while l <= r:\r\n",
        "        c = (l+r)//2\r\n",
        "        cnt += 1\r\n",
        "        if c == p:            \r\n",
        "            return cnt\r\n",
        "        elif c < p:\r\n",
        "            l = c\r\n",
        "        else:\r\n",
        "            r = c\r\n",
        "    return -1\r\n",
        "\r\n",
        "T = int(input())\r\n",
        "for t in range(1, T+1):\r\n",
        "    P, A, B = map(int, input().split())\r\n",
        "    ca = binary(P, A)\r\n",
        "    cb = binary(P, B)\r\n",
        "#     if ca < cb:\r\n",
        "#         ans = 'A'\r\n",
        "#     elif ca == cb:\r\n",
        "#         ans = '0'\r\n",
        "#     else:\r\n",
        "#         ans = 'B'\r\n",
        "\r\n",
        "    ans = 'A' if ca < cb else '0' if ca == cb else 'B'\r\n",
        "\r\n",
        "    print(\"#%d %s\" % (t, ans))"
      ],
      "execution_count": null,
      "outputs": []
    },
    {
      "cell_type": "code",
      "metadata": {
        "id": "c2LqMrJL1bND"
      },
      "source": [
        "def func(a):\r\n",
        "    if a == 0:\r\n",
        "        a += 1\r\n",
        "    return a"
      ],
      "execution_count": null,
      "outputs": []
    },
    {
      "cell_type": "code",
      "metadata": {
        "id": "a4GMuYDe0w3u"
      },
      "source": [
        "import dis\r\n",
        "dis.dis(func)"
      ],
      "execution_count": null,
      "outputs": []
    },
    {
      "cell_type": "code",
      "metadata": {
        "id": "CzOdzHa5p-pe"
      },
      "source": [
        "def search(PA, left, right):\r\n",
        "    center = 0\r\n",
        "    cnt = 0\r\n",
        "    while center != PA:\r\n",
        "        center = (left + right) // 2\r\n",
        "        cnt += 1\r\n",
        "        if center == PA:\r\n",
        "            break\r\n",
        "        elif center < PA:\r\n",
        "            left = center\r\n",
        "        elif center > PA:\r\n",
        "            right = center\r\n",
        "    return cnt\r\n",
        "    \r\n",
        "T = int(input())\r\n",
        "for t in range(1, T+1):\r\n",
        "    P, PA, PB = map(int, input().split())\r\n",
        "    left = 1\r\n",
        "    right = P\r\n",
        "    A = search(PA, left, right)\r\n",
        "    B = search(PB, left, right)\r\n",
        "    result = '0'\r\n",
        "    if A < B:\r\n",
        "        result = 'A'\r\n",
        "    elif A > B:\r\n",
        "        result = 'B'\r\n",
        "    print('#%d %s' % (t, result))"
      ],
      "execution_count": null,
      "outputs": []
    },
    {
      "cell_type": "code",
      "metadata": {
        "id": "bUabA7kWm-Ai"
      },
      "source": [
        "def binary_search(p, x):\r\n",
        "    l, cnt = 1, 0\r\n",
        "    r = p\r\n",
        "    while True:\r\n",
        "        cnt += 1\r\n",
        "        c = int((l + r) / 2) \r\n",
        "        if c == x:\r\n",
        "            return cnt\r\n",
        "        elif c > x:\r\n",
        "            r = c\r\n",
        "        elif c < x:\r\n",
        "            l = c\r\n",
        " \r\n",
        "T = int(input())\r\n",
        " \r\n",
        "for tc in range(1, 1 + T):\r\n",
        "    p, pa, pb = map(int, input().split())\r\n",
        " \r\n",
        "    a = binary_search(p, pa)\r\n",
        "    b = binary_search(p, pb)\r\n",
        "    c = 0\r\n",
        "    if a > b:\r\n",
        "        c = 'B'\r\n",
        "    elif a < b:\r\n",
        "        c = 'A'\r\n",
        " \r\n",
        "    print('#%d %s' %(tc, c))"
      ],
      "execution_count": null,
      "outputs": []
    },
    {
      "cell_type": "code",
      "metadata": {
        "id": "6z7LjO_znYGW"
      },
      "source": [
        "def get_count(p, find):\r\n",
        "    page = list(range(p+1))\r\n",
        "    start = 1\r\n",
        "    end = p\r\n",
        "    cnt = 0\r\n",
        "    while start <= end:\r\n",
        "        c = (start + end) // 2\r\n",
        "        cnt += 1\r\n",
        "        if page[c] == find:\r\n",
        "            return cnt\r\n",
        "        elif page[c] > find:\r\n",
        "            end = c\r\n",
        "        else:\r\n",
        "            start = c\r\n",
        "    return -1\r\n",
        " \r\n",
        "T = int(input())\r\n",
        "for t in range(1, T+1):\r\n",
        "    P, A, B = map(int, input().split())\r\n",
        "    a = get_count(P, A)\r\n",
        "    b = get_count(P, B)\r\n",
        "    if a > b:\r\n",
        "        ans = 'B'\r\n",
        "    elif a < b:\r\n",
        "        ans = 'A'\r\n",
        "    else:\r\n",
        "        ans = '0'\r\n",
        "    print('#%d %s' % (t, ans))"
      ],
      "execution_count": null,
      "outputs": []
    },
    {
      "cell_type": "code",
      "metadata": {
        "id": "bBQ29E7S5Uiz"
      },
      "source": [
        "# 4839 List2 7차시 이진탐색 - 제출용\r\n",
        " \r\n",
        "T = int(input())\r\n",
        " \r\n",
        "for i in range(T):\r\n",
        "    P, A, B = list(map(int, input().split()))\r\n",
        "    result = ''\r\n",
        "     \r\n",
        "    A_left = 1\r\n",
        "    B_left = 1\r\n",
        "    A_right = P\r\n",
        "    B_right = P\r\n",
        " \r\n",
        "    A_center = (A_left + A_right) // 2\r\n",
        "    B_center = (B_left + B_right) // 2\r\n",
        "    while True:\r\n",
        "        if A_center == A:\r\n",
        "            if B_center == B:\r\n",
        "                result = 0\r\n",
        "                break\r\n",
        "            result = 'A'\r\n",
        "            break\r\n",
        "        if B_center == B:\r\n",
        "            result = 'B'\r\n",
        "            break\r\n",
        "         \r\n",
        "        if A_center > A: # A_center가 크므로 왼쪽을 탐색해야한다.\r\n",
        "            A_right = A_center\r\n",
        "            A_center = (A_left + A_right) // 2\r\n",
        "        elif A_center < A: # A_center가 작으므로 오른쪽을 탐색해야한다.\r\n",
        "            A_left = A_center\r\n",
        "            A_center = (A_left + A_right) // 2\r\n",
        "         \r\n",
        "        if B_center > B: # A_center가 크므로 왼쪽을 탐색해야한다.\r\n",
        "            B_right = B_center\r\n",
        "            B_center = (B_left + B_right) // 2\r\n",
        "        elif B_center < B: # B_center가 작으므로 오른쪽을 탐색해야한다.\r\n",
        "            B_left = B_center\r\n",
        "            B_center = (B_left + B_right) // 2  \r\n",
        "         \r\n",
        "    print('#%d %s' % (i+1, result))"
      ],
      "execution_count": null,
      "outputs": []
    },
    {
      "cell_type": "code",
      "metadata": {
        "id": "FjLQvDUQo7Ml"
      },
      "source": [
        "# 4839 List2 7차시 이진탐색 - 제출용\r\n",
        " \r\n",
        "T = int(input())\r\n",
        " \r\n",
        "for i in range(T):\r\n",
        "    P, A, B = list(map(int, input().split()))\r\n",
        "    result = ''\r\n",
        "     \r\n",
        "    A_left = 1\r\n",
        "    B_left = 1\r\n",
        "    A_right = P\r\n",
        "    B_right = P \r\n",
        "\r\n",
        "    while True:\r\n",
        "        A_center = (A_left + A_right) // 2\r\n",
        "        B_center = (B_left + B_right) // 2    \r\n",
        "        if A_center == A:\r\n",
        "            if B_center == B:\r\n",
        "                result = 0\r\n",
        "                break\r\n",
        "            result = 'A'\r\n",
        "            break\r\n",
        "        if B_center == B:\r\n",
        "            result = 'B'\r\n",
        "            break\r\n",
        "         \r\n",
        "        if A_center > A: # A_center가 크므로 왼쪽을 탐색해야한다.\r\n",
        "            A_right = A_center\r\n",
        "        else:\r\n",
        "            A_left = A_center           \r\n",
        "         \r\n",
        "        if B_center > B: # A_center가 크므로 왼쪽을 탐색해야한다.\r\n",
        "            B_right = B_center\r\n",
        "        else: # B_center가 작으므로 오른쪽을 탐색해야한다.\r\n",
        "            B_left = B_center\r\n",
        "         \r\n",
        "    print('#%d %s' % (i+1, result))"
      ],
      "execution_count": null,
      "outputs": []
    },
    {
      "cell_type": "markdown",
      "metadata": {
        "id": "nVrDwYIOw9Re"
      },
      "source": [
        "## 특별한 정렬"
      ]
    },
    {
      "cell_type": "code",
      "metadata": {
        "id": "FkDkYjAQv2oH"
      },
      "source": [
        "# BEFORE\r\n",
        "T = int(input())\r\n",
        "for t in range(1, T+1):\r\n",
        "    N = int(input())\r\n",
        "    num = list(map(int, input().split()))\r\n",
        "    for i in range(N-1):\r\n",
        "        for j in range(i+1, N):\r\n",
        "            if i % 2 == 0:\r\n",
        "                if num[i] < num[j]:\r\n",
        "                    num[i], num[j] = num[j], num[i]\r\n",
        "            else:\r\n",
        "                if num[i] > num[j]:\r\n",
        "                    num[i], num[j] = num[j], num[i]\r\n",
        "    print(\"#%d %s\" % (t, ' '.join(map(str, num[:10]))))"
      ],
      "execution_count": null,
      "outputs": []
    },
    {
      "cell_type": "code",
      "metadata": {
        "id": "2zHsgNL4-6zA"
      },
      "source": [
        "# AFTER\r\n",
        "\r\n",
        "def get_max_idx(num, s, e):\r\n",
        "    max_idx = s\r\n",
        "    for i in range(s+1, e):\r\n",
        "        if num[max_idx] < num[i]:\r\n",
        "            max_idx = i\r\n",
        "    return max_idx\r\n",
        "\r\n",
        "def get_min_idx(num, s, e):\r\n",
        "    min_idx = s\r\n",
        "    for i in range(s+1, e):\r\n",
        "        if num[min_idx] > num[i]:\r\n",
        "            min_idx = i\r\n",
        "    return min_idx\r\n",
        "\r\n",
        "T = int(input())\r\n",
        "for t in range(1, T+1):\r\n",
        "    N = int(input())\r\n",
        "    num = list(map(int, input().split()))\r\n",
        "    for i in range(10):  # 10개만 출력 할 것이기 때문에\r\n",
        "        if i % 2 == 0:\r\n",
        "            idx = get_max_idx(num, i, N)\r\n",
        "        else:\r\n",
        "            idx = get_min_idx(num, i, N)\r\n",
        "        \r\n",
        "        #idx = get_max_idx(num, i, N) if i % 2 == 0 else get_min_idx(num, i, N)\r\n",
        "\r\n",
        "        #get_idx = get_max_idx if i % 2 == 0 else get_min_idx\r\n",
        "        #idx = get_idx(num, i, N)\r\n",
        "        \r\n",
        "        num[i], num[idx] = num[idx], num[i]\r\n",
        "\r\n",
        "    print(\"#%d %s\" % (t, ' '.join(map(str, num[:10]))))"
      ],
      "execution_count": null,
      "outputs": []
    },
    {
      "cell_type": "code",
      "metadata": {
        "id": "KUX1HWUeCq8f"
      },
      "source": [
        "# 모범생\r\n",
        "# 3만명 학생의 점수가 있다.\r\n",
        "# 1등부터 3등까지의 학생 번호와 점수를 출력하라\r\n",
        "-> 1 pass 마다 가장 큰 값 또는 가장 작은 값을 찾고 3회 반복하는 '정렬'을 사용하면 됨"
      ],
      "execution_count": null,
      "outputs": []
    },
    {
      "cell_type": "code",
      "metadata": {
        "id": "_Am1nkwNDeFO"
      },
      "source": [
        ""
      ],
      "execution_count": null,
      "outputs": []
    },
    {
      "cell_type": "code",
      "metadata": {
        "id": "7UP4yTnUxOZ3"
      },
      "source": [
        "# ㅎㅎㅎ  이러시면 안되유!  sorted라니요.\r\n",
        "t = int(input())\r\n",
        "for test_case in range(1, t + 1):\r\n",
        "    n = int(input()) \r\n",
        "    normal = sorted(map(int, input().split()))\r\n",
        "    reversed = normal[::-1]\r\n",
        " \r\n",
        "    answer = []\r\n",
        "    for i in range(5):\r\n",
        "        answer += [reversed[i], normal[i]]\r\n",
        " \r\n",
        "    print('#%d %s' % (test_case, ' '.join(map(str, answer))))"
      ],
      "execution_count": null,
      "outputs": []
    },
    {
      "cell_type": "code",
      "metadata": {
        "id": "9SegCXeZDuAZ"
      },
      "source": [
        "# Simple sort\r\n",
        "def get_MaxM(num, M):\r\n",
        "    N = len(num)\r\n",
        "    for i in range(M):\r\n",
        "        for j in range(i+1, N):\r\n",
        "            if num[i] < num[j]:\r\n",
        "                num[i], num[j] = num[j], num[i]\r\n",
        "    return num[:M]\r\n",
        "\r\n",
        "# 선택 정렬\r\n",
        "def num_sort(n, a):\r\n",
        "    for i in range(n-1):\r\n",
        "        max_idx = i\r\n",
        "        for j in range(i+1, n):\r\n",
        "            if a[j] > a[max_idx]:\r\n",
        "                max_idx = j\r\n",
        "        a[i], a[max_idx] = a[max_idx], a[i]\r\n",
        "    return a\r\n",
        "\r\n",
        "def get_MinM(num, M):\r\n",
        "    N = len(num)\r\n",
        "    for i in range(M):\r\n",
        "        for j in range(i+1, N):\r\n",
        "            if num[i] > num[j]:\r\n",
        "                num[i], num[j] = num[j], num[i]\r\n",
        "    return num[:M]\r\n",
        "\r\n",
        "T = int(input())\r\n",
        "for t in range(1, T+1):\r\n",
        "    N = int(input())\r\n",
        "    num = list(map(int, input().split()))\r\n",
        "    a = get_MaxM(num, 5)\r\n",
        "    b = get_MinM(num, 5)\r\n",
        "    answer = [ '%d %d' % (a[i], b[i]) for i in range(5)]\r\n",
        "    sol = ' '.join(answer)\r\n",
        "    print('#%d %s' %(t, sol))"
      ],
      "execution_count": null,
      "outputs": []
    },
    {
      "cell_type": "code",
      "metadata": {
        "id": "CAoAxzWUxgmA"
      },
      "source": [
        "t =  int(input())\r\n",
        "for tc  in range(t):\r\n",
        "  n = int(input()) \r\n",
        "  li = list(map(int,input().split()))\r\n",
        "  li_ = sorted(li)\r\n",
        "\r\n",
        "  result=[]\r\n",
        "#   if n%2==0:\r\n",
        "#     for  i in range(n//2):\r\n",
        "#       result.append(li_[n-1-i])\r\n",
        "#       result.append(li_[i])\r\n",
        "#   else:\r\n",
        "#     for  i in range(n//2):\r\n",
        "#       result.append(li_[n-1-i])\r\n",
        "#       result.append(li_[i])\r\n",
        "#     result.append(li_[n//2])\r\n",
        "    for  i in range(n//2):\r\n",
        "        result.append(li_[n-1-i])\r\n",
        "        result.append(li_[i])\r\n",
        "    if n%2 == 1:\r\n",
        "        result.append(li_[n//2])\r\n",
        "\r\n",
        "    sol = ' '.join(map(str, result[:10]))\r\n",
        "    print('#%d %s' % (t, sol))\r\n",
        "#   print(\"#\",end=\"\")\r\n",
        "#   print(tc+1,end=\" \")\r\n",
        "#   cnt=0\r\n",
        "#   for a in result:\r\n",
        "#     cnt+=1\r\n",
        "#     if cnt==10:\r\n",
        "#       print(a,end=\"\")\r\n",
        "#       break\r\n",
        "#     print(a,end=\" \")\r\n",
        "#   print(\"\")"
      ],
      "execution_count": null,
      "outputs": []
    },
    {
      "cell_type": "code",
      "metadata": {
        "id": "atuheDM-xva5"
      },
      "source": [
        "def salt(x):\r\n",
        "    for i in range(len(x)-1,0,-1):\r\n",
        "        for j in range(i):\r\n",
        "            if x[j] > x[j+1]:\r\n",
        "                x[j], x[j+1] = x[j+1], x[j]\r\n",
        "    return x\r\n",
        " \r\n",
        "T = int(input())\r\n",
        "for t in range(1, T+1):\r\n",
        "    N = int(input())\r\n",
        "    A = [i for i in list(map(int,input().split()))]\r\n",
        "    result = [0] * 10\r\n",
        "    sort_A = salt(A)\r\n",
        "    for i in range(len(result)):\r\n",
        "        if i % 2 == 0:\r\n",
        "            result[i] = sort_A[-1-int(i/2)]\r\n",
        "        else:\r\n",
        "            result[i] = sort_A[int(i/2)]\r\n",
        "            \r\n",
        "    result_str = ' '.join(map(str, result))\r\n",
        "    print('#%d %s' %(t, result_str))"
      ],
      "execution_count": null,
      "outputs": []
    },
    {
      "cell_type": "code",
      "metadata": {
        "id": "14kqkiKkx3QT"
      },
      "source": [
        "# 내림차순 정렬 후, 앞 5개, 뒤 5개 가지고 리스트 만드는 형식\r\n",
        "# 선택 정렬\r\n",
        "def num_sort(n, a):\r\n",
        "    for i in range(n-1):\r\n",
        "        max_idx = i\r\n",
        "        for j in range(i+1, n):\r\n",
        "            if a[j] > a[max_idx]:\r\n",
        "                max_idx = j\r\n",
        "        a[i], a[max_idx] = a[max_idx], a[i]\r\n",
        "    return a\r\n",
        " \r\n",
        "def special_sort(n, a):\r\n",
        "    result = [0] * 10\r\n",
        "    k = 0\r\n",
        "    for i in range(len(result)):\r\n",
        "        # 짝수인 경우 최댓값 순서대로\r\n",
        "        if i % 2 == 0:\r\n",
        "            result[i] = a[i//2]\r\n",
        "        # 홀수인 경우 최솟값 순서대로\r\n",
        "        else:\r\n",
        "            result[i] = a[n-i+k]\r\n",
        "            k += 1\r\n",
        "    return result\r\n",
        " \r\n",
        "T = int(input())\r\n",
        "for t in range(1, T+1):\r\n",
        "    N = int(input())\r\n",
        "    arr = list(map(int, input().split()))\r\n",
        "    arr_sort = num_sort(N, arr)\r\n",
        "    ans = ' '.join(map(str, special_sort(N, arr_sort)))\r\n",
        "    print('#%d %s' % (t, ans))\r\n",
        "About"
      ],
      "execution_count": null,
      "outputs": []
    }
  ]
}