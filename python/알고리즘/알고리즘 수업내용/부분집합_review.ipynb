{
  "nbformat": 4,
  "nbformat_minor": 0,
  "metadata": {
    "colab": {
      "name": "부분집합_review.ipynb",
      "provenance": [],
      "collapsed_sections": []
    },
    "kernelspec": {
      "name": "python3",
      "display_name": "Python 3"
    }
  },
  "cells": [
    {
      "cell_type": "markdown",
      "metadata": {
        "id": "48Wit9XtPOe6"
      },
      "source": [
        "### 1.비트 연산자\r\n",
        "    << : 1비트 왼쪽으로 이동\r\n",
        "    >> : 1비트 오른쪽으로 이동\r\n",
        "    & : 비트끼리 and\r\n",
        "    | : 비트끼리 or\r\n",
        "\r\n",
        "참고 : http://www.jungol.co.kr/bbs/board.php?bo_table=pbank&wr_id=2583&sca=40    "
      ]
    },
    {
      "cell_type": "code",
      "metadata": {
        "id": "DE8dSZkUuFel"
      },
      "source": [
        "4가지 종류\r\n",
        "1 2 3 4\r\n",
        "\r\n",
        "하나도 선택하지 않은 경우 (1)\r\n",
        "1, 2, 3, 4  (4)\r\n",
        "1 2, 1 3, 1 4, 2 3, 2 4, 3 4 (6)\r\n",
        "1 2 3, 1 2 4, 1 3 4, 2 3 4 (4)\r\n",
        "1 2 3 4 (1)"
      ],
      "execution_count": null,
      "outputs": []
    },
    {
      "cell_type": "code",
      "metadata": {
        "id": "NHCYad1Hvapw"
      },
      "source": [
        "5가지 종류\r\n",
        "1 2 3 4 5\r\n",
        "32가지 경우가 발생함\r\n",
        "\r\n",
        "6가지 종류\r\n",
        "1 2 3 4 5 6\r\n",
        "64가지 경우가 발생함"
      ],
      "execution_count": null,
      "outputs": []
    },
    {
      "cell_type": "code",
      "metadata": {
        "colab": {
          "base_uri": "https://localhost:8080/"
        },
        "id": "a2kXihLjujmT",
        "outputId": "d02966d8-345d-4f99-a374-de45108dc76b"
      },
      "source": [
        "a = [1, 2, 3, 4]\r\n",
        "a_len = len(a)\r\n",
        "for i in range(a_len - 1):   # 첫 번째 수 고르는 index\r\n",
        "    for j in range(i+1, a_len):  # 두 번째 수 고르는 index\r\n",
        "       print(a[i], a[j])"
      ],
      "execution_count": null,
      "outputs": [
        {
          "output_type": "stream",
          "text": [
            "1 2\n",
            "1 3\n",
            "1 4\n",
            "2 3\n",
            "2 4\n",
            "3 4\n"
          ],
          "name": "stdout"
        }
      ]
    },
    {
      "cell_type": "code",
      "metadata": {
        "id": "KYiliksoqm4G"
      },
      "source": [
        "# 4개 숫자로 만드는 16가지 경우를 표현\r\n",
        "0  0000\r\n",
        "1  0001\r\n",
        "2  0010\r\n",
        "3  0011\r\n",
        "4  0100\r\n",
        "5  0101\r\n",
        "6  0110\r\n",
        "7  0111\r\n",
        "8  1000\r\n",
        "9  1001\r\n",
        "A  1010  # A는 10이예요 10\r\n",
        "B  1011  # B는 10다음의 11\r\n",
        "C  1100  # C는 커플! 1100 (12)\r\n",
        "D  1101  # D는 커플 뒤에 한 사람 (13)\r\n",
        "E  1110  # E는 맨뒤 것이 없다 (14)\r\n",
        "F  1111  # F는 실탄 4개 (15)"
      ],
      "execution_count": null,
      "outputs": []
    },
    {
      "cell_type": "code",
      "metadata": {
        "colab": {
          "base_uri": "https://localhost:8080/"
        },
        "id": "EhJ866lzrtTq",
        "outputId": "773d2d06-06f4-421e-d598-46d1ec16ae20"
      },
      "source": [
        "#0010000\r\n",
        "bin(1 << 4), 1<<4"
      ],
      "execution_count": null,
      "outputs": [
        {
          "output_type": "execute_result",
          "data": {
            "text/plain": [
              "('0b10000', 16)"
            ]
          },
          "metadata": {
            "tags": []
          },
          "execution_count": 51
        }
      ]
    },
    {
      "cell_type": "code",
      "metadata": {
        "colab": {
          "base_uri": "https://localhost:8080/"
        },
        "id": "S6EBWndSNHGN",
        "outputId": "277c6c1c-174c-498f-f6f2-977ce9a25404"
      },
      "source": [
        "# 비트 연산자를 사용하는 경우 2진수로 생각을 해야함\r\n",
        "\r\n",
        "print(bin(1<<1), 1 << 1)  # 2진수 10을 10진수로 출력\r\n",
        "print(bin(1<<2), 1 << 2)  # 2진수 100을 10진수로 출력"
      ],
      "execution_count": null,
      "outputs": [
        {
          "output_type": "stream",
          "text": [
            "2 0b10\n",
            "4 0b100\n"
          ],
          "name": "stdout"
        }
      ]
    },
    {
      "cell_type": "code",
      "metadata": {
        "colab": {
          "base_uri": "https://localhost:8080/"
        },
        "id": "bzkehSeSOsZu",
        "outputId": "6522a722-07f9-4da8-e6e2-fb1f86c9b63d"
      },
      "source": [
        "# 2**0 ~ 2**9 까지의 값\r\n",
        "n = 10\r\n",
        "for i in range(n):\r\n",
        "    print(bin(1<<i), 1 << i)\r\n",
        "\r\n",
        "# 내부적인 연산은 2진수로 이루어지고, 출력은 10진수로 되는 것임\r\n",
        "# 아래의 출력에서 왼쪽이 내부 연산 모습"
      ],
      "execution_count": null,
      "outputs": [
        {
          "output_type": "stream",
          "text": [
            "0b1 1\n",
            "0b10 2\n",
            "0b100 4\n",
            "0b1000 8\n",
            "0b10000 16\n",
            "0b100000 32\n",
            "0b1000000 64\n",
            "0b10000000 128\n",
            "0b100000000 256\n",
            "0b1000000000 512\n"
          ],
          "name": "stdout"
        }
      ]
    },
    {
      "cell_type": "code",
      "metadata": {
        "colab": {
          "base_uri": "https://localhost:8080/"
        },
        "id": "hRk8OMzGP6cD",
        "outputId": "bcb0100c-3159-46c2-8ed2-86582bb22d5e"
      },
      "source": [
        "# i가 10인 경우  2진수로 1010 이므로, i & (1 << j) 의 결과는 j가 1, 3 일 때 10, 1000이 되고, 0, 2에서는 0이 된다.\r\n",
        "i = 10\r\n",
        "print('%4s' % bin(i)[2:])\r\n",
        "for j in range(4):  # j = 0 1 2 3\r\n",
        "    print('%4s %4s' % (bin(1<<j)[2:], bin(i & (1 << j))[2:]) )"
      ],
      "execution_count": null,
      "outputs": [
        {
          "output_type": "stream",
          "text": [
            "1010\n",
            "   1    0\n",
            "  10   10\n",
            " 100    0\n",
            "1000 1000\n"
          ],
          "name": "stdout"
        }
      ]
    },
    {
      "cell_type": "code",
      "metadata": {
        "id": "G_1MVsDotPoS"
      },
      "source": [
        "1010\r\n",
        "1000\r\n",
        "1000\r\n"
      ],
      "execution_count": null,
      "outputs": []
    },
    {
      "cell_type": "markdown",
      "metadata": {
        "id": "cQsnR22yOY7M"
      },
      "source": [
        "### 2.하나씩 출력해서 확인"
      ]
    },
    {
      "cell_type": "code",
      "metadata": {
        "id": "wMNsRly6PioA",
        "colab": {
          "base_uri": "https://localhost:8080/"
        },
        "outputId": "d112bab6-6735-465d-fb8c-ba49ee61510c"
      },
      "source": [
        "# 다음의 범위는 무엇일까?\r\n",
        "n = 5\r\n",
        "print(range(1 << n))   # 2진수로 작성 후 10진수로 해석해보세요."
      ],
      "execution_count": null,
      "outputs": [
        {
          "output_type": "stream",
          "text": [
            "range(0, 32)\n"
          ],
          "name": "stdout"
        }
      ]
    },
    {
      "cell_type": "code",
      "metadata": {
        "colab": {
          "base_uri": "https://localhost:8080/"
        },
        "id": "WOozruknKRtn",
        "outputId": "910a9747-a47e-45d8-b37f-a5e3dfd0ab0d"
      },
      "source": [
        "# arr의 item 개수를 변경해 가면서 실행해 보세요.\r\n",
        "arr = [3, 6, 7, 1] \r\n",
        "\r\n",
        "n = len(arr) \t\t# n : 원소의 개수\r\n",
        "print(range(1 << n))\r\n",
        "print(arr)\r\n",
        "for i in range(1 << n): \t# 1<<n : 부분 집합의 개수\r\n",
        "    bi = bin(i)[2:]  # 앞의 '0b' 제거\r\n",
        "    bi = '0'*(4-len(bi)) + bi\r\n",
        "    my_list = ['%s' % bi]\r\n",
        "    for j in range(n): \t    # 원소의 수만큼 비트를 비교함\r\n",
        "        if i & (1 << j): \t# i의 j번째 비트가 1이면 j번째 원소 출력\r\n",
        "            my_list.append(arr[j])\r\n",
        "    print(my_list)"
      ],
      "execution_count": null,
      "outputs": [
        {
          "output_type": "stream",
          "text": [
            "range(0, 16)\n",
            "[3, 6, 7, 1]\n",
            "['0000']\n",
            "['0001', 3]\n",
            "['0010', 6]\n",
            "['0011', 3, 6]\n",
            "['0100', 7]\n",
            "['0101', 3, 7]\n",
            "['0110', 6, 7]\n",
            "['0111', 3, 6, 7]\n",
            "['1000', 1]\n",
            "['1001', 3, 1]\n",
            "['1010', 6, 1]\n",
            "['1011', 3, 6, 1]\n",
            "['1100', 7, 1]\n",
            "['1101', 3, 7, 1]\n",
            "['1110', 6, 7, 1]\n",
            "['1111', 3, 6, 7, 1]\n"
          ],
          "name": "stdout"
        }
      ]
    },
    {
      "cell_type": "code",
      "metadata": {
        "id": "knBumq5EFkuT"
      },
      "source": [
        "# arr의 item 개수를 변경해 가면서 실행해 보세요.\r\n",
        "arr = [3, 6, 7, 1] \r\n",
        "\r\n",
        "n = len(arr) \t\t# n : 원소의 개수\r\n",
        "for i in range(1 << n): \t# 1<<n : 부분 집합의 개수\r\n",
        "    my_list = []\r\n",
        "    for j in range(n): \t    # 원소의 수만큼 비트를 비교함\r\n",
        "        if i & (1 << j): \t# i의 j번째 비트가 1이면 j번째 원소 출력\r\n",
        "            my_list.append(arr[j])\r\n",
        "    print(my_list)"
      ],
      "execution_count": null,
      "outputs": []
    },
    {
      "cell_type": "code",
      "metadata": {
        "colab": {
          "base_uri": "https://localhost:8080/"
        },
        "id": "VdeCHhJ_GnNM",
        "outputId": "67a01b0a-8124-4bcf-becb-d2db4dfb597e"
      },
      "source": [
        "# 요소개수별 부분집합 목록 만들기\r\n",
        "arr = [3, 6, 7, 1] \r\n",
        "n = len(arr) \t\t# n : 원소의 개수\r\n",
        "brr = [list() for _ in range(n+1)]\r\n",
        "print(arr)\r\n",
        "for i in range(1 << n): \t# 1<<n : 부분 집합의 개수\r\n",
        "    my_list = [ arr[j] for j in range(n) if i & (1 << j)]\r\n",
        "    x = len(my_list)\r\n",
        "    brr[x].append(my_list)\r\n",
        "\r\n",
        "for b in brr:\r\n",
        "    print(b)"
      ],
      "execution_count": null,
      "outputs": [
        {
          "output_type": "stream",
          "text": [
            "[3, 6, 7, 1]\n",
            "[[]]\n",
            "[[3], [6], [7], [1]]\n",
            "[[3, 6], [3, 7], [6, 7], [3, 1], [6, 1], [7, 1]]\n",
            "[[3, 6, 7], [3, 6, 1], [3, 7, 1], [6, 7, 1]]\n",
            "[[3, 6, 7, 1]]\n"
          ],
          "name": "stdout"
        }
      ]
    },
    {
      "cell_type": "code",
      "metadata": {
        "colab": {
          "base_uri": "https://localhost:8080/"
        },
        "id": "pwLSIfE3FqI7",
        "outputId": "1b02ae3f-0093-496f-b897-18271287ff3e"
      },
      "source": [
        "2**4\r\n",
        "[3, 6, 7, 1]\r\n",
        "0  0000 1 10 100 1000 []\r\n",
        "1  0001 1 10 100 1000 [3]\r\n",
        "2  0010 [6]\r\n",
        "3  0011 [3, 6]\r\n",
        "4  0100 [7]\r\n",
        "5  0101 [3, 7]\r\n",
        "..\r\n",
        "15 1111"
      ],
      "execution_count": null,
      "outputs": [
        {
          "output_type": "execute_result",
          "data": {
            "text/plain": [
              "16"
            ]
          },
          "metadata": {
            "tags": []
          },
          "execution_count": 1
        }
      ]
    },
    {
      "cell_type": "markdown",
      "metadata": {
        "id": "cFumrHwNJqNa"
      },
      "source": [
        "### 3.부분집합\r\n",
        "- 0을 빼고 1부터 시작했어요!\r\n",
        "- 0은 하나도 선택되지 않는 것이니까요! "
      ]
    },
    {
      "cell_type": "code",
      "metadata": {
        "id": "uQC5Yias6bRH"
      },
      "source": [
        "T = int(input())\r\n",
        "for t in range(1, T+1):\r\n",
        "    numbers = list(map(int, input().split()))\r\n",
        "    n = 10 \r\n",
        "    for i in range(1, 1 << n):   # 이 부분\r\n",
        "        subset_sum = 0\r\n",
        "        for j in range(n):\r\n",
        "            if i & (1 << j):\r\n",
        "                subset_sum += numbers[j]\r\n",
        "        if subset_sum == 0:\r\n",
        "            print('#%s 1' % t)\r\n",
        "            break\r\n",
        "    else:\r\n",
        "        print('#%s 0' % t)"
      ],
      "execution_count": null,
      "outputs": []
    },
    {
      "cell_type": "code",
      "metadata": {
        "id": "NT7-malCXo6w",
        "colab": {
          "base_uri": "https://localhost:8080/"
        },
        "outputId": "662aedea-f046-44c5-974a-1d60db419ad7"
      },
      "source": [
        "# 위의 코드를 함수화 해 보세요!\r\n",
        "\r\n",
        "def get_solution(numbers):\r\n",
        "    n = len(numbers)\r\n",
        "    for i in range(1, 1 << n):   # 이 부분\r\n",
        "        subset_sum = 0\r\n",
        "        for j in range(n):\r\n",
        "            if i & (1 << j):\r\n",
        "                subset_sum += numbers[j]\r\n",
        "        if subset_sum == 0:  return 1\r\n",
        "    return 0\r\n",
        "\r\n",
        "\r\n",
        "T = int(input())\r\n",
        "for t in range(1, T+1):\r\n",
        "    numbers = list(map(int, input().split()))\r\n",
        "    sol = get_solution(numbers)\r\n",
        "    print('#%d %d' % (t, sol))\r\n"
      ],
      "execution_count": null,
      "outputs": [
        {
          "output_type": "stream",
          "text": [
            "3\n",
            "3 11 8 5 10 1 13 4 7 2\n",
            "#1 0\n",
            "6 -2 3 2 11 4 13 14 8 1\n",
            "#2 1\n",
            "1 11 3 7 0 -2 4 5 14 9\n",
            "#3 1\n"
          ],
          "name": "stdout"
        }
      ]
    },
    {
      "cell_type": "markdown",
      "metadata": {
        "id": "g-b0vjwxahLH"
      },
      "source": [
        "## 4.함수로 분리한 코드-1\r\n",
        "- 수정하면 좋은 부분은?"
      ]
    },
    {
      "cell_type": "code",
      "metadata": {
        "id": "Rp7ipFmxXkFc"
      },
      "source": [
        "def get_sum(li):\r\n",
        "    n = 10\r\n",
        "    for i in range(1<<n):  # 수정\r\n",
        "        sum = 0\r\n",
        "        for j in range(n):\r\n",
        "            if i & (1<<j):\r\n",
        "                sum += li[j]\r\n",
        "        if i != 0 and j != 0:\r\n",
        "            if sum == 0:\r\n",
        "                return 1\r\n",
        "    return 0\r\n",
        "  \r\n",
        "  \r\n",
        "T = int(input())\r\n",
        "for t in range(1, T+1):\r\n",
        "    li = list(map(int, input().split()))\r\n",
        "    ans = get_sum(li)\r\n",
        "    print('#%d %d' % (t, ans))"
      ],
      "execution_count": null,
      "outputs": []
    },
    {
      "cell_type": "markdown",
      "metadata": {
        "id": "s36ORdiVabXc"
      },
      "source": [
        "## 5.함수로 분리한 코드-2"
      ]
    },
    {
      "cell_type": "code",
      "metadata": {
        "id": "XKTai29JYgmk"
      },
      "source": [
        "3\r\n",
        "3 11 8 5 10 1 13 4 7 2\r\n",
        "6 -2 3 2 11 4 13 14 8 1\r\n",
        "1 11 3 7 0 -2 4 5 14 9"
      ],
      "execution_count": null,
      "outputs": []
    },
    {
      "cell_type": "code",
      "metadata": {
        "id": "d5HXm7jyYT97"
      },
      "source": [
        "# 함수로 분리한 코드 - 수정 전\r\n",
        "def iszero(a):\r\n",
        "    n = len(a)\r\n",
        "    for i in range(1<<n):\r\n",
        "        subset = []\r\n",
        "        total = 0\r\n",
        "        for j in range(n):\r\n",
        "            if i & (1<<j):\r\n",
        "                subset += [a[j]]\r\n",
        "                total += a[j]\r\n",
        "        if len(subset) != 0 and total == 0:\r\n",
        "            return 1\r\n",
        "    return 0\r\n",
        " \r\n",
        "T = int(input())\r\n",
        "for t in range(1, T+1):\r\n",
        "    N = list(map(int, input().split()))\r\n",
        "    print(\"#%d %d\" % (t, iszero(N)))"
      ],
      "execution_count": null,
      "outputs": []
    },
    {
      "cell_type": "code",
      "metadata": {
        "id": "1BEGEMFTaUzh"
      },
      "source": [
        "# 위의 코드에서 불필요한 부분은 없을까? 가능하면 수정해 보자\r\n",
        "\r\n",
        "\r\n"
      ],
      "execution_count": null,
      "outputs": []
    },
    {
      "cell_type": "markdown",
      "metadata": {
        "id": "U7pSS9KVa3_C"
      },
      "source": [
        "## 6.비트연산 없이 부분집합 구하기"
      ]
    },
    {
      "cell_type": "code",
      "metadata": {
        "id": "1vn9BUONYpUp"
      },
      "source": [
        "# 어머나 이런 방법이!\r\n",
        "t = int(input())\r\n",
        "\r\n",
        "for test_case in range(1, t + 1):\r\n",
        "    array = list(map(int, input().split()))\r\n",
        "    sums = [0]\r\n",
        "    while array:\r\n",
        "        cur = array.pop(0)\r\n",
        "        sums += [_sum + cur for _sum in sums]\r\n",
        "    print('#%d %d' % (test_case, 0 in sums[1:]))\r\n",
        "    #print(len(sums))"
      ],
      "execution_count": null,
      "outputs": []
    },
    {
      "cell_type": "code",
      "metadata": {
        "colab": {
          "base_uri": "https://localhost:8080/"
        },
        "id": "t2MBTmeRZP7d",
        "outputId": "1f41b986-8314-42c9-9709-ff5c789a7973"
      },
      "source": [
        "# 이해하기 위해 실행 해보자\r\n",
        "array = [1, 2, 3, 4]\r\n",
        "sums = [0]\r\n",
        "while array:\r\n",
        "    cur = array.pop(0)\r\n",
        "    temp = [_sum + cur for _sum in sums]\r\n",
        "    sums += temp\r\n",
        "    print(temp)\r\n",
        "\r\n",
        "print(len(sums))"
      ],
      "execution_count": null,
      "outputs": [
        {
          "output_type": "stream",
          "text": [
            "[1]\n",
            "[2, 3]\n",
            "[3, 4, 5, 6]\n",
            "[4, 5, 6, 7, 7, 8, 9, 10]\n",
            "16\n"
          ],
          "name": "stdout"
        }
      ]
    }
  ]
}