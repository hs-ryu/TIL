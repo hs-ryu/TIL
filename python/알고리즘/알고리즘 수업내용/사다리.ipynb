{
  "nbformat": 4,
  "nbformat_minor": 0,
  "metadata": {
    "colab": {
      "name": "사다리.ipynb",
      "provenance": [],
      "collapsed_sections": []
    },
    "kernelspec": {
      "name": "python3",
      "display_name": "Python 3"
    }
  },
  "cells": [
    {
      "cell_type": "code",
      "metadata": {
        "id": "A1mYIGHwaQfr"
      },
      "source": [
        "T = 10\r\n",
        "for t in range(1, T+1):\r\n",
        "    N = int(input())\r\n",
        "    n = 100\r\n",
        "    # 사다리 그려놓기\r\n",
        "    ladder = [list(map(int, input().split())) for _ in range(n)]  # 1 :사다리 있는 곳   0: 사다리 없는 곳\r\n",
        "    r = n-1\r\n",
        "    c = 0\r\n",
        "    # 왔던방향 (위 = 0, 왼쪽 = -1, 오른쪽 = 1) - 좌/우 이동할 때 쭉 한방향으로 가기 위해\r\n",
        "    dir = 0  # 고민(?)  \r\n",
        "    # 마지막 행에서 2인 지점 찾기 (하나만 찾으면 됨)\r\n",
        "    c = [i for i in range(n) if ladder[n-1][i] == 2][0]\r\n",
        "    # r이 0이 되면(0행으로 돌아오면) 종료\r\n",
        "    while r > 0:\r\n",
        "        # 왼쪽으로 가기\r\n",
        "        if (dir == 0 or dir == -1) and c > 0 and ladder[r][c-1] == 1 :\r\n",
        "            c -= 1\r\n",
        "            dir = -1\r\n",
        "        # 오른쪽으로 가기\r\n",
        "        elif (dir == 0 or dir == 1) and c < n-1 and ladder[r][c+1] == 1:\r\n",
        "            c += 1\r\n",
        "            dir = 1\r\n",
        "        # 위로 가기\r\n",
        "        else:\r\n",
        "            r -= 1\r\n",
        "            dir = 0\r\n",
        "    print(\"#%d %d\" % (t, c))\r\n"
      ],
      "execution_count": null,
      "outputs": []
    },
    {
      "cell_type": "code",
      "metadata": {
        "id": "3tWk5Y43bYAr"
      },
      "source": [
        "def get_result(a):\r\n",
        "    # 마지막 행에서 값이 2인 곳의 x, y 좌표 구하기\r\n",
        "    for i in range(N):\r\n",
        "        if a[N-1][i] == 2:\r\n",
        "            y = i\r\n",
        "            break\r\n",
        "    x = N - 1\r\n",
        "\r\n",
        "    # 첫번째 행에 도착할때까지 반복\r\n",
        "    while x > 0:\r\n",
        "        # 왼쪽으로 가는 경우\r\n",
        "        if y > 0 and a[x][y-1] == 1:\r\n",
        "            # y좌표가 0보다 크고 값이 0이 아닐때까지 반복\r\n",
        "            while y > 0 and a[x][y-1] != 0:\r\n",
        "                y -= 1\r\n",
        "\r\n",
        "        # 오른쪽으로 가는 경우\r\n",
        "        elif y < N-1 and a[x][y+1] == 1:\r\n",
        "            # y좌표가 N-1 보다 작고 값이 0이 아닐때까지 반복\r\n",
        "            while y < N-1 and a[x][y+1] != 0:\r\n",
        "                y += 1                \r\n",
        "        # 위쪽으로 가는 경우\r\n",
        "        x -= 1\r\n",
        "    return y\r\n",
        "\r\n",
        "N = 100\r\n",
        "for _ in range(1, 11):\r\n",
        "    t = int(input())\r\n",
        "    ladder = [list(map(int, input().split())) for _ in range(N)]\r\n",
        "    ans = get_result(ladder)\r\n",
        "    print('#%d %d' % (t, ans))"
      ],
      "execution_count": null,
      "outputs": []
    },
    {
      "cell_type": "code",
      "metadata": {
        "id": "Vrzv6M1cn9Dg"
      },
      "source": [
        "for t in range(1, 11):\r\n",
        "    t = int(input())\r\n",
        "    n = 100\r\n",
        "    arr = [list(map(int, input().split())) for _ in range(n)]\r\n",
        "\r\n",
        "    # 마지막 행의 '2' = now point\r\n",
        "    for i in range(100):\r\n",
        "        if arr[99][i] == 2:\r\n",
        "            nr = 99 - 1  # 한 칸 위로 올라가서 시작\r\n",
        "            nc = i\r\n",
        "            break\r\n",
        "\r\n",
        "    # 밑에서부터 거꾸로 올라가기\r\n",
        "    while nr > 0:\r\n",
        "        # 왼쪽으로 1이 있다면\r\n",
        "        if nc > 0 and arr[nr][nc - 1] == 1:\r\n",
        "            # 0이 나올때 까지 계속 왼쪽으로 가기 (col -= 1)\r\n",
        "            while nc > 0 and arr[nr][nc - 1] != 0:\r\n",
        "                nc -= 1\r\n",
        "            # 0이 나오거나 col = 0 이 되어서 끝났다면, 위로 한 칸 올라가기\r\n",
        "            nr -= 1\r\n",
        "\r\n",
        "        # 오른쪽으로 1이 있다면\r\n",
        "        elif nc < 99 and arr[nr][nc + 1] == 1:\r\n",
        "            # 0이 나올때 까지 계속 오른쪽으로 가기 (col += 1)\r\n",
        "            while nc < 99 and arr[nr][nc + 1] != 0:\r\n",
        "                nc += 1\r\n",
        "            # 0이 나오거나 col = 99가 되어서 끝났다면, 위로 한 칸 올라가기\r\n",
        "            nr -= 1\r\n",
        "\r\n",
        "        # 왼쪽, 오른쪽 모두 1이 아니라면 위로 한 칸 올라가기\r\n",
        "        else:\r\n",
        "            nr -= 1\r\n",
        "    print(\"#{} {}\".format(t, nc))\r\n"
      ],
      "execution_count": null,
      "outputs": []
    },
    {
      "cell_type": "code",
      "metadata": {
        "id": "jpEvwWDNbeuK"
      },
      "source": [
        "def get_end_idx(d, ix):\r\n",
        "    for iy in range(99, -1, -1):  # direction : up\r\n",
        "        step = -1 if d[iy][ix-1] else 1 if d[iy][ix+1] else 0\r\n",
        "        if not step:\r\n",
        "            continue\r\n",
        "        line = d[iy]\r\n",
        "        while line[ix]:   # while line[ix+step]: 와의 차이점은?\r\n",
        "            ix += step\r\n",
        "        ix -= step\r\n",
        "    return ix - 1\r\n",
        "\r\n",
        "def get_start_idx(line):\r\n",
        "    for ix in range(1, 101):\r\n",
        "        if line[ix] == 2:\r\n",
        "            return ix\r\n",
        "    return -1  # Error - will not happen\r\n",
        "\r\n",
        "T = 10\r\n",
        "S = 100\r\n",
        "for _ in range(1, T+1):\r\n",
        "    t = int(input())\r\n",
        "    D = [[0]+list(map(int, input().split()))+[0] for _ in range(S)]\r\n",
        "    #D.insert(0, [0]*(S+2))  # 첫 줄 \r\n",
        "    #D.append([0]*(S+2)) # 마지막 줄\r\n",
        "    \r\n",
        "    #s = get_start_idx(D[S-1])\r\n",
        "    s = [ix for ix in range(1, S+1) if line[ix] == 2][0]\r\n",
        "    ans = get_end_idx(D, s)\r\n",
        "    print('#%d %d' % (t, ans))\r\n"
      ],
      "execution_count": null,
      "outputs": []
    }
  ]
}