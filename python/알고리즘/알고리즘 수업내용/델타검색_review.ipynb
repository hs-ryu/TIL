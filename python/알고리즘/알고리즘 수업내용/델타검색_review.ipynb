{
  "nbformat": 4,
  "nbformat_minor": 0,
  "metadata": {
    "colab": {
      "name": "델타검색_review.ipynb",
      "provenance": [],
      "collapsed_sections": [],
      "toc_visible": true
    },
    "kernelspec": {
      "name": "python3",
      "display_name": "Python 3"
    }
  },
  "cells": [
    {
      "cell_type": "markdown",
      "metadata": {
        "id": "RbJNxOpTFmOu"
      },
      "source": [
        "### 1.변량을 정의하는 방법"
      ]
    },
    {
      "cell_type": "code",
      "metadata": {
        "id": "QVIn6MEj6WdJ"
      },
      "source": [
        "delta = [[0, 0, 1, -1], [1, -1, 0, 0]]\r\n",
        "\r\n",
        "delta[0][0] ~ delta[1][3]"
      ],
      "execution_count": null,
      "outputs": []
    },
    {
      "cell_type": "code",
      "metadata": {
        "id": "Npg5_N0V6vjW"
      },
      "source": [
        "dxy = [[1, 0], [0, -1], [-1, 0], [0, 1]]\r\n",
        "dxy[0][0] ~ dxy[3][1]"
      ],
      "execution_count": null,
      "outputs": []
    },
    {
      "cell_type": "code",
      "metadata": {
        "id": "aahJgPIs6xAE"
      },
      "source": [
        "dr = [-1, 1, 0, 0]\r\n",
        "dc = [0, 0, -1, 1]\r\n",
        "\r\n",
        "dr[0] ~ dr[3]\r\n",
        "dc[0] ~ dc[3]"
      ],
      "execution_count": null,
      "outputs": []
    },
    {
      "cell_type": "markdown",
      "metadata": {
        "id": "ZtMfUckcHg4z"
      },
      "source": [
        "### 2.review-1 : BEFORE, AFTER\r\n",
        "- dr, dc의 위치를 for문 밖으로 이동\r\n",
        "- 2차원 배열 입력을 comprehension으로 변경\r\n",
        "- 델타 돌리기를 index 접근 없는 방법으로 변경해 봄\r\n",
        "- 변수 초기화는 반복문 바로 전에 사용 (result = 0의 위치 이동)\r\n",
        "- continue, break, return가 나오면 else: 를 적지 않아도 됨\r\n",
        "- abs() 함수를 사용하지 않는 방법 확인 "
      ]
    },
    {
      "cell_type": "code",
      "metadata": {
        "id": "F4zGN6io6181"
      },
      "source": [
        "# BEFORE\r\n",
        "T = int(input())\r\n",
        " \r\n",
        "for t in range(1, T+1):\r\n",
        "    array = []\r\n",
        "    dr = [0, 0, -1, 1]\r\n",
        "    dc = [-1, 1, 0, 0]\r\n",
        "    result = 0\r\n",
        "    for a in range(5):\r\n",
        "        array.append(list(map(int, input().split())))\r\n",
        " \r\n",
        "    # 행 탐색\r\n",
        "    for r in range(len(array)):\r\n",
        "        # 열 탐색\r\n",
        "        for c in range(len(array[0])):\r\n",
        "            # 델타 돌리기\r\n",
        "            for k in range(4):\r\n",
        "                nr = r + dr[k]\r\n",
        "                nc = c + dc[k]\r\n",
        "                # 이럴 때는 지나가면서 반복문 계속 돌리기 (continue)\r\n",
        "                if nr < 0 or nr > 4 or nc < 0 or nc > 4:\r\n",
        "                    continue\r\n",
        "                else:\r\n",
        "                    result += abs(array[nr][nc] - array[r][c])\r\n",
        "    print('#%d %d'%(t, result))"
      ],
      "execution_count": null,
      "outputs": []
    },
    {
      "cell_type": "code",
      "metadata": {
        "id": "cDF1X8w5_8QW"
      },
      "source": [
        "# AFTER\r\n",
        "\r\n",
        "# 변하지 않는 참조표는  for문 밖에 위치 시킨다\r\n",
        "dxy = [[1, 0], [0, -1], [-1, 0], [0, 1]]\r\n",
        "\r\n",
        "T = int(input()) \r\n",
        "for t in range(1, T+1):\r\n",
        "    # 2차원 배열을 입력 comprehension\r\n",
        "    array = [list(map(int, input().split())) for n in range(5)]\r\n",
        " \r\n",
        "    result = 0\r\n",
        "    # 행 탐색\r\n",
        "    for r in range(len(array)):\r\n",
        "        # 열 탐색\r\n",
        "        for c in range(len(array[0])):\r\n",
        "            # 델타 돌리기\r\n",
        "            for dr, dc in dxy:\r\n",
        "                nr = r + dr\r\n",
        "                nc = c + dc\r\n",
        "                # 이럴 때는 지나가면서 반복문 계속 돌리기 (continue)\r\n",
        "                if nr < 0 or nr > 4 or nc < 0 or nc > 4:\r\n",
        "                    continue    # continue, break, return - else 를 생략하고 else에 작성될 내용을 바로 적는다\r\n",
        "                temp = array[nr][nc] - array[r][c]\r\n",
        "                if temp < 0:\r\n",
        "                    temp = -temp\r\n",
        "                result += temp\r\n",
        "\r\n",
        "    print('#%d %d'%(t, result))"
      ],
      "execution_count": null,
      "outputs": []
    },
    {
      "cell_type": "markdown",
      "metadata": {
        "id": "yD-1VPnwIbE4"
      },
      "source": [
        "### 3.review-2 : 함수로 분리 작성\r\n",
        "- sum은 built-in 함수 이름이므로 _sum 처럼 다른 이름을 사용"
      ]
    },
    {
      "cell_type": "code",
      "metadata": {
        "id": "38pJViTR8DE0"
      },
      "source": [
        "# 함수화하는 것이 나중에 디버깅할 때 좋습니다.\r\n",
        "\r\n",
        "def get_abs_sum(array):\r\n",
        "    # 상하좌우\r\n",
        "    dx = [0, 0, -1, 1]\r\n",
        "    dy = [-1, 1, 0, 0]\r\n",
        "    _sum = 0\r\n",
        "    for x in range(5):\r\n",
        "        for y in range(5):\r\n",
        "            for i in range(4):\r\n",
        "                nx = x + dx[i]\r\n",
        "                ny = y + dy[i]\r\n",
        "                if 0 <= nx < 5 and 0 <= ny < 5:\r\n",
        "                    _sum += abs(array[nx][ny]-array[x][y])\r\n",
        "    return _sum\r\n",
        " \r\n",
        " \r\n",
        "T = int(input())\r\n",
        "for t in range(1, T+1):\r\n",
        "    arr = [list(map(int, input().split())) for n in range(5)]\r\n",
        "    ans = get_abs_sum(arr)\r\n",
        "    print('#%d %d' % (t, ans))"
      ],
      "execution_count": null,
      "outputs": []
    },
    {
      "cell_type": "markdown",
      "metadata": {
        "id": "ZxKf1FCRI1wC"
      },
      "source": [
        "### 4.review-3 : 변량사용하지 않는 방법"
      ]
    },
    {
      "cell_type": "code",
      "metadata": {
        "id": "r5oonGPR7si9"
      },
      "source": [
        "# 변량 배열 사용 안함\r\n",
        "T = int(input())\r\n",
        "x, y = 0, 0\r\n",
        " \r\n",
        "for t in range(1, T+1):\r\n",
        "    arr = []\r\n",
        "    total = 0\r\n",
        "    for i in range(5):\r\n",
        "        arr.append(list(map(int, input().split())))\r\n",
        " \r\n",
        "    for x in range(len(arr)):\r\n",
        "        for y in range(len(arr[x])):\r\n",
        "            if x > 0:\r\n",
        "                total += abs(arr[x-1][y]-arr[x][y])\r\n",
        "            if x < 4:\r\n",
        "                total += abs(arr[x+1][y]-arr[x][y])\r\n",
        "            if y > 0:\r\n",
        "                total += abs(arr[x][y-1]-arr[x][y])\r\n",
        "            if y < 4:\r\n",
        "                total += abs(arr[x][y+1]-arr[x][y])\r\n",
        " \r\n",
        "    print('#%d %d' % (t, total))"
      ],
      "execution_count": null,
      "outputs": []
    },
    {
      "cell_type": "markdown",
      "metadata": {
        "id": "q8H6BfnUIvY5"
      },
      "source": [
        "### 5.review-4\r\n",
        "- 어떤 부분을 수정하시겠어요?\r\n"
      ]
    },
    {
      "cell_type": "code",
      "metadata": {
        "id": "yivLUXeB8Xgn"
      },
      "source": [
        "# BEFORE\r\n",
        "T = int(input())\r\n",
        " \r\n",
        "for t in range(1, T+1):\r\n",
        "    arr_list = [list(map(int, input().split())) for n in range(5)]\r\n",
        " \r\n",
        "    drc = [[-1, 0], [1, 0], [0, -1], [0, 1]] \r\n",
        "    result = 0\r\n",
        "    for r in range(5):\r\n",
        "        for c in range(5):\r\n",
        "            for i in range(4):\r\n",
        "                nr = r + drc[i][0]\r\n",
        "                nc = c + drc[i][1]\r\n",
        "                if 0 <= nr < 5 and 0 <= nc < 5:\r\n",
        "                    result += abs(arr_list[nr][nc] - arr_list[r][c])\r\n",
        " \r\n",
        "    print('#%d %d' % (t, result))"
      ],
      "execution_count": null,
      "outputs": []
    },
    {
      "cell_type": "code",
      "metadata": {
        "id": "zv4jnHb_ou9j"
      },
      "source": [
        ""
      ],
      "execution_count": null,
      "outputs": []
    }
  ]
}