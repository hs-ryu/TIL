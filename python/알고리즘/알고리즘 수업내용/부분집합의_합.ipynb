{
  "nbformat": 4,
  "nbformat_minor": 0,
  "metadata": {
    "colab": {
      "name": "부분집합의_합.ipynb",
      "provenance": [],
      "collapsed_sections": []
    },
    "kernelspec": {
      "name": "python3",
      "display_name": "Python 3"
    }
  },
  "cells": [
    {
      "cell_type": "code",
      "metadata": {
        "id": "fGrm609j-74A"
      },
      "source": [
        "# 코드 정리 전\r\n",
        "T = int(input())\r\n",
        " \r\n",
        "for i in range(T):\r\n",
        "    N, K = list(map(int, input().split()))\r\n",
        "    numbers = list()\r\n",
        "    result_number = 0\r\n",
        "     \r\n",
        "    for j in range(1, 13):\r\n",
        "        numbers.append(j)\r\n",
        "     \r\n",
        "    for k in range(1, 1<<12):\r\n",
        "        cnt = 0\r\n",
        "        sum_numbers = 0\r\n",
        "         \r\n",
        "        for l in range(12):\r\n",
        "            if k & (1<<l):\r\n",
        "                sum_numbers += numbers[l]\r\n",
        "                cnt += 1\r\n",
        "            if cnt > N or sum_numbers > K:\r\n",
        "                break\r\n",
        "                 \r\n",
        "        if cnt == N and sum_numbers == K:\r\n",
        "            result_number += 1\r\n",
        "     \r\n",
        "    print('#%d %d' % (i+1, result_number))"
      ],
      "execution_count": null,
      "outputs": []
    },
    {
      "cell_type": "code",
      "metadata": {
        "id": "Q1wlAOcbSFnm"
      },
      "source": [
        "# 코드 정리 \r\n",
        "T = int(input()) \r\n",
        "for i in range(T):\r\n",
        "    N, K = list(map(int, input().split()))\r\n",
        "\r\n",
        "    # numbers = list()   \r\n",
        "    # for j in range(1, 13):\r\n",
        "    #     numbers.append(j)\r\n",
        "    numbers = list(range(1, 13))\r\n",
        "\r\n",
        "    result_number = 0   \r\n",
        "    for k in range(1, 1<<12):\r\n",
        "        cnt = 0\r\n",
        "        sum_numbers = 0         \r\n",
        "        for l in range(12):\r\n",
        "            if k & (1<<l):\r\n",
        "                sum_numbers += numbers[l]\r\n",
        "                cnt += 1\r\n",
        "            if cnt > N or sum_numbers > K:\r\n",
        "                break\r\n",
        "                 \r\n",
        "        if cnt == N and sum_numbers == K:\r\n",
        "            result_number += 1\r\n",
        "     \r\n",
        "    print('#%d %d' % (i+1, result_number))"
      ],
      "execution_count": null,
      "outputs": []
    },
    {
      "cell_type": "code",
      "metadata": {
        "id": "Vme8LE2F--gU"
      },
      "source": [
        "T = int(input())\r\n",
        " \r\n",
        "for tc in range(1, T+1):\r\n",
        "    # N = 원소 갯수         K = 부분 집합의 합\r\n",
        "    N, K = map(int, input().split())\r\n",
        "    numbers = [i for i in range(1, 13)]\r\n",
        " \r\n",
        "    # 결과\r\n",
        "    answer = 0\r\n",
        "    # 모든 경우의 수에서\r\n",
        "    for i in range(1, 1 << len(numbers)):\r\n",
        "        # temp_sum: 합계\r\n",
        "        # temp_count: 1의 갯수\r\n",
        "        temp_sum = 0\r\n",
        "        temp_count = 0\r\n",
        "        for j in range(len(numbers)):\r\n",
        "            if i & (1 << j):\r\n",
        "                temp_sum += numbers[j]\r\n",
        "                temp_count += 1\r\n",
        "        if temp_count == N and temp_sum == K:\r\n",
        "            answer += 1\r\n",
        " \r\n",
        "    print('#%d %d' % (tc, answer))\r\n"
      ],
      "execution_count": null,
      "outputs": []
    },
    {
      "cell_type": "code",
      "metadata": {
        "id": "zVvS68-E_AW4"
      },
      "source": [
        "\r\n",
        "num = [1,2,3,4,5,6,7,8,9,10,11,12]\r\n",
        "Len = len(num)\r\n",
        "lst = []\r\n",
        "for i in range(1<<Len):\r\n",
        "    sub_lst = []\r\n",
        "    for j in range(Len):\r\n",
        "        if i & (1<<j):\r\n",
        "            sub_lst.append(num[j])\r\n",
        "    lst.append(sub_lst)\r\n",
        "\r\n",
        "TC  = int(input())\r\n",
        "for tc in range(1, TC+1):\r\n",
        "    N, K = map(int, input().split())\r\n",
        "#     len_lst = []\r\n",
        "#     for i in lst:\r\n",
        "#         if len(i) == N:\r\n",
        "#             len_lst.append(i)\r\n",
        "    answer = [1 for i in lst if len(i) == N if sum(i) == K]\r\n",
        "\r\n",
        "#     result = 0\r\n",
        "#     for i in len_lst:\r\n",
        "#         if sum(i) == K:\r\n",
        "#             result += 1\r\n",
        "    print('#%s %d'%(tc, len(answer)))"
      ],
      "execution_count": null,
      "outputs": []
    },
    {
      "cell_type": "code",
      "metadata": {
        "id": "mHrUpkFuW6_2"
      },
      "source": [
        "## 도전!!!\r\n",
        "\r\n",
        "num = [1,2,3,4,5,6,7,8,9,10,11,12]\r\n",
        "Len = len(num)\r\n",
        "lst = []\r\n",
        "for i in range(1, 1<<Len):\r\n",
        "    sub_lst = []\r\n",
        "    for j in range(Len):\r\n",
        "        if i & (1<<j):\r\n",
        "            sub_lst.append(num[j])\r\n",
        "    lst.append(sub_lst)\r\n",
        "\r\n",
        "#lst = [ [1], [2], [1, 2], ..., [1,2,3,4,5,6,7,8,9,10,11,12]] : before\r\n",
        "\r\n",
        "# after\r\n",
        "#lst[1] = [ [1], [2], [3], [4], ...[12]]\r\n",
        "#lst[2] = [ [1, 2], [1, 3], [1, 4], ....[11, 12]]\r\n",
        "\r\n",
        "TC  = int(input())\r\n",
        "for tc in range(1, TC+1):\r\n",
        "    N, K = map(int, input().split())\r\n",
        "    answer = [1 for i in lst[N] if sum(i) == K]\r\n",
        "    print('#%s %d'%(tc, len(answer)))"
      ],
      "execution_count": null,
      "outputs": []
    },
    {
      "cell_type": "code",
      "metadata": {
        "colab": {
          "base_uri": "https://localhost:8080/"
        },
        "id": "l7dUyQbWJ_io",
        "outputId": "e372da01-d4b4-4c4f-b058-758aa97590d1"
      },
      "source": [
        "# 도전에 대한 답\r\n",
        "num = list(range(1, 13))\r\n",
        "Len = len(num)\r\n",
        "lst = [ [] for _ in range(13) ]\r\n",
        "for i in range(1, 1<<Len):\r\n",
        "    sub_lst = [ num[j] for j in range(Len) if i & (1<<j)]\r\n",
        "    x = len(sub_lst)\r\n",
        "    lst[x].append(sum(sub_lst))\r\n",
        "\r\n",
        "TC = int(input())\r\n",
        "for tc in range(1, TC+1):\r\n",
        "    N, K = map(int, input().split())\r\n",
        "    answer = [1 for s in lst[N] if s == K]\r\n",
        "    print('#%s %d'%(tc, len(answer)))"
      ],
      "execution_count": null,
      "outputs": [
        {
          "output_type": "stream",
          "text": [
            "1\n",
            "5 10\n",
            "#1 0\n"
          ],
          "name": "stdout"
        }
      ]
    },
    {
      "cell_type": "markdown",
      "metadata": {
        "id": "VQ0XJcHWYeC3"
      },
      "source": [
        "### 어머나!"
      ]
    },
    {
      "cell_type": "code",
      "metadata": {
        "id": "W-HC_dEWYf02"
      },
      "source": [
        "t = int(input()) \r\n",
        "for test_case in range(1, t + 1):\r\n",
        "    array = list(map(int, input().split()))\r\n",
        " \r\n",
        "    sums = [0]\r\n",
        "    while array:\r\n",
        "        cur = array.pop(0)\r\n",
        "        sums += [_sum + cur for _sum in sums]\r\n",
        " \r\n",
        "    print('#%d %d' % (test_case, 0 in sums[1:]))"
      ],
      "execution_count": null,
      "outputs": []
    },
    {
      "cell_type": "code",
      "metadata": {
        "id": "lcRawnovSI9v"
      },
      "source": [
        "t = int(input())\r\n",
        "for test_case in range(1, t + 1):\r\n",
        "    n, k = map(int, input().split())\r\n",
        " \r\n",
        "    sums = [(0, 0)]\r\n",
        "    for num in range(1, 13):\r\n",
        "        sums += [(_cnt + 1, _sum + num) for _cnt, _sum in sums]     \r\n",
        "    print('#%d %d' % (test_case, sum(x == (n, k) for x in sums)))"
      ],
      "execution_count": null,
      "outputs": []
    }
  ]
}