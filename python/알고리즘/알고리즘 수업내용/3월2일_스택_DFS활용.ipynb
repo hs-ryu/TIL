{
  "nbformat": 4,
  "nbformat_minor": 0,
  "metadata": {
    "colab": {
      "name": "3월2일_스택_DFS활용.ipynb",
      "provenance": [],
      "collapsed_sections": []
    },
    "kernelspec": {
      "name": "python3",
      "display_name": "Python 3"
    }
  },
  "cells": [
    {
      "cell_type": "markdown",
      "metadata": {
        "id": "2liPelciOSUu"
      },
      "source": [
        "## 1.Forth "
      ]
    },
    {
      "cell_type": "code",
      "metadata": {
        "id": "epijihDhOQkT"
      },
      "source": [
        "# 원본\r\n",
        "for t in range(1, int(input())+1):\r\n",
        "    operator = input().split()\r\n",
        "    stack = []\r\n",
        "    for op in operator:\r\n",
        "        if op.isdigit():\r\n",
        "            stack.append(int(op))\r\n",
        "        elif op == '.':\r\n",
        "            break\r\n",
        "        else:\r\n",
        "            if len(stack) < 2 or not (type(stack[-1]) == int and type(stack[-2]) == int):\r\n",
        "                stack[0] = 'error'\r\n",
        "                break\r\n",
        "            elif op == '+':\r\n",
        "                stack.append(stack.pop() + stack.pop())\r\n",
        "            elif op == '-':\r\n",
        "                stack.append(stack.pop() - stack.pop())\r\n",
        "            elif op == '*':\r\n",
        "                stack.append(stack.pop() * stack.pop())\r\n",
        "            elif op == '/':\r\n",
        "                stack.append(stack.pop() / stack.pop())\r\n",
        "    print(\"#%d %s\" %(t, str(stack[0])))"
      ],
      "execution_count": null,
      "outputs": []
    },
    {
      "cell_type": "code",
      "metadata": {
        "colab": {
          "base_uri": "https://localhost:8080/"
        },
        "id": "u75b2HzoWpUJ",
        "outputId": "bfda59ba-0a20-452e-8cd7-9c49270651a6"
      },
      "source": [
        "# 수정본\r\n",
        "for t in range(1, 2):\r\n",
        "    operator = ['5', '3', '1', '+', '.']  #['10', '5','/','4','+','.']\r\n",
        "    stack = []\r\n",
        "    for op in operator:\r\n",
        "        if op.isdigit():\r\n",
        "            stack.append(int(op))\r\n",
        "        elif op == '.':\r\n",
        "            break\r\n",
        "        else:\r\n",
        "            if len(stack) < 2: # or not (type(stack[-1]) == int and type(stack[-2]) == int):\r\n",
        "                stack[0] = 'error'\r\n",
        "                break\r\n",
        "            B = stack.pop()\r\n",
        "            A = stack.pop()            \r\n",
        "            if op == '+':\r\n",
        "                stack.append(A + B)\r\n",
        "            elif op == '-':    \r\n",
        "                stack.append(A - B)\r\n",
        "            elif op == '*':\r\n",
        "                stack.append(A * B)\r\n",
        "            elif op == '/':\r\n",
        "                stack.append(int(A / B))\r\n",
        "    \r\n",
        "    print(\"#%d %s\" %(t, str(stack[0])))"
      ],
      "execution_count": null,
      "outputs": [
        {
          "output_type": "stream",
          "text": [
            "#1 5\n"
          ],
          "name": "stdout"
        }
      ]
    },
    {
      "cell_type": "code",
      "metadata": {
        "colab": {
          "base_uri": "https://localhost:8080/"
        },
        "id": "T0x1um6ZOlK0",
        "outputId": "d7715dfd-c9e1-42fe-b20b-19bd59837c11"
      },
      "source": [
        "# 5 3 1 + . \r\n",
        "operator = {'+': (lambda a, b: a + b), \r\n",
        "            '-': (lambda a, b: a - b), \r\n",
        "            '*': (lambda a, b: a * b), \r\n",
        "            '/': (lambda a, b: a // b)}\r\n",
        " \r\n",
        "def calculate(arr):\r\n",
        "    stack = []\r\n",
        "    for s in arr[0 : len(arr) - 1]:   # arr[0 : -1]:\r\n",
        "        if s.isdigit():\r\n",
        "            stack.append(int(s))\r\n",
        "        elif len(stack) < 2:\r\n",
        "            return 'error'\r\n",
        "        else:\r\n",
        "            x = operator[s](stack.pop(-2), stack.pop(-1))\r\n",
        "            print(x, s)\r\n",
        "            stack.append(x)\r\n",
        " \r\n",
        "    return stack[0]\r\n",
        " \r\n",
        "T = 1 #int(input())\r\n",
        "for t in range(1, T + 1):\r\n",
        "    arr = ['5', '3', '1', '+', '.'] #input().split()   # 자체가 list 이기 때문에  list(input().split()) 이렇게 하지 말자~^^@\r\n",
        "    print('#%d %s' % (t, calculate(arr)))"
      ],
      "execution_count": null,
      "outputs": [
        {
          "output_type": "stream",
          "text": [
            "4 +\n",
            "#1 5\n"
          ],
          "name": "stdout"
        }
      ]
    },
    {
      "cell_type": "code",
      "metadata": {
        "colab": {
          "base_uri": "https://localhost:8080/"
        },
        "id": "XbIoYPmJO_BK",
        "outputId": "5782d68f-0629-48fd-dbd3-8f9b87e25c4d"
      },
      "source": [
        "calc = {'+': (lambda a, b: a+b),\r\n",
        "         '*': (lambda a, b: a*b),\r\n",
        "         '-': (lambda a, b: a-b),\r\n",
        "         '/': (lambda a, b: a/b)}\r\n",
        " \r\n",
        "def get_result(postfix):\r\n",
        "    stack = []\r\n",
        "    for token in postfix:\r\n",
        "        if token.isdigit():\r\n",
        "            stack.append(int(token))\r\n",
        "        elif token == '.':\r\n",
        "            return stack[0]\r\n",
        "        else:\r\n",
        "            if len(stack) > 1:\r\n",
        "                b = stack.pop()\r\n",
        "                a = stack.pop()\r\n",
        "                stack.append(calc[token](a, b))\r\n",
        "            else:\r\n",
        "                return 'error'\r\n",
        " \r\n",
        "T = 1 #int(input())\r\n",
        "for t in range(1, T+1):\r\n",
        "    code = ['5', '3', '1', '+', '.']  # input().split()\r\n",
        "    ans = get_result(code)\r\n",
        "    print('#%d %s' % (t, ans))"
      ],
      "execution_count": null,
      "outputs": [
        {
          "output_type": "stream",
          "text": [
            "#1 5\n"
          ],
          "name": "stdout"
        }
      ]
    },
    {
      "cell_type": "code",
      "metadata": {
        "colab": {
          "base_uri": "https://localhost:8080/"
        },
        "id": "bEGn2IToPmKU",
        "outputId": "ebaa7a34-4b9f-4dde-8fd6-87c278bea0cf"
      },
      "source": [
        "def calc(words):\r\n",
        "    # '.' 제거\r\n",
        "    words.pop()\r\n",
        "    stack = []\r\n",
        "    for word in words:\r\n",
        "        # 숫자인 경우 stack에 추가\r\n",
        "        if word.isdigit():\r\n",
        "            stack.append(int(word))\r\n",
        "        # 연산이 불가한 경우 : 연산자가 왔는데 숫자가 2개보다 적은 경우\r\n",
        "        elif len(stack) < 2:\r\n",
        "            return 'error'\r\n",
        "        # 연산자가 왔을때 연산 가능한 경우\r\n",
        "        else:\r\n",
        "            a = operator[word](stack.pop(-2), stack.pop(-1))\r\n",
        "            stack.append(a)\r\n",
        "    return a\r\n",
        "\r\n",
        "operator = {'+': (lambda a, b: a + b), \r\n",
        "            '-': (lambda a, b: a - b), \r\n",
        "            '*': (lambda a, b: a * b), \r\n",
        "            '/': (lambda a, b: a // b)}\r\n",
        "\r\n",
        "T = 1 # int(input())\r\n",
        "\r\n",
        "for tc in range(1, T + 1):\r\n",
        "    words = ['5', '3', '1', '+', '.'] #input().split()\r\n",
        "    res = calc(words)\r\n",
        "    print('#%d %s' % (tc, res))"
      ],
      "execution_count": null,
      "outputs": [
        {
          "output_type": "stream",
          "text": [
            "#1 4\n"
          ],
          "name": "stdout"
        }
      ]
    },
    {
      "cell_type": "code",
      "metadata": {
        "colab": {
          "base_uri": "https://localhost:8080/"
        },
        "id": "BC5KB470QXXA",
        "outputId": "6945a65c-fd99-4cb9-d05b-cd6252d807b0"
      },
      "source": [
        "op = {'+', '-', '*', '/'}\r\n",
        "T = 1 #int(input())\r\n",
        "for t in range(1, T+1):\r\n",
        "    N = ['5', '3', '1', '+', '.']  #list(input().split())\r\n",
        "    stack = []\r\n",
        "    result = 0\r\n",
        "    for i in N:\r\n",
        "        if i == '.':\r\n",
        "            if len(stack) > 1:\r\n",
        "                result = 'error'\r\n",
        "            else:\r\n",
        "                result = str(stack.pop())\r\n",
        "        elif i not in op:\r\n",
        "            stack.append(int(i))\r\n",
        "        else:\r\n",
        "            if len(stack) < 2:\r\n",
        "                result = 'error'\r\n",
        "                break\r\n",
        "\r\n",
        "            B = stack.pop()\r\n",
        "            A = stack.pop()\r\n",
        "            if i == '+':\r\n",
        "                stack.append(A + B)\r\n",
        "            elif i == '-':\r\n",
        "                stack.append(A - B)\r\n",
        "            elif i == '*':\r\n",
        "                stack.append(A * B)\r\n",
        "            else:\r\n",
        "                stack.append(int(A / B))\r\n",
        "                \r\n",
        "    print('#%d %s' % (t, result))"
      ],
      "execution_count": null,
      "outputs": [
        {
          "output_type": "stream",
          "text": [
            "#1 error\n"
          ],
          "name": "stdout"
        }
      ]
    },
    {
      "cell_type": "markdown",
      "metadata": {
        "id": "EzLpOBv3Q_VC"
      },
      "source": [
        "## 2.미로"
      ]
    },
    {
      "cell_type": "code",
      "metadata": {
        "id": "AgnjloMEiR36"
      },
      "source": [
        "def get_start_position(a, n):\r\n",
        "    for i in range(n):\r\n",
        "        for j in range(n):\r\n",
        "            if a[i][j] == 2:\r\n",
        "                return i, j\r\n",
        "    return 'error'           \r\n",
        "\r\n",
        "# 미로 -> 정점에 대한 정보(좌표)\r\n",
        "# 만약, 3 정보를 만나면 종료  \r\n",
        "# 정점과 연결된 다른 정점으로 이동 (상,하, 좌,우 정점 중 0값이 적혀있으면서 방문하지 않았던 정점)\r\n",
        "# 방문 표기 -> 입력 정보를 수정 또는 새로운 visit 배열을 준비\r\n",
        "drc = [[-1, 0], [1, 0], [0, -1], [0, 1]]  # 상하좌우\r\n",
        "def DFS_miro(cr, cc):\r\n",
        "    # 방문표시\r\n",
        "    visit[cr][cc] = 1  \r\n",
        "\r\n",
        "    # 종료\r\n",
        "    if miro[cr][cc] == 3:\r\n",
        "        global ans\r\n",
        "        ans = 1\r\n",
        "        return\r\n",
        "        \r\n",
        "    # DFS 호출\r\n",
        "    for dr, dc in drc:\r\n",
        "        nr = cr + dr\r\n",
        "        nc = cc + dc\r\n",
        "\r\n",
        "        # nr, nc가 miro 내부인지 확인\r\n",
        "        if nr < 0 or nr >=N or nc < 0 or nc >=N: continue\r\n",
        "        # 연결되었으면서 방문하지 않은 정점\r\n",
        "        if miro[nr][nc] != 1 and visit[nr][nc] == 0:\r\n",
        "            DFS_miro(nr, nc)\r\n",
        "\r\n",
        "\r\n",
        "'''\r\n",
        "        # nr, nc가 miro 내부인지 확인\r\n",
        "        if 0 <= nr < N and 0 <= nc < N:\r\n",
        "            # 연결되었으면서 방문하지 않은 정점\r\n",
        "            if miro[nr][nc] == 0 and visit[nr][nc]==0:\r\n",
        "                DFS_miro(nr, nc)\r\n",
        "'''\r\n",
        "\r\n",
        "T = int(input())\r\n",
        " \r\n",
        "for t in range(1, T+1):\r\n",
        "    N = int(input())\r\n",
        "    miro = [list(map(int, input())) for _ in range(N)]   # 테두리 없는 경우\r\n",
        "    visit = [[0]*N for _ in range(N)]  # 0으로 채워진 N * N 배열 준비 (0 : 방문전, 1 : 방문후)\r\n",
        "    sr, sc = get_start_position(miro, N)\r\n",
        "    ans = 0\r\n",
        "    DFS_miro(sr, sc)\r\n",
        "    print('#%d %d' % (t, ans))"
      ],
      "execution_count": null,
      "outputs": []
    },
    {
      "cell_type": "code",
      "metadata": {
        "id": "FVOfggSIRAtY"
      },
      "source": [
        "# FF(Flood Fill)\r\n",
        "\r\n",
        "def dfs(a, b):\r\n",
        "    \r\n",
        "    if a < 0 or a > N-1 or b < 0 or b > N-1:\r\n",
        "        return\r\n",
        "\r\n",
        "    if miro[a][b] == 3:\r\n",
        "        global ans\r\n",
        "        ans = 1\r\n",
        "        return\r\n",
        "\r\n",
        "    if miro[a][b] == 0 or miro[a][b] == 2:\r\n",
        "        miro[a][b] = 1\r\n",
        "        dfs(a-1, b)\r\n",
        "        dfs(a+1, b)\r\n",
        "        dfs(a, b-1)\r\n",
        "        dfs(a, b+1)\r\n",
        "    return\r\n",
        " \r\n",
        " \r\n",
        "T = int(input())\r\n",
        " \r\n",
        "for t in range(1, T+1):\r\n",
        "    N = int(input())\r\n",
        "    miro = [list(map(int, input())) for _ in range(N)]\r\n",
        "    start_x = 0\r\n",
        "    start_y = 0\r\n",
        "    for i in range(N):\r\n",
        "        for j in range(N):\r\n",
        "            if miro[i][j] == 2:\r\n",
        "                start_x = i\r\n",
        "                start_y = j\r\n",
        "                break   # break 를 하면 j 만 종료됨 -> 함수로 만들면 return으로 해결\r\n",
        " \r\n",
        "    ans = 0\r\n",
        "    dfs(start_x, start_y)\r\n",
        "    print('#%d %d' % (t, ans))"
      ],
      "execution_count": null,
      "outputs": []
    },
    {
      "cell_type": "code",
      "metadata": {
        "id": "IMCgQsNDRJmi"
      },
      "source": [
        "# 3에서 2방향으로 \r\n",
        "T = int(input())\r\n",
        " \r\n",
        "drc = [[-1, 0], [1, 0], [0, -1], [0, 1]]\r\n",
        " \r\n",
        "def find_path(maze, r, c):\r\n",
        "    visited[r][c] = 1\r\n",
        "    if maze[r][c] == 1:\r\n",
        "        return 0\r\n",
        "    if maze[r][c] == 2:\r\n",
        "        return 1\r\n",
        "    else:\r\n",
        "        for dr, dc in drc:\r\n",
        "            if not visited[r+dr][c+dc]:\r\n",
        "                if find_path(maze, r+dr, c+dc):\r\n",
        "                    return 1\r\n",
        "    return 0\r\n",
        " \r\n",
        " \r\n",
        "for tc in range(1, T+1):\r\n",
        "    N = int(input())\r\n",
        "     \r\n",
        "    maze = []\r\n",
        "    for _ in range(N):\r\n",
        "        maze += [[1] + list(map(int, input())) + [1]]\r\n",
        "    maze.insert(0, [1] * (N+2))\r\n",
        "    maze.append([1] * (N+2))\r\n",
        " \r\n",
        "    visited = [[0]*(N+2) for _ in range(N+2)]\r\n",
        " \r\n",
        "    res = find_path(maze, 1, maze[1].index(3))\r\n",
        "    print(\"#%d %d\" % (tc, res))"
      ],
      "execution_count": null,
      "outputs": []
    },
    {
      "cell_type": "code",
      "metadata": {
        "id": "uBhXVfy2S2w2"
      },
      "source": [
        "# 상하좌우\r\n",
        "dy = [-1, 1, 0, 0]\r\n",
        "dx = [0, 0, -1, 1]\r\n",
        " \r\n",
        "def search(sr, sc):\r\n",
        "    print(sr, sc)\r\n",
        "    if miro[sr][sc] == 3:\r\n",
        "        global result\r\n",
        "        result = 1\r\n",
        "        return\r\n",
        "    for i in range(4):\r\n",
        "        r = sr + dy[i]\r\n",
        "        c = sc + dx[i]\r\n",
        "        if 0 <= r < len(miro) and 0 <= c < len(miro[0]) and miro[r][c] != 1:\r\n",
        "            miro[sr][sc] = 1  # 방문표시를 한템포 늦게 - 검증\r\n",
        "            search(r, c)\r\n",
        " \r\n",
        "T = int(input())\r\n",
        "for t in range(1, T+1):\r\n",
        "    N = int(input())\r\n",
        "    miro = [list(map(int, input())) for i in range(N)]\r\n",
        "    result = 0\r\n",
        "    for i in range(len(miro)):\r\n",
        "        for j in range(len(miro[0])):\r\n",
        "            if miro[i][j] == 2:\r\n",
        "                sr = i\r\n",
        "                sc = j\r\n",
        "    #miro[sr][sc] = 1\r\n",
        "    search(sr, sc)\r\n",
        "    print('#%d %d' %(t,result))    "
      ],
      "execution_count": null,
      "outputs": []
    },
    {
      "cell_type": "code",
      "metadata": {
        "id": "nwLg9Z2aevM2"
      },
      "source": [
        "drc = [[1, 0], [-1, 0], [0, 1], [0, -1]]\r\n",
        "def DFS_maze(arr, sr, sc):\r\n",
        "    visited = [[0]*(N+2) for _ in range(N+2)]\r\n",
        "    stack = [(sr, sc)]  # 시작정점 넣기\r\n",
        "    flag = 0  # 찾지 못했다\r\n",
        "    while stack:\r\n",
        "        now_r, now_c = stack.pop()\r\n",
        "        if (now_r, now_c) not in visited:  # ->  not in 연산을 사용하지 않도록  visited[now_r][now_c] == 0\r\n",
        "            visited.append((now_r, now_c))  # 방문표시  visited[now_r][now_c] == 1\r\n",
        "            if arr[now_r][now_c] == 3: # 종료\r\n",
        "                flag = 1 # 찾았다\r\n",
        "                break\r\n",
        "        for i in range(4):\r\n",
        "            nr = now_r+drc[i][0]\r\n",
        "            nc = now_c+drc[i][1]\r\n",
        "            if arr[nr][nc] != 1 and (nr, nc) not in visited:  # visited[nr][nc] == 0\r\n",
        "                stack.append((nr, nc))\r\n",
        "    return flag\r\n",
        "\r\n",
        "T = int(input())\r\n",
        "for t in range(1, T+1):\r\n",
        "    N = int(input())\r\n",
        "    maze = [[1]+list(map(int, input()))+[1] for _ in range(N)]\r\n",
        "    maze.insert(0, [1]*(N+2))\r\n",
        "    maze.append([1]*(N+2))\r\n",
        "    sr, sc = 0, 0\r\n",
        "    for r in range(1, N+1):\r\n",
        "        for c in range(1, N+1):\r\n",
        "            if maze[r][c] == 2:\r\n",
        "                sr, sc = r, c\r\n",
        "                break\r\n",
        "    result = DFS_maze(maze, sr, sc)\r\n",
        "    print(\"#%d %d\" % (t, result))"
      ],
      "execution_count": null,
      "outputs": []
    },
    {
      "cell_type": "markdown",
      "metadata": {
        "id": "zNAKpO9gOr-b"
      },
      "source": [
        "## 3.토너먼트"
      ]
    },
    {
      "cell_type": "code",
      "metadata": {
        "id": "ULiVpj5HPEKA"
      },
      "source": [
        "def gawibawibo(p1, p2):\r\n",
        "    if x[p1] == 1 and x[p2] == 1:\r\n",
        "        return p1\r\n",
        "    elif x[p1] == 1 and x[p2] == 2:\r\n",
        "        return p2\r\n",
        "    elif x[p1] == 1 and x[p2] == 3:\r\n",
        "        return p1\r\n",
        "    if x[p1] == 2 and x[p2] == 1:\r\n",
        "        return p1\r\n",
        "    elif x[p1] == 2 and x[p2] == 2:\r\n",
        "        return p1\r\n",
        "    elif x[p1] == 2 and x[p2] == 3:\r\n",
        "        return p2\r\n",
        "    if x[p1] == 3 and x[p2] == 1:\r\n",
        "        return p2\r\n",
        "    elif x[p1] == 3 and x[p2] == 2:\r\n",
        "        return p1\r\n",
        "    elif x[p1] == 3 and x[p2] == 3:\r\n",
        "        return p1\r\n",
        " \r\n",
        "def game(s, e):\r\n",
        "    if s == e:\r\n",
        "        return s\r\n",
        "    m = (s+e) // 2\r\n",
        "    w1 = game(s, m)\r\n",
        "    w2 = game(m+1, e)\r\n",
        "    return gawibawibo(w1, w2)\r\n",
        " \r\n",
        "T = int(input())\r\n",
        "for t in range(1, T+1):\r\n",
        "    N = int(input())\r\n",
        "    x = list(map(int, input().split()))\r\n",
        "    s, e = 0, len(x)-1\r\n",
        "    result = game(s, e) + 1\r\n",
        "    print('#%d %d' % (t, result))"
      ],
      "execution_count": null,
      "outputs": []
    },
    {
      "cell_type": "code",
      "metadata": {
        "id": "L-4JpOwrO8qI"
      },
      "source": [
        "def game(a, b):\r\n",
        "    temp = (cards[a], cards[b])\r\n",
        "    if temp == (1, 3) or temp == (2, 1) or temp == (3, 2) or cards[a] == cards[b]:\r\n",
        "        return a\r\n",
        "    return b\r\n",
        " \r\n",
        "def tnmt(s, e):\r\n",
        "    if s == e:\r\n",
        "        return s\r\n",
        "    mid = (s+e)//2\r\n",
        "    f = tnmt(s, mid)\r\n",
        "    s = tnmt(mid+1, e)\r\n",
        "    return game(f, s)\r\n",
        " \r\n",
        "T = int(input())\r\n",
        "for t in range(1, T+1):\r\n",
        "    N = int(input())\r\n",
        "    cards = list(map(int, input().split()))\r\n",
        "    winner = tnmt(0, N-1) + 1\r\n",
        "    print(\"#%d %d\" % (t, winner))"
      ],
      "execution_count": null,
      "outputs": []
    },
    {
      "cell_type": "code",
      "metadata": {
        "id": "8Hk52biGOrvD"
      },
      "source": [
        "# 가위 바위 보\r\n",
        "# lookup table\r\n",
        "srp_game = [[0, 0, 0, 0]\r\n",
        "            [0, 1, 0, 1],\r\n",
        "            [0, 1, 1, 0], \r\n",
        "            [0, 0, 1, 1]]\r\n",
        " \r\n",
        " \r\n",
        "def DFS_winner(s, e):\r\n",
        "    if s == e:\r\n",
        "        return s\r\n",
        " \r\n",
        "    m = (s + e) // 2\r\n",
        "    w1 = DFS_winner(s, m)\r\n",
        "    w2 = DFS_winner(m+1, e)\r\n",
        " \r\n",
        "/   return w1 if srp_game[algo_class[w1]][algo_class[w2]] == 1 else w2\r\n",
        " \r\n",
        " \r\n",
        "T = int(input())\r\n",
        "for test_case in range(1, T+1):\r\n",
        "    N = int(input())\r\n",
        "    algo_class = list(map(int, input().split())) \r\n",
        "    ans = DFS_winner(0, N-1) + 1\r\n",
        "    print('#%d %d' % (test_case, ans))"
      ],
      "execution_count": null,
      "outputs": []
    },
    {
      "cell_type": "code",
      "metadata": {
        "id": "MGsLA1rROvPe"
      },
      "source": [
        "# (a, b) 로 생각하고 결과 판단\r\n",
        "# a가 이기고 지고 비기는 경우로 보면 됨\r\n",
        "rsp = {(1, 1): 'draw', (1, 2): 'lose', (1, 3): 'win',\r\n",
        "       (2, 1): 'win', (2, 2): 'draw', (2, 3): 'lose',\r\n",
        "       (3, 1): 'lose', (3, 2): 'win', (3, 3): 'draw'}\r\n",
        "def get_winner(a, b):\r\n",
        "    result = rsp.get((card_number[a], card_number[b]))\r\n",
        "    if result == 'win' or result == 'draw':\r\n",
        "        return a\r\n",
        "    return b\r\n",
        " \r\n",
        "def make_group(s, e):\r\n",
        "    if s == e:\r\n",
        "        return s\r\n",
        "    mid = (s + e) // 2\r\n",
        "    return get_winner(make_group(s, mid), make_group(mid+1, e))\r\n",
        " \r\n",
        "T = int(input())\r\n",
        "for t in range(1, T+1):\r\n",
        "    N = int(input())\r\n",
        "    card_number = list(map(int, input().split()))\r\n",
        "    ans = make_group(0, N-1)\r\n",
        "    print('#%d %d' % (t, ans+1))"
      ],
      "execution_count": null,
      "outputs": []
    },
    {
      "cell_type": "markdown",
      "metadata": {
        "id": "A_E1eG-_Qa4M"
      },
      "source": [
        "## 4.배열 최소 합"
      ]
    },
    {
      "cell_type": "code",
      "metadata": {
        "id": "MtOGXmEuZ2uj"
      },
      "source": [
        "경우의 수\r\n",
        "0행 1행 2행\r\n",
        "0    1   2\r\n",
        "0    2   1\r\n",
        "1    0   2\r\n",
        "1    2   0\r\n",
        "2    0   1\r\n",
        "2    1   0"
      ],
      "execution_count": null,
      "outputs": []
    },
    {
      "cell_type": "code",
      "metadata": {
        "id": "AN-SSS1QQeSe"
      },
      "source": [
        "# 11608 배열 최소 합 - 제출용\r\n",
        " \r\n",
        "def DFS_a(level):\r\n",
        "     \r\n",
        "    global minimum\r\n",
        "    sum_num = 0\r\n",
        "    for k in range(level):\r\n",
        "        sum_num += numbers[k][arr[k] - 1]\r\n",
        "        if sum_num > minimum:\r\n",
        "            return\r\n",
        " \r\n",
        "    # 종료 조건\r\n",
        "    if level == N:\r\n",
        "        minimum = sum_num\r\n",
        "        return\r\n",
        "     \r\n",
        "    # DFS 확산\r\n",
        "    for i in range(1, N+1):\r\n",
        "        if visited[i]: continue\r\n",
        "        visited[i] = 1\r\n",
        "        arr[level] = i\r\n",
        "        DFS_a(level + 1)\r\n",
        "        arr[level] = 0\r\n",
        "        visited[i] = 0\r\n",
        " "
      ],
      "execution_count": null,
      "outputs": []
    },
    {
      "cell_type": "code",
      "metadata": {
        "id": "3HsHdNT-QraV"
      },
      "source": [
        "def minsum(r):\r\n",
        "    global tmp, mn\r\n",
        "    if tmp > mn:\r\n",
        "        return\r\n",
        "    if r == N:\r\n",
        "        if tmp < mn:\r\n",
        "            mn = tmp\r\n",
        "        return\r\n",
        "    for c in range(N):\r\n",
        "        if check[c] == 0:\r\n",
        "            check[c] = 1\r\n",
        "            tmp += num[r][c]\r\n",
        "            minsum(r+1)\r\n",
        "            check[c] = 0\r\n",
        "            tmp -= num[r][c]\r\n",
        " \r\n",
        "T = int(input())\r\n",
        "for t in range(1, T+1):\r\n",
        "    N = int(input())\r\n",
        "    num = [list(map(int, input().split())) for _ in range(N)]\r\n",
        "    check = [0]*N\r\n",
        "    tmp, mn = 0, 10000000\r\n",
        "    minsum(0)\r\n",
        "    print(\"#%d %d\" % (t, mn))\r\n",
        "About"
      ],
      "execution_count": null,
      "outputs": []
    },
    {
      "cell_type": "code",
      "metadata": {
        "id": "YQHvAnBnQyff"
      },
      "source": [
        "def dfs(n, level):\r\n",
        "    global _min\r\n",
        "    # 가지치기 안하면 시간초과 발생\r\n",
        "    if sum(result) > _min:\r\n",
        "        return\r\n",
        " \r\n",
        "    if level == n:\r\n",
        "        if sum(result) < _min:\r\n",
        "            _min = sum(result)\r\n",
        "            return\r\n",
        "        return\r\n",
        " \r\n",
        "    for x in range(n):\r\n",
        "        if x in col:\r\n",
        "            continue\r\n",
        "        col.append(x)\r\n",
        "        result.append(nums[level][x])\r\n",
        "        dfs(n, level + 1)\r\n",
        "        col.remove(x)\r\n",
        "        result.remove(nums[level][x])\r\n",
        " \r\n",
        " \r\n",
        "for tc in range(1, 1 + int(input())):\r\n",
        "    N = int(input())\r\n",
        "    nums = [list(map(int, input().split())) for _ in range(N)]\r\n",
        "    col = []\r\n",
        "    result = []\r\n",
        "    _min = float('inf')\r\n",
        "    dfs(N, 0)\r\n",
        "    print('#{} {}'.format(tc, _min))"
      ],
      "execution_count": null,
      "outputs": []
    }
  ]
}