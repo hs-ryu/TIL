{
  "nbformat": 4,
  "nbformat_minor": 0,
  "metadata": {
    "colab": {
      "name": "3월4일_코드리뷰.ipynb",
      "provenance": [],
      "collapsed_sections": []
    },
    "kernelspec": {
      "name": "python3",
      "display_name": "Python 3"
    }
  },
  "cells": [
    {
      "cell_type": "markdown",
      "metadata": {
        "id": "uKFqQlO3q1xh"
      },
      "source": [
        "## 피자굽기"
      ]
    },
    {
      "cell_type": "code",
      "metadata": {
        "id": "ZLWBQK6Gq1Pd"
      },
      "source": [
        "# 김영주님 코드 - 발표용 ppt파일과 함께 살펴 보시면 좋을 듯 합니다.\r\n",
        "for t in range(1, int(input())+1):\r\n",
        "    n, m = map(int, input().split())\r\n",
        "    cheese = list(map(int, input().split()))\r\n",
        "    queue = [i for i in range(n)]\r\n",
        "    temp = n\r\n",
        "    while len(queue) > 1:\r\n",
        "        i = queue.pop(0)\r\n",
        "        cheese[i] //= 2\r\n",
        "        if cheese[i] > 0:\r\n",
        "            queue.append(i)\r\n",
        "        elif temp < m:\r\n",
        "            queue.append(temp)\r\n",
        "            temp += 1\r\n",
        "    print('#%s %s' % (t, queue[0]+1))"
      ],
      "execution_count": null,
      "outputs": []
    },
    {
      "cell_type": "code",
      "metadata": {
        "id": "LJKj2YH8rN0e"
      },
      "source": [
        "## 속도가 제일 빠르네요 ^_^\r\n",
        "## 그런데 오류가 있답니다 어디가 오류일까요?\r\n",
        "T = int(input())\r\n",
        "for t in range(1, T+1):\r\n",
        "    N, M = map(int, input().split())\r\n",
        "    CI = list(map(int, input().split()))\r\n",
        "    Q = [i for i in range(N)]   # 화덕에 들어가는 치즈번호\r\n",
        "    idx = [i for i in range(N, M)]  # 화덕에 들어가지 않은 치즈번호\r\n",
        "    \r\n",
        "    # 치즈 녹이고나서 0인지 검사, 화덕에 들어갈 다음 치즈 번호 선택이 잘못됨\r\n",
        "    while len(Q) > 1:\r\n",
        "        x = Q.pop(0)\r\n",
        "        if CI[x] == 0:\r\n",
        "            if idx:\r\n",
        "                i = idx.pop()\r\n",
        "                Q.append(i)\r\n",
        "        else:\r\n",
        "            CI[x] //= 2\r\n",
        "            Q.append(x)\r\n",
        "    print('#%d %d' %(t,Q[0] + 1))"
      ],
      "execution_count": null,
      "outputs": []
    },
    {
      "cell_type": "code",
      "metadata": {
        "id": "DtrvVR6L27bw"
      },
      "source": [
        "    while True:\r\n",
        "        if len(oven) == 1:\r\n",
        "            break"
      ],
      "execution_count": null,
      "outputs": []
    },
    {
      "cell_type": "code",
      "metadata": {
        "id": "dQkxIyJy28CP"
      },
      "source": [
        "    while len(oven) > 1:"
      ],
      "execution_count": null,
      "outputs": []
    },
    {
      "cell_type": "code",
      "metadata": {
        "id": "xXLOE_ZnsH6y"
      },
      "source": [
        "# 코드를 조금 더 깔끔한 형식으로 변경, 논리적으로 변경\r\n",
        "T = int(input())\r\n",
        "for t in range(1, T+1):\r\n",
        "    N, M = map(int, input().split())\r\n",
        "    pizza = list(map(int, input().split()))\r\n",
        "    oven = [i for i in range(N)]\r\n",
        "    idx = N-1\r\n",
        "    while True:\r\n",
        "        if len(oven) == 1:\r\n",
        "            break\r\n",
        "        target = oven.pop(0)\r\n",
        "        pizza[target] //= 2\r\n",
        "        if pizza[target] > 0:\r\n",
        "            oven.append(target)\r\n",
        "        elif pizza[target] == 0:  #  어떤 것을 먼저 비교하는 것이 좋은지 생각해 보세요.\r\n",
        "            idx += 1\r\n",
        "            if idx > M-1:\r\n",
        "                continue\r\n",
        "            oven.append(idx)\r\n",
        "    print(\"#%d %d\" % (t, oven[0]+1))"
      ],
      "execution_count": null,
      "outputs": []
    },
    {
      "cell_type": "markdown",
      "metadata": {
        "id": "JjLwoMqXsx70"
      },
      "source": [
        "## 노드의 거리"
      ]
    },
    {
      "cell_type": "code",
      "metadata": {
        "id": "dXbNztsWqyiN"
      },
      "source": [
        "# Queue에 거리에 대한 정보 넣기\r\n",
        "# 비가중치 그래프 A - B\r\n",
        "# Queue에 동일한 정점에 대한 정보가 여러 번 들어가는 경우는 사용하지 않는 것이 좋음\r\n",
        "\r\n",
        "def BFS():\r\n",
        "    while q:\r\n",
        "        x, l = q.pop(0)\r\n",
        "        for n in to_go[x]:\r\n",
        "            if n == end:\r\n",
        "                return l+1\r\n",
        "            elif n not in visited:\r\n",
        "                q.append((n, l+1))\r\n",
        "    return 0\r\n",
        " \r\n",
        " \r\n",
        "for t in range(1, int(input())+1):\r\n",
        "    V, E = map(int, input().split())\r\n",
        "    to_go = [[] for _ in range(V+1)]\r\n",
        "    for e in range(E):\r\n",
        "        s, e = map(int, input().split())\r\n",
        "        to_go[s].append(e)\r\n",
        "        to_go[e].append(s)\r\n",
        "    start, end = map(int, input().split())\r\n",
        "    #find = 0\r\n",
        "    q = [(start, 0)]\r\n",
        "    visited = [start]\r\n",
        "    print(\"#%d %d\" %(t, BFS()))"
      ],
      "execution_count": null,
      "outputs": []
    },
    {
      "cell_type": "code",
      "metadata": {
        "id": "OHrN_iTntZNr"
      },
      "source": [
        "# visited에 거리 정보를 넣는 방법\r\n",
        "def bfs_graph(g, start, end):\r\n",
        "    queue = [start]\r\n",
        "    visited[start] = 0\r\n",
        "    while queue:\r\n",
        "        a = queue.pop(0)\r\n",
        "        level = visited[a]\r\n",
        "        for i in g[a]:\r\n",
        "            if i == end:\r\n",
        "                return level + 1\r\n",
        "            if not visited[i]:\r\n",
        "                visited[i] = level + 1\r\n",
        "                queue.append(i)\r\n",
        "    return 0\r\n",
        " \r\n",
        " \r\n",
        "for tc in range(1, 1 + int(input())):\r\n",
        "    V, E = map(int, input().split())\r\n",
        "    edges = [tuple(map(int, input().split())) for _ in range(E)]\r\n",
        "    S, G = map(int, input().split())\r\n",
        "    AL = [[] for _ in range(V + 1)]\r\n",
        "    visited = [0] * (V + 1)\r\n",
        "    for s, e in edges:\r\n",
        "        AL[s].append(e)\r\n",
        "        AL[e].append(s)\r\n",
        " \r\n",
        "    print('#{} {}'.format(tc, bfs_graph(AL, S, G)))\r\n",
        "About"
      ],
      "execution_count": null,
      "outputs": []
    },
    {
      "cell_type": "code",
      "metadata": {
        "id": "HQl40m-rtxfG"
      },
      "source": [
        "def BFS(S, G):\r\n",
        "    q = []\r\n",
        "    visited = [0] * (V + 1)\r\n",
        "    visited[S] = 1\r\n",
        "    q.append(S)\r\n",
        "    while q:\r\n",
        "        target = q.pop(0)\r\n",
        "        if target == G:\r\n",
        "            break\r\n",
        "        for i in AL[target]:\r\n",
        "            if not visited[i]:\r\n",
        "                visited[i] = visited[target] + 1\r\n",
        "                q.append(i)\r\n",
        "    return visited   # G를 방문하지 않은 경우 값은?\r\n",
        " \r\n",
        "for t in range(1, int(input())+1):\r\n",
        "    V, E = map(int, input().split())\r\n",
        "    AL = [[] for _ in range(V+1)]\r\n",
        "    for i in range(E):\r\n",
        "        s, e = map(int, input().split())\r\n",
        "        AL[s].append(e)\r\n",
        "        AL[e].append(s)\r\n",
        "    S, G = map(int, input().split())\r\n",
        "    ans = BFS(S, G)[G] - 1  # 무조건 -1을 해도 좋을까?\r\n",
        "    print('#%d %d' % (t, ans))"
      ],
      "execution_count": null,
      "outputs": []
    },
    {
      "cell_type": "code",
      "metadata": {
        "id": "Vxt_3rlIuMB1"
      },
      "source": [
        "def get_distance(start, end):\r\n",
        "    queue = []\r\n",
        "    visited = [0] * (V + 1)\r\n",
        "    visited[start] = 1\r\n",
        "    queue.append(start)\r\n",
        "    while queue:\r\n",
        "        target = queue.pop(0)\r\n",
        "        for x in AL[target]:\r\n",
        "            if not visited[x]:\r\n",
        "                if x == end:\r\n",
        "                    return visited[target]\r\n",
        "                visited[x] = visited[target] + 1\r\n",
        "                queue.append(x)\r\n",
        "    return 0\r\n",
        " \r\n",
        " \r\n",
        "T = int(input())\r\n",
        "for t in range(1, T+1):\r\n",
        "    V, E = map(int, input().split())\r\n",
        "    AL = [[] for _ in range(V + 1)]\r\n",
        "    for _ in range(E):\r\n",
        "        s, e = map(int, input().split())\r\n",
        "        AL[s].append(e)\r\n",
        "        AL[e].append(s)\r\n",
        "    start, end = map(int, input().split())\r\n",
        "     \r\n",
        "    ans = get_distance(start, end)\r\n",
        "    print('#%d %d' % (t, ans))"
      ],
      "execution_count": null,
      "outputs": []
    },
    {
      "cell_type": "markdown",
      "metadata": {
        "id": "t4ChPr-Sue5Y"
      },
      "source": [
        "## 미로의 거리"
      ]
    },
    {
      "cell_type": "code",
      "metadata": {
        "id": "zctvUGuSugYG"
      },
      "source": [
        "dxy = [[0, 1], [1, 0], [0, -1], [-1, 0]]\r\n",
        " \r\n",
        " \r\n",
        "def get_start_position(a, n):\r\n",
        "    for i in range(n):\r\n",
        "        for j in range(n):\r\n",
        "            if a[i][j] == 2:\r\n",
        "                return i, j\r\n",
        "    return 'error'\r\n",
        " \r\n",
        " \r\n",
        "def bfs_maze(cr, cc):\r\n",
        "    level = 0  # 0으로 했을 때 문제는 없나?\r\n",
        "    queue = [(cr, cc)]\r\n",
        "    visit[cr][cc] = level\r\n",
        " \r\n",
        "    while queue:\r\n",
        "        nr, nc = queue.pop(0)\r\n",
        "        level = visit[nr][nc]\r\n",
        "        for dr, dc in dxy:\r\n",
        "            row = nr + dr\r\n",
        "            col = nc + dc\r\n",
        "            if row < 0 or row >= N or col < 0 or col >= N:\r\n",
        "                continue\r\n",
        "                \r\n",
        "            if maze[row][col] == 0 and visit[row][col] == 0:\r\n",
        "                visit[row][col] = level + 1\r\n",
        "                queue.append((row, col))\r\n",
        "            elif maze[row][col] == 3:\r\n",
        "                return level\r\n",
        "    return 0\r\n",
        " \r\n",
        " \r\n",
        "for tc in range(1, 1 + int(input())):\r\n",
        "    N = int(input())\r\n",
        "    maze = [list(map(int, input())) for _ in range(N)]\r\n",
        "    visit = [[0] * N for _ in range(N)]\r\n",
        " \r\n",
        "    sr, sc = get_start_position(maze, N)\r\n",
        "    result = bfs_maze(sr, sc)\r\n",
        " \r\n",
        "    print('#{} {}'.format(tc, result))"
      ],
      "execution_count": null,
      "outputs": []
    },
    {
      "cell_type": "code",
      "metadata": {
        "id": "aKPpSzL-vGML"
      },
      "source": [
        "def get_start():\r\n",
        "    for i in range(n):\r\n",
        "        for j in range(n):\r\n",
        "            if maze[i][j] == '2':\r\n",
        "                return i, j\r\n",
        "  \r\n",
        "t = int(input())\r\n",
        "for test_case in range(1, t + 1):\r\n",
        "    n = int(input())\r\n",
        "    maze = [list(input()) for _ in range(n)]\r\n",
        "  \r\n",
        "    queue, answer = [(*get_start(), 0)], 0\r\n",
        "    while queue:\r\n",
        "        i, j, depth = queue.pop(0)\r\n",
        "  \r\n",
        "        if (not 0 <= i < n) or (not 0 <= j < n):\r\n",
        "            continue\r\n",
        "  \r\n",
        "        if maze[i][j] == '3':\r\n",
        "            answer = depth - 1\r\n",
        "            break\r\n",
        "  \r\n",
        "        if maze[i][j] in ('0', '2'):\r\n",
        "            maze[i][j] = '1'\r\n",
        "            depth += 1\r\n",
        "            queue += [(i + 1, j, depth), (i - 1, j, depth),\r\n",
        "                      (i, j + 1, depth), (i, j - 1, depth)]\r\n",
        "  \r\n",
        "    print('#%d %d' % (test_case, answer))"
      ],
      "execution_count": null,
      "outputs": []
    },
    {
      "cell_type": "code",
      "metadata": {
        "id": "UPN6fjvmvap2"
      },
      "source": [
        "def BFS_maze(sr, sc, er, ec):\r\n",
        "    drc = [[1, 0], [-1, 0], [0, 1], [0, -1]]\r\n",
        "    visited = [[0]*(N+2) for _ in range(N+2)]\r\n",
        "    distance = [[0]*(N+2) for _ in range(N+2)]\r\n",
        "    queue = []\r\n",
        "    queue.append((sr, sc))\r\n",
        "    visited[sr][sc] = True\r\n",
        "    distance[sr][sc] = 0\r\n",
        "    cnt = 1\r\n",
        "    while queue:\r\n",
        "        for _ in range(len(queue)):\r\n",
        "            tr, tc = queue.pop(0)\r\n",
        "            for i in range(4):\r\n",
        "                nr = tr+drc[i][0]\r\n",
        "                nc = tc+drc[i][1]\r\n",
        "                if maze[nr][nc] != 1 and visited[nr][nc] == 0:\r\n",
        "                    visited[nr][nc] = True\r\n",
        "                    distance[nr][nc] = cnt\r\n",
        "                    queue.append((nr, nc))\r\n",
        "        cnt += 1\r\n",
        "    result = distance[er][ec]\r\n",
        "    if result > 0:\r\n",
        "        return result-1\r\n",
        "    else:\r\n",
        "        return 0\r\n",
        " \r\n",
        "T = int(input())\r\n",
        "for t in range(1, T+1):\r\n",
        "    N = int(input())\r\n",
        "    maze = [[1]*(N+2)]\r\n",
        "    for _ in range(N):\r\n",
        "        maze.append([1] + list(map(int, input())) + [1])\r\n",
        "    maze.append([1]*(N+2))\r\n",
        "    sr, sc = 0, 0\r\n",
        "    er, ec = 0, 0\r\n",
        "    for r in range(1, N+1):\r\n",
        "        for c in range(1, N+1):\r\n",
        "            if maze[r][c] == 2:\r\n",
        "                sr, sc = r, c\r\n",
        "            elif maze[r][c] == 3:\r\n",
        "                er, ec = r, c\r\n",
        " \r\n",
        "    print(\"#%d %d\" % (t, BFS_maze(sr, sc, er, ec)))"
      ],
      "execution_count": null,
      "outputs": []
    },
    {
      "cell_type": "markdown",
      "metadata": {
        "id": "fePp6INBEORB"
      },
      "source": [
        "## 조합(Combination)"
      ]
    },
    {
      "cell_type": "markdown",
      "metadata": {
        "id": "47jUma2ZQqfV"
      },
      "source": [
        "### n개 원소에서 k개를 선택"
      ]
    },
    {
      "cell_type": "code",
      "metadata": {
        "id": "Z6BKi9UYEMqc"
      },
      "source": [
        "# 1. 경우의 수 나열\r\n",
        "a = [1, 2, 3, 4]\r\n",
        "n = 4, k = 2\r\n",
        " i  j\r\n",
        "{1, 2}\r\n",
        "{1, 3}\r\n",
        "{1, 4}\r\n",
        "{2, 3}\r\n",
        "{2, 4}\r\n",
        "{3, 4}\r\n",
        "\r\n",
        "for i in range(n-1):\r\n",
        "    for j in range(i+1, n):\r\n",
        "        print(a[i], a[j])\r\n",
        "\r\n",
        "n = 4, k = 3\r\n",
        "{1, 2, 3}\r\n",
        "{1, 2, 4}\r\n",
        "{1, 3, 4}\r\n",
        "{2, 3, 4}"
      ],
      "execution_count": null,
      "outputs": []
    },
    {
      "cell_type": "code",
      "metadata": {
        "id": "J0SEQkwREMnQ"
      },
      "source": [
        "{1, 2, 3, 4, 5}\r\n",
        "n = 5, k = 3\r\n",
        "{1, 2, 3}\r\n",
        "{1, 2, 4}\r\n",
        "{1, 2, 5}\r\n",
        "{1, 3, 4}\r\n",
        "{1, 3, 5}\r\n",
        "{1, 4, 5}\r\n",
        "{2, 3, 4}\r\n",
        "{2, 3, 5}\r\n",
        "{2, 4, 5}\r\n",
        "{3, 4, 5}"
      ],
      "execution_count": null,
      "outputs": []
    },
    {
      "cell_type": "code",
      "metadata": {
        "id": "PJH1Ury2Gs0Y"
      },
      "source": [
        "a = [1, 2, 3, 4]\r\n",
        "n = 4\r\n",
        "k = 2\r\n",
        "for i in range(n-1):   # n-k+1\r\n",
        "    for j in range(i+1, n):\r\n",
        "        print(a[i], a[j])"
      ],
      "execution_count": null,
      "outputs": []
    },
    {
      "cell_type": "code",
      "metadata": {
        "id": "tvpZZqKOHKdp"
      },
      "source": [
        "a = [1, 2, 3, 4, 5]\r\n",
        "n = 5\r\n",
        "#k = 3\r\n",
        "for i in range(0, n-2):   \r\n",
        "    for j in range(i+1, n-1):\r\n",
        "        for k in range(j+1, n):\r\n",
        "            print(a[i], a[j], a[k])"
      ],
      "execution_count": null,
      "outputs": []
    },
    {
      "cell_type": "code",
      "metadata": {
        "id": "K66FjaGtKAS7"
      },
      "source": [
        "# n=5, k=3, level=0  -> 3   n - k + level + 1\r\n",
        "# n=5, k=3, level=1  -> 4\r\n",
        "# n=5, k=3, level=2  -> 5"
      ],
      "execution_count": null,
      "outputs": []
    },
    {
      "cell_type": "code",
      "metadata": {
        "id": "zTd9VbFYKO9n"
      },
      "source": [
        "# n=5, k=2, level=0  -> 4   n - k + level + 1\r\n",
        "# n=5, k=2, level=1  -> 5"
      ],
      "execution_count": null,
      "outputs": []
    },
    {
      "cell_type": "code",
      "metadata": {
        "colab": {
          "base_uri": "https://localhost:8080/"
        },
        "id": "8_ZIdcnOIPnz",
        "outputId": "bfd4d86e-efe1-47a6-afb1-1c60efe4cfa7"
      },
      "source": [
        "# 재귀\r\n",
        "# 숫자를 하나 뽑는 동작\r\n",
        "a = [1, 2, 3, 4, 5]\r\n",
        "n = 5\r\n",
        "k = 3\r\n",
        "m = 10\r\n",
        "arr = [0]*k\r\n",
        "sol = []\r\n",
        "def combi(level, start, S):\r\n",
        "    if S > m: return\r\n",
        "    if level >= k:\r\n",
        "        if S == m: \r\n",
        "            sol.append(arr.copy())\r\n",
        "        return\r\n",
        "\r\n",
        "    for i in range(start,n - k + level + 1):   \r\n",
        "        arr[level] = a[i]\r\n",
        "        combi(level+1, i+1, S+a[i])\r\n",
        "\r\n",
        "combi(0, 0, 0)\r\n",
        "print(sol, len(sol))"
      ],
      "execution_count": null,
      "outputs": [
        {
          "output_type": "stream",
          "text": [
            "[[1, 4, 5], [2, 3, 5]] 2\n"
          ],
          "name": "stdout"
        }
      ]
    },
    {
      "cell_type": "markdown",
      "metadata": {
        "id": "wKLMjlJ-MPlJ"
      },
      "source": [
        "![image.png](data:image/png;base64,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)"
      ]
    },
    {
      "cell_type": "markdown",
      "metadata": {
        "id": "0VY58hbaQxn2"
      },
      "source": [
        "### 중복을 허용한 조합"
      ]
    },
    {
      "cell_type": "code",
      "metadata": {
        "id": "fOAZy0RxEMj0"
      },
      "source": [
        "a = ['배', '감']\r\n",
        "n = 2\r\n",
        "k = 3\r\n",
        "\r\n",
        "배 배 배\r\n",
        "배 배 감\r\n",
        "배 감 감\r\n",
        "감 감 감"
      ],
      "execution_count": null,
      "outputs": []
    },
    {
      "cell_type": "code",
      "metadata": {
        "id": "73GJ9pLrRKPj"
      },
      "source": [
        "a = ['배', '감', '귤']\r\n",
        "n = 3\r\n",
        "k = 3\r\n",
        "\r\n",
        "a  b  c\r\n",
        "배 배 배\r\n",
        "배 배 감\r\n",
        "배 배 귤\r\n",
        "배 감 감\r\n",
        "배 감 귤\r\n",
        "배 귤 귤\r\n",
        "감 감 감\r\n",
        "감 감 귤\r\n",
        "감 귤 귤\r\n",
        "귤 귤 귤"
      ],
      "execution_count": null,
      "outputs": []
    },
    {
      "cell_type": "code",
      "metadata": {
        "id": "EVyzgdmmSnDA"
      },
      "source": [
        "# 반복문 작성\r\n",
        "a = ['배', '감', '귤']\r\n",
        "n = 3\r\n",
        "for i in range(0, n):\r\n",
        "    for j in range(i, n):\r\n",
        "        for k in range(j, n):\r\n",
        "            print(a[i], a[j], a[k])"
      ],
      "execution_count": null,
      "outputs": []
    },
    {
      "cell_type": "code",
      "metadata": {
        "colab": {
          "base_uri": "https://localhost:8080/"
        },
        "id": "Omi8pR_5WwU4",
        "outputId": "1f132569-293c-4741-d38b-d0e393ab7ac1"
      },
      "source": [
        "# 재귀로 작성\r\n",
        "a = ['배', '감', '귤']\r\n",
        "n = 3\r\n",
        "k = 3\r\n",
        "arr = [0]*k\r\n",
        "def combination(level, start):\r\n",
        "    # 종료조건\r\n",
        "    if level >= k:\r\n",
        "        print(arr)\r\n",
        "        return\r\n",
        "    for i in range(start, n):\r\n",
        "        arr[level] = a[i]\r\n",
        "        combination(level+1, i)\r\n",
        "\r\n",
        "combination(0, 0)        "
      ],
      "execution_count": null,
      "outputs": [
        {
          "output_type": "stream",
          "text": [
            "['배', '배', '배']\n",
            "['배', '배', '감']\n",
            "['배', '배', '귤']\n",
            "['배', '감', '감']\n",
            "['배', '감', '귤']\n",
            "['배', '귤', '귤']\n",
            "['감', '감', '감']\n",
            "['감', '감', '귤']\n",
            "['감', '귤', '귤']\n",
            "['귤', '귤', '귤']\n"
          ],
          "name": "stdout"
        }
      ]
    },
    {
      "cell_type": "markdown",
      "metadata": {
        "id": "3ftcNd5WXoYv"
      },
      "source": [
        "![image.png](data:image/png;base64,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)"
      ]
    }
  ]
}