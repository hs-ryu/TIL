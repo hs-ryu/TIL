{
  "nbformat": 4,
  "nbformat_minor": 0,
  "metadata": {
    "colab": {
      "name": "3월3일_코드리뷰.ipynb",
      "provenance": [],
      "collapsed_sections": []
    },
    "kernelspec": {
      "name": "python3",
      "display_name": "Python 3"
    }
  },
  "cells": [
    {
      "cell_type": "markdown",
      "metadata": {
        "id": "G2ULaCtdlYNV"
      },
      "source": [
        "## 암호생성기"
      ]
    },
    {
      "cell_type": "code",
      "metadata": {
        "id": "Qsg8vBO9lXXe"
      },
      "source": [
        "# turn 변수 사용 1 ~ 5를 반복\r\n",
        "cnt = 0\r\n",
        "for _ in range(1, 11):\r\n",
        "    t = input()\r\n",
        "    queue = list(map(int, input().split()))\r\n",
        "    turn = 1\r\n",
        "    while True:  # cycle\r\n",
        "        queue.append(queue.pop(0) - turn)\r\n",
        "        cnt += 1\r\n",
        "        if queue[-1] <= 0:\r\n",
        "            queue[-1] = 0\r\n",
        "            break\r\n",
        "        turn = 1 if turn == 5 else turn + 1\r\n",
        "    print(cnt)\r\n",
        "    print('#%s' % t, *queue)   # print(1, 2, 3, 4, 5, 6, 7, 8)  print('1 2 3 4 5 6 7 8')"
      ],
      "execution_count": null,
      "outputs": []
    },
    {
      "cell_type": "code",
      "metadata": {
        "id": "YmNHq7MYmDDr"
      },
      "source": [
        "for _ in range(10):\r\n",
        "    tc = input()\r\n",
        "    queue = list(map(int, input().split()))\r\n",
        "     \r\n",
        "    i = 1\r\n",
        "    while queue[-1] != 0:\r\n",
        "        if i == 6: i = 1\r\n",
        "        current = queue.pop(0) - i\r\n",
        "        if current < 0:\r\n",
        "            current = 0\r\n",
        "        queue.append(current)\r\n",
        "        i += 1\r\n",
        "     \r\n",
        "    print(\"#%s\" % tc, end=\" \")\r\n",
        "    print(*queue)"
      ],
      "execution_count": null,
      "outputs": []
    },
    {
      "cell_type": "code",
      "metadata": {
        "id": "fOSficFElv0E"
      },
      "source": [
        "# 다음 코드에서 수정하고 싶은곳은?\r\n",
        "# 1. x = arr.pop(0)    x-l[i] =>  x = arr.pop(0) - l[i]\r\n",
        "# 2. i += 1   if i == 5: i = 0 =>  i = 0 if i == 4 else i+1\r\n",
        "def make_pw(arr):\r\n",
        "    l = [1, 2, 3, 4, 5]  #  빼는 값을 직접 입력 받아서 사용한다면!\r\n",
        "    i = 0\r\n",
        "    while True:\r\n",
        "        x = arr.pop(0)\r\n",
        "        if x-l[i] <= 0:\r\n",
        "            arr.append(0)\r\n",
        "            break\r\n",
        "        arr.append(x-l[i])\r\n",
        "        i += 1\r\n",
        "        if i == 5:\r\n",
        "            i = 0\r\n",
        "    return arr\r\n",
        " \r\n",
        "for _ in range(1, 11):\r\n",
        "    N = int(input())\r\n",
        "    code = list(map(int, input().split()))\r\n",
        "    complete = ' '.join(map(str, make_pw(code)))\r\n",
        "    print(\"#%d %s\" % (N, complete))"
      ],
      "execution_count": null,
      "outputs": []
    },
    {
      "cell_type": "code",
      "metadata": {
        "id": "LrrgPTynle65"
      },
      "source": [
        "def get_password(q):\r\n",
        "    cnt = 1\r\n",
        "    while q:\r\n",
        "        iszero = q.pop(0)\r\n",
        "        iszero -= cnt\r\n",
        "        if iszero <= 0:\r\n",
        "            q.append(0)\r\n",
        "            return q\r\n",
        "        q.append(iszero)\r\n",
        "        cnt += 1\r\n",
        "        if cnt > 5:\r\n",
        "            cnt = 1\r\n",
        " \r\n",
        "T = 10\r\n",
        "for t in range(1, T+1):\r\n",
        "    N = int(input()) # case num\r\n",
        "    pw = list(map(int, input().split()))\r\n",
        "    length = len(pw)\r\n",
        "    print('#%d' % N, *(get_password(pw)))"
      ],
      "execution_count": null,
      "outputs": []
    },
    {
      "cell_type": "code",
      "metadata": {
        "id": "Xe1kVdrunDdw"
      },
      "source": [
        "for t in range(1, 11):\r\n",
        "    tc = int(input())\r\n",
        "    queue = list(map(int, input().split()))\r\n",
        " \r\n",
        "    front, rear = 0, 0\r\n",
        "    N = 8\r\n",
        "    i = 1 \r\n",
        "    while True:\r\n",
        "        queue[front] -= i \r\n",
        "        if queue[front] <= 0:\r\n",
        "            queue[front] = 0\r\n",
        "            front = (front + 1) % N\r\n",
        "            break\r\n",
        " \r\n",
        "        front = (front + 1) % N\r\n",
        "        i += 1\r\n",
        "        if i > 5:\r\n",
        "            i = 1\r\n",
        " \r\n",
        "    result = queue[front:] + queue[: front]\r\n",
        " \r\n",
        "    print('#%d' % t, *result)"
      ],
      "execution_count": null,
      "outputs": []
    },
    {
      "cell_type": "code",
      "metadata": {
        "id": "kaOcYB-J79oD"
      },
      "source": [
        "import sys\r\n",
        "\r\n",
        "a = list()\r\n",
        "for i in range(10):\r\n",
        "    a.append(i)\r\n",
        "    print(i, sys.getsizeof(a))"
      ],
      "execution_count": null,
      "outputs": []
    },
    {
      "cell_type": "code",
      "metadata": {
        "id": "d3V52nnP8Zq3"
      },
      "source": [
        "import sys\r\n",
        "\r\n",
        "a = list(range(8))\r\n",
        "for i in range(8):\r\n",
        "    a.pop(0)\r\n",
        "    print(i, sys.getsizeof(a))"
      ],
      "execution_count": null,
      "outputs": []
    },
    {
      "cell_type": "code",
      "metadata": {
        "id": "5Ou0xgJgoLcV"
      },
      "source": [
        "# 8번의 싸이클을 돌면 모두 제자리로 돌아오는 큰 싸이클이 되며 각 자리가 15씩 감소한다.\r\n",
        "for _ in range(1, 11):\r\n",
        "    t = int(input())\r\n",
        "    num = list(map(int, input().split()))\r\n",
        "    # 가장 작은 숫자를 15로 나눈 몫보다 1적은 수를 구해 그 수*15를 모든 요소에서 뺄 것이다.\r\n",
        "    # 그러면 마지막 제자리 싸이클을 돌기 전 원래의 순서대로 되어있는 상태가 된다.\r\n",
        "    min_15x = min(num)//15 - 1\r\n",
        "    queue = list(map(lambda x: x - 15*min_15x, num))\r\n",
        "    # 싸이클을 구현해 0이 생길 때까지 돌린다. 위의 작업을 안하고 아래 작업만 해도 되긴 하다.\r\n",
        "    cnt = 0\r\n",
        "\r\n",
        "    # 함수화 하게 되면 flag의 사용을 없앨 수 있음 => return을 사용하여 한 번에 종료 가능\r\n",
        "    flag = 1\r\n",
        "    while flag:\r\n",
        "        for i in range(1,6):\r\n",
        "            temp = queue.pop(0)-i\r\n",
        "            cnt += 1\r\n",
        "            if temp <= 0:\r\n",
        "                queue.append(0)\r\n",
        "                flag = 0\r\n",
        "                break\r\n",
        "            else:\r\n",
        "                queue.append(temp)\r\n",
        "    print(cnt)\r\n",
        "    print('#%d %s' % (t, ' '.join(map(str, queue))))\r\n",
        "\r\n",
        "# 65\r\n",
        "#1 6 2 2 9 4 1 3 0"
      ],
      "execution_count": null,
      "outputs": []
    },
    {
      "cell_type": "code",
      "metadata": {
        "id": "371_1y6Emu7x"
      },
      "source": [
        "def make_password():\r\n",
        "    while True:\r\n",
        "        for value in range(1, 6):\r\n",
        "            first = a.pop(0) - value\r\n",
        "            if first <= 0:\r\n",
        "                a.append(0)\r\n",
        "                return\r\n",
        "            a.append(first)\r\n",
        "    \r\n",
        "\r\n",
        "T = 10\r\n",
        "for _ in range(1, T+1):\r\n",
        "    t = int(input())\r\n",
        "    a = list(map(int, input().split()))\r\n",
        "    make_password()\r\n",
        "    print('#%d %s' % (t, ' '.join(map(str, a))))"
      ],
      "execution_count": null,
      "outputs": []
    },
    {
      "cell_type": "code",
      "metadata": {
        "id": "7HH9yqDlnQBc"
      },
      "source": [
        "# 시간이 다른 코드 보다 오래 걸린 이유는?\r\n",
        "# 1225. 암호생성기\r\n",
        " \r\n",
        "T = 10\r\n",
        " \r\n",
        "for t in range(1, T+1):\r\n",
        "    tc = int(input())\r\n",
        "    num = list(map(int, input().split()))\r\n",
        " \r\n",
        "    i = 1\r\n",
        "    while 0 not in num:   # not in, in 연산이 while과 사용되면 검색 작업을 반복하는 것임\r\n",
        "        for j in range(5):\r\n",
        "            k = num.pop(0) - (i+j)  # i값이 1로만 사용되는데 이것을 덧셈하는 것은 불필요함 range(1, 6) 수정 \r\n",
        "            if k <= 0:\r\n",
        "                k = 0\r\n",
        "                num.append(k) # k는 항상 0이 되어야 하므로 num.append(0)으로 작성하고, k=0 을 제거\r\n",
        "                break\r\n",
        "            else:\r\n",
        "                num.append(k)\r\n",
        "        else:\r\n",
        "            i = 1\r\n",
        "        \r\n",
        "        ans = ' '.join(map(str, num))  # ans를 구하는 작업이 while 문 내부에 있으므로 불필요한 반복이 되었음\r\n",
        "    print('#%d %s'%(tc, ans))\r\n"
      ],
      "execution_count": null,
      "outputs": []
    },
    {
      "cell_type": "markdown",
      "metadata": {
        "id": "Umg-tHeHo9pN"
      },
      "source": [
        "## BFS 코드 구현"
      ]
    },
    {
      "cell_type": "code",
      "metadata": {
        "id": "60E2Bx-To8tX"
      },
      "source": [
        "# 수정하고 싶은 곳이 있어요.  어디일까요!\r\n",
        "def BFS(s):\r\n",
        "    visited = [0]*(V+1)\r\n",
        "    queue = []\r\n",
        "    visit = []\r\n",
        "    visited[s] = True\r\n",
        "    queue.append(s)\r\n",
        "    while queue:\r\n",
        "        target = queue.pop(0)\r\n",
        "        visit.append(target)\r\n",
        "        for x in AL[target]:\r\n",
        "            if visited[x]: continue\r\n",
        "            visited[x] = True\r\n",
        "            visited.add(x)\r\n",
        "            queue.append(x)\r\n",
        "    return visit\r\n",
        " \r\n",
        "T = int(input())\r\n",
        "V, E = map(int, input().split())\r\n",
        "AL = [[] for _ in range(V+1)]\r\n",
        "for _ in range(E):\r\n",
        "    m, n = map(int, input().split())\r\n",
        "    AL[m].append(n)\r\n",
        "    AL[n].append(m)  # 무방향, 양방향인 경우 \r\n",
        "\r\n",
        "route = ' '.join(map(str, BFS(1)))\r\n",
        "print(\"#%d %s\" % (T, route))"
      ],
      "execution_count": null,
      "outputs": []
    },
    {
      "cell_type": "code",
      "metadata": {
        "id": "U0gB2FpjsikY"
      },
      "source": [
        "def BFS(S):\r\n",
        "    visit = []\r\n",
        "    visited[S] = True\r\n",
        "    queue.append(S)\r\n",
        "    while queue:\r\n",
        "        target = queue.pop(0)\r\n",
        "        visit.append(target)\r\n",
        "        for i in AL[target]:\r\n",
        "            if not visited[i]:\r\n",
        "                visited[i] = True\r\n",
        "                queue.append(i)\r\n",
        "    return visit\r\n",
        " \r\n",
        " \r\n",
        "T = int(input())\r\n",
        "for test_case in range(1, T+1):\r\n",
        "    V, E = map(int, input().split())\r\n",
        "    edges = [tuple(map(int, input().split())) for _ in range(E)]\r\n",
        "    AL = [[] for _ in range(V+1)]\r\n",
        "    for s, e in edges:\r\n",
        "        AL[s] += [e]\r\n",
        "        AL[e] += [s]\r\n",
        "    \r\n",
        "    # queue, visited 를 BFS내부에서 사용하고, 반환되는 것도 아님!\r\n",
        "    # BFS 내부에서 선언해서 사용하는 것이 깔끔함\r\n",
        "    queue = []\r\n",
        "    visited = [0]*(V+1)\r\n",
        "     \r\n",
        "    ans = ' '.join(map(str, BFS(1)))\r\n",
        "    print('#%d %s' % (test_case, ans))"
      ],
      "execution_count": null,
      "outputs": []
    },
    {
      "cell_type": "code",
      "metadata": {
        "id": "RmUiSbbRpcBc"
      },
      "source": [
        "def enqueue(num):\r\n",
        "    global rear\r\n",
        "    rear = (rear + 1) % n\r\n",
        "    if rear == front:\r\n",
        "        print('queue overflow')\r\n",
        "    queue[rear] = num\r\n",
        " \r\n",
        "def dequeue():\r\n",
        "    global front\r\n",
        "    if front == rear:\r\n",
        "        print('queue underflow')\r\n",
        "    front = (front + 1) % n\r\n",
        "    return queue[front]\r\n",
        " \r\n",
        "def queueEmpty():\r\n",
        "    return front == rear\r\n",
        " \r\n",
        "t = int(input())\r\n",
        "for test_case in range(1, t + 1):\r\n",
        "    n, m = map(int, input().split())\r\n",
        " \r\n",
        "    edge = [[] for _ in range(n + 1)]\r\n",
        "    for _ in range(m):\r\n",
        "        s, e = map(int, input().split())\r\n",
        "        edge[s] += [e]\r\n",
        "        edge[e] += [s]\r\n",
        " \r\n",
        "    # create queue\r\n",
        "    ans = []\r\n",
        "    visit = {1}  # set\r\n",
        "    front = rear = 0\r\n",
        "    queue = [None] * (n + 1)\r\n",
        "    enqueue(1)\r\n",
        " \r\n",
        "    while not queueEmpty():\r\n",
        "        cur = dequeue()\r\n",
        "        ans += [cur]\r\n",
        " \r\n",
        "        for node in edge[cur]:\r\n",
        "            if node in visit:   # for문 내부에서 탐색을 반복하게 됨\r\n",
        "                continue\r\n",
        "            enqueue(node)\r\n",
        "            visit.add(node)  # set에 추가\r\n",
        " \r\n",
        "    print('#%d %s' % (test_case, ' '.join(map(str, ans))))"
      ],
      "execution_count": null,
      "outputs": []
    },
    {
      "cell_type": "code",
      "metadata": {
        "id": "m-yjJTN6pcuQ"
      },
      "source": [
        "def BFS(s):\r\n",
        "    visited = [0] * len(AL)\r\n",
        "    queue = []\r\n",
        "    visit_path = []\r\n",
        "    visited[s] = True\r\n",
        "    queue.append(s) \r\n",
        "    while queue:\r\n",
        "        target = queue.pop(0)\r\n",
        "        visit_path.append(target)\r\n",
        "        for x in AL[target]:\r\n",
        "            if not visited[x]:\r\n",
        "                visited[x] = True\r\n",
        "                queue.append(x)\r\n",
        " \r\n",
        "    return visit_path\r\n",
        " \r\n",
        " \r\n",
        "T = int(input())\r\n",
        "for t in range(1, T + 1):\r\n",
        "    V, E = map(int, input().split())\r\n",
        "    AL = [[] for _ in range(V + 1)]\r\n",
        "    for _ in range(E):\r\n",
        "        v1, v2 = map(int, input().split())\r\n",
        "        AL[v1].append(v2)\r\n",
        "        AL[v2].append(v1)\r\n",
        " \r\n",
        "    path = ' '.join(map(str, BFS(1)))\r\n",
        "    print('#%d %s' % (t, path))"
      ],
      "execution_count": null,
      "outputs": []
    },
    {
      "cell_type": "code",
      "metadata": {
        "id": "Za2458lWqOIs"
      },
      "source": [
        "def BFS(x):\r\n",
        "    print('step 1', x, visited, q)\r\n",
        "    cnt = 0\r\n",
        "    for n in to_go[x]:\r\n",
        "        if n not in visited:\r\n",
        "            q.append(n)\r\n",
        "            visited.append(n)\r\n",
        "            cnt += 1\r\n",
        "\r\n",
        "    print('step 2', x, visited, q, cnt)\r\n",
        "    for _ in range(cnt):\r\n",
        "        BFS(q.pop(0))\r\n",
        " \r\n",
        "t = int(input())\r\n",
        "N, V = map(int, input().split())\r\n",
        "to_go = [[] for _ in range(N+1)]\r\n",
        "for i in range(V):\r\n",
        "    s, e = map(int, input().split())\r\n",
        "    to_go[s].append(e)\r\n",
        "\r\n",
        "q = [1]\r\n",
        "visited = [1]\r\n",
        "BFS(q.pop(0))\r\n",
        "print(\"#%d\" %t, end=' ')\r\n",
        "print(*visited)"
      ],
      "execution_count": null,
      "outputs": []
    }
  ]
}